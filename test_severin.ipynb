{
 "cells": [
  {
   "cell_type": "code",
   "execution_count": 1,
   "id": "ccf30af0-6150-4842-aca3-2fd14a7d3dbd",
   "metadata": {
    "tags": []
   },
   "outputs": [],
   "source": [
    "import cv2\n",
    "import os\n",
    "import numpy as np\n",
    "import pandas as pd"
   ]
  },
  {
   "cell_type": "code",
   "execution_count": null,
   "id": "e4658682-2b86-4040-ac3b-0017fdf8492d",
   "metadata": {
    "tags": []
   },
   "outputs": [],
   "source": [
    "def load_images_from_folder(folder):\n",
    "    images = []\n",
    "    for filename in os.listdir(folder):\n",
    "        img_path = os.path.join(folder, filename)\n",
    "        if os.path.isfile(img_path):\n",
    "            img = cv2.imread(img_path)\n",
    "            if img is not None:\n",
    "                x, y, width, height = 54, 35, 335, 217\n",
    "                img = img[y:y+height, x:x+width]\n",
    "                images.append([filename[:-4],img])\n",
    "    return images\n",
    "\n",
    "image_list = load_images_from_folder(\"../Bat_Orientation_Calls/\")\n",
    "image_array = np.array(image_list,dtype=\"object\")\n",
    "\n",
    "# flatten array\n",
    "image_array_flat = []\n",
    "for el in image_array:\n",
    "    image_array_flat.append([el[0],el[1].reshape(-1,3).reshape(-1)]) # second rehsape to flatten pixel\n",
    "image_array_flat = np.array(image_array_flat,dtype=\"object\")\n",
    "\n",
    "# Optionally, save the NumPy array to a file\n",
    "#np.save('image_array.npy', image_array_flat)\n",
    "\n",
    "#cv2.imshow(\"img\",image_array[0][1])\n",
    "#cv2.waitKey(0)\n",
    "\n",
    "# convert to dataframe\n",
    "images_df = pd.DataFrame(image_array_flat,columns=['Image ID','Data'])\n",
    "df.to_csv('images.csv', index=False)\n",
    "images_df.head\n"
   ]
  },
  {
   "cell_type": "code",
   "execution_count": null,
   "id": "c4ae82a5-a371-404c-adaf-f10fce6d7e55",
   "metadata": {},
   "outputs": [],
   "source": []
  }
 ],
 "metadata": {
  "kernelspec": {
   "display_name": "Python 3 (ipykernel)",
   "language": "python",
   "name": "python3"
  },
  "language_info": {
   "codemirror_mode": {
    "name": "ipython",
    "version": 3
   },
   "file_extension": ".py",
   "mimetype": "text/x-python",
   "name": "python",
   "nbconvert_exporter": "python",
   "pygments_lexer": "ipython3",
   "version": "3.9.6"
  }
 },
 "nbformat": 4,
 "nbformat_minor": 5
}

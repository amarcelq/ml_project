{
 "cells": [
  {
   "cell_type": "code",
   "execution_count": 1,
   "id": "ccf30af0-6150-4842-aca3-2fd14a7d3dbd",
   "metadata": {
    "tags": []
   },
   "outputs": [],
   "source": [
    "import cv2\n",
    "import os\n",
    "import numpy as np\n",
    "import pandas as pd"
   ]
  },
  {
   "cell_type": "code",
   "execution_count": 9,
   "id": "e4658682-2b86-4040-ac3b-0017fdf8492d",
   "metadata": {
    "tags": []
   },
   "outputs": [
    {
     "data": {
      "text/plain": [
       "<bound method NDFrame.head of        Image ID                                               Data\n",
       "0    1507315168  [[[7, 3, 12], [21, 6, 26], [20, 7, 30], [15, 2...\n",
       "1    1507516148  [[[6, 4, 14], [22, 5, 23], [21, 6, 25], [21, 2...\n",
       "2    1507412312  [[[8, 1, 7], [22, 4, 21], [11, 2, 4], [0, 0, 0...\n",
       "3    1509301314  [[[0, 0, 0], [0, 0, 0], [0, 0, 0], [0, 0, 0], ...\n",
       "4    1508102995  [[[8, 2, 11], [21, 6, 25], [15, 12, 39], [18, ...\n",
       "..          ...                                                ...\n",
       "577  1506713421  [[[8, 2, 10], [22, 2, 16], [22, 3, 18], [18, 9...\n",
       "578  1509244645  [[[7, 3, 12], [21, 6, 27], [21, 2, 15], [22, 5...\n",
       "579  1509306462  [[[5, 5, 16], [19, 8, 33], [21, 6, 25], [21, 2...\n",
       "580  1509509293  [[[7, 0, 4], [2, 0, 0], [21, 6, 27], [21, 6, 2...\n",
       "581  1509260730  [[[8, 1, 8], [21, 2, 13], [19, 8, 32], [19, 1,...\n",
       "\n",
       "[582 rows x 2 columns]>"
      ]
     },
     "execution_count": 9,
     "metadata": {},
     "output_type": "execute_result"
    }
   ],
   "source": [
    "def load_images_from_folder(folder):\n",
    "    images = []\n",
    "    for filename in os.listdir(folder):\n",
    "        img_path = os.path.join(folder, filename)\n",
    "        if os.path.isfile(img_path):\n",
    "            img = cv2.imread(img_path)\n",
    "            if img is not None:\n",
    "                x, y, width, height = 54, 35, 335, 217\n",
    "                img = img[y:y+height, x:x+width]\n",
    "                images.append([filename[:-4],img])\n",
    "    return images\n",
    "\n",
    "image_list = load_images_from_folder(\"../Bat_Orientation_Calls/\")\n",
    "image_array = np.array(image_list,dtype=\"object\")\n",
    "\n",
    "# flatten array\n",
    "#image_array_flat = []\n",
    "#for el in image_array:\n",
    "#    image_array_flat.append([el[0],el[1].reshape(-1,3).reshape(-1)]) # second rehsape to flatten pixel\n",
    "#image_array_flat = np.array(image_array_flat,dtype=\"object\")\n",
    "\n",
    "# Optionally, save the NumPy array to a file\n",
    "#np.save('image_array.npy', image_array_flat)\n",
    "\n",
    "#cv2.imshow(\"img\",image_array[0][1])\n",
    "#cv2.waitKey(0)\n",
    "\n",
    "# convert to dataframe\n",
    "images_df = pd.DataFrame(image_array,columns=['Image ID','Data'])\n",
    "images_df.to_pickle('images.pkl')\n",
    "images_flattend_df = pd.DataFrame(image_array,columns=['Image ID','Data'])\n",
    "images_flattend_df.to_pickle('images_flatten.pkl')\n",
    "images_df.head\n"
   ]
  },
  {
   "cell_type": "code",
   "execution_count": null,
   "id": "c4ae82a5-a371-404c-adaf-f10fce6d7e55",
   "metadata": {},
   "outputs": [],
   "source": []
  }
 ],
 "metadata": {
  "kernelspec": {
   "display_name": "Python 3 (ipykernel)",
   "language": "python",
   "name": "python3"
  },
  "language_info": {
   "codemirror_mode": {
    "name": "ipython",
    "version": 3
   },
   "file_extension": ".py",
   "mimetype": "text/x-python",
   "name": "python",
   "nbconvert_exporter": "python",
   "pygments_lexer": "ipython3",
   "version": "3.9.6"
  }
 },
 "nbformat": 4,
 "nbformat_minor": 5
}

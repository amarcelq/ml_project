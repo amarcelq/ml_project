{
 "cells": [
  {
   "cell_type": "code",
   "execution_count": 2,
   "id": "4cd21add",
   "metadata": {
    "tags": []
   },
   "outputs": [],
   "source": [
    "import cv2\n",
    "import os\n",
    "import numpy as np\n",
    "import pandas as pd"
   ]
  },
  {
   "cell_type": "code",
   "execution_count": 3,
   "id": "e4658682-2b86-4040-ac3b-0017fdf8492d",
   "metadata": {
    "tags": []
   },
   "outputs": [
    {
     "name": "stdout",
     "output_type": "stream",
     "text": [
      "Class    Bartfledermaus                  True\n",
      "Bechstein...\n",
      "Data     [8, 2, 10, 22, 4, 21, 22, 4, 21, 22, 5, 24, 22...\n",
      "Name: 0, dtype: object\n",
      "Bartfledermaus                  True\n",
      "Bechsteinfledermaus            False\n",
      "Fledermaus nicht bestimmbar    False\n",
      "Fransenfledermaus              False\n",
      "Große Hufeisennase             False\n",
      "Langohrfledermaus              False\n",
      "Mausohr                        False\n",
      "Schwarzbild                    False\n",
      "Wasserfledermaus               False\n",
      "Name: 776, dtype: object\n"
     ]
    }
   ],
   "source": [
    "def classes_csv_to_encoded_df(files: list, delimiter=\";\") -> pd.DataFrame:\n",
    "    df_classes_all = pd.DataFrame()\n",
    "    for file_path in files:\n",
    "        df_classes = pd.read_csv(file_path, delimiter=delimiter)\n",
    "        df_classes_all = pd.concat([df_classes_all,df_classes])\n",
    "    encoded = pd.get_dummies(df_classes_all[\"Species\"])\n",
    "    df_classes_all.drop(\"Species\", axis=1, inplace=True)\n",
    "    df_classes_all.drop(\"Filename\", axis=1, inplace=True)\n",
    "    df_classes_all = df_classes_all.join(encoded)\n",
    "\n",
    "    return df_classes_all\n",
    "\n",
    "df_classes = classes_csv_to_encoded_df([\"../Auswertung_20220524.csv\",\"../LMU_20180326_class.csv\"])\n",
    "\n",
    "def id_to_class(id: int, df_classes: pd.DataFrame) -> pd.Series:\n",
    "    for row in df_classes.iterrows():\n",
    "        if id == row[1][\"ID\"]:\n",
    "            return row[1].drop(\"ID\")\n",
    "\n",
    "def load_images_from_folder(folder):\n",
    "    images = []\n",
    "    for filename in os.listdir(folder):\n",
    "        img_path = os.path.join(folder, filename)\n",
    "        if os.path.isfile(img_path):\n",
    "            img = cv2.imread(img_path)\n",
    "            if img is not None:\n",
    "                x, y, width, height = 54, 35, 334, 216\n",
    "                img = img[y:y+height, x:x+width]\n",
    "                images.append([id_to_class(int(filename[:-4]),df_classes),img])\n",
    "    return images\n",
    "\n",
    "image_list = load_images_from_folder(\"../Bat_Orientation_Calls/\")\n",
    "image_array = np.array(image_list,dtype=\"object\")\n",
    "\n",
    "# flatten array\n",
    "image_array_flat = []\n",
    "for el in image_array:\n",
    "    image_array_flat.append([el[0],el[1].reshape(-1,3).reshape(-1)]) # second rehsape to flatten pixel\n",
    "image_array_flat = np.array(image_array_flat,dtype=\"object\")\n",
    "\n",
    "# Optionally, save the NumPy array to a file\n",
    "#np.save('image_array.npy', image_array_flat)\n",
    "\n",
    "#cv2.imshow(\"img\",image_array[0][1])\n",
    "#cv2.waitKey(0)\n",
    "\n",
    "# convert to dataframe\n",
    "images_df = pd.DataFrame(image_array,columns=['Class','Data'])\n",
    "images_df.to_pickle('images.pkl')\n",
    "images_flattend_df = pd.DataFrame(image_array_flat,columns=['Class','Data'])\n",
    "images_flattend_df.to_pickle('images_flatten.pkl')\n",
    "\n",
    "#print(images_flattend_df)\n",
    "print(images_flattend_df.iloc[0])\n",
    "print(images_flattend_df.iloc[0][0])\n",
    "\n"
   ]
  },
  {
   "cell_type": "code",
   "execution_count": null,
   "id": "95005186-10ba-4950-8cb2-78a1ed9605d9",
   "metadata": {},
   "outputs": [],
   "source": []
  }
 ],
 "metadata": {
  "kernelspec": {
   "display_name": "Python 3 (ipykernel)",
   "language": "python",
   "name": "python3"
  },
  "language_info": {
   "codemirror_mode": {
    "name": "ipython",
    "version": 3
   },
   "file_extension": ".py",
   "mimetype": "text/x-python",
   "name": "python",
   "nbconvert_exporter": "python",
   "pygments_lexer": "ipython3",
   "version": "3.9.6"
  }
 },
 "nbformat": 4,
 "nbformat_minor": 5
}

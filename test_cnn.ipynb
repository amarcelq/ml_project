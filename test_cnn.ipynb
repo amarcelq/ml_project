{
 "cells": [
  {
   "cell_type": "code",
   "execution_count": 1,
   "id": "ab8a8230-c608-40f8-af6f-03e4e3f0b26c",
   "metadata": {},
   "outputs": [],
   "source": [
    "# test CNN to classify"
   ]
  },
  {
   "cell_type": "code",
   "execution_count": 2,
   "id": "74fa031a-e5ab-4d04-9ddf-f09f0b33fd86",
   "metadata": {},
   "outputs": [],
   "source": [
    "import pandas as pd\n",
    "import numpy as np\n",
    "import tensorflow as tf\n",
    "from tensorflow import keras\n",
    "from keras import layers\n",
    "from sklearn.model_selection import train_test_split\n",
    "import matplotlib.pyplot as plt\n",
    "import cv2 \n",
    "from tensorflow.keras.utils import to_categorical\n",
    "import time"
   ]
  },
  {
   "cell_type": "code",
   "execution_count": 3,
   "id": "c681cc5f-5b02-4ec4-9824-e5cd787eb5c1",
   "metadata": {},
   "outputs": [],
   "source": [
    "# class to track execution time of certain code events\n",
    "class track_time:\n",
    "    def __init__(self):\n",
    "        self.events = []\n",
    "        self.add('Start')\n",
    "    def add(self, name: str) -> None:\n",
    "        if name == \"total\":\n",
    "            raise error(\"Cant use the name 'total'.\")\n",
    "        self.events.append([name,time.time()])\n",
    "    def get_time(self): # calculate time between events and total\n",
    "        self.timed_events = {}\n",
    "        for (n, event) in enumerate(self.events):\n",
    "            elapsed_time = 0\n",
    "            if n+1 == len(self.events):\n",
    "                # last element\n",
    "                elapsed_time = time.time() - event[1]\n",
    "            else:\n",
    "                elapsed_time = self.events[n+1][1] - event[1]\n",
    "            self.timed_events[event[0]] = elapsed_time\n",
    "        self.timed_events['total'] = time.time() - self.events[0][1]\n",
    "        return self.timed_events\n",
    "    def __str__(self):\n",
    "        output = \"\"\n",
    "        if not hasattr(self,'timed_events'):\n",
    "            self.get_time()\n",
    "        output += (\"  Event tracked  |  Duration  \\n\")\n",
    "        output += (\"==============================\\n\")\n",
    "        for name,duration in self.timed_events.items():\n",
    "            output += (\" \"+name+\"\\t\\t\\t| \"+str(round(duration,3))+\"\\n\")\n",
    "        return output"
   ]
  },
  {
   "cell_type": "code",
   "execution_count": 4,
   "id": "0bbed5ec-9365-411a-86d1-3a2af37ef063",
   "metadata": {},
   "outputs": [],
   "source": [
    "# timer\n",
    "timer = track_time()\n",
    "timer.add(\"Read in data\")\n",
    "# load image data s and reshape \n",
    "data = pd.read_pickle('images_df_numerical.pkl')\n",
    "# convert to numpy array\n",
    "(data_images, data_label) = (data['data'],data['Species'])\n",
    "classes = data_label.unique()\n",
    "image_size = data_images[0].size\n",
    "samples = data_images.size\n",
    "image_shape = (216,334,3) # height, width , channel\n",
    "# reshape every row to the image, swap rgbs and scale to 0-1\n",
    "data_images = [\n",
    "    cv2.cvtColor(row.reshape(image_shape), cv2.COLOR_BGR2RGB).astype('float32')/255. \n",
    "    for row in data_images]\n",
    "data_label = [row.astype('int32') for row in data_label]"
   ]
  },
  {
   "cell_type": "code",
   "execution_count": 25,
   "id": "91fcb2b4-e83a-4a10-839c-5da610952c60",
   "metadata": {},
   "outputs": [
    {
     "name": "stdout",
     "output_type": "stream",
     "text": [
      "Model: \"model_1\"\n",
      "_________________________________________________________________\n",
      " Layer (type)                Output Shape              Param #   \n",
      "=================================================================\n",
      " input_2 (InputLayer)        [(None, 216, 334, 3)]     0         \n",
      "                                                                 \n",
      " conv2d_3 (Conv2D)           (None, 214, 332, 32)      896       \n",
      "                                                                 \n",
      " max_pooling2d_2 (MaxPoolin  (None, 107, 166, 32)      0         \n",
      " g2D)                                                            \n",
      "                                                                 \n",
      " conv2d_4 (Conv2D)           (None, 105, 164, 64)      18496     \n",
      "                                                                 \n",
      " max_pooling2d_3 (MaxPoolin  (None, 52, 82, 64)        0         \n",
      " g2D)                                                            \n",
      "                                                                 \n",
      " conv2d_5 (Conv2D)           (None, 50, 80, 64)        36928     \n",
      "                                                                 \n",
      " flatten_1 (Flatten)         (None, 256000)            0         \n",
      "                                                                 \n",
      " dense_2 (Dense)             (None, 512)               131072512 \n",
      "                                                                 \n",
      " dense_3 (Dense)             (None, 64)                32832     \n",
      "                                                                 \n",
      " dense_4 (Dense)             (None, 7)                 455       \n",
      "                                                                 \n",
      "=================================================================\n",
      "Total params: 131162119 (500.34 MB)\n",
      "Trainable params: 131162119 (500.34 MB)\n",
      "Non-trainable params: 0 (0.00 Byte)\n",
      "_________________________________________________________________\n"
     ]
    }
   ],
   "source": [
    "timer.add(\"Build CNN\")\n",
    "### build cnn\n",
    "input_image = keras.Input(shape=image_shape)\n",
    "\n",
    "x = layers.Conv2D(32, (3, 3), activation='relu')(input_image)\n",
    "x = layers.MaxPooling2D((2, 2))(x)\n",
    "x = layers.Conv2D(64, (3, 3), activation='relu')(x)\n",
    "x = layers.MaxPooling2D((2, 2))(x)\n",
    "x = layers.Conv2D(64, (3, 3), activation='relu')(x)\n",
    "x = layers.Flatten()(x)\n",
    "x = layers.Dense(64*2*2*2, activation='relu')(x)\n",
    "x = layers.Dense(64, activation='relu')(x)\n",
    "output = layers.Dense(classes.size)(x)\n",
    "cnn = keras.Model(input_image,output)\n",
    "\n",
    "timer.add(\"Compile CNN\")\n",
    "cnn.compile(optimizer='adam',\n",
    "              loss=tf.keras.losses.SparseCategoricalCrossentropy(from_logits=True),\n",
    "              metrics=['accuracy'])\n",
    "cnn.summary()"
   ]
  },
  {
   "cell_type": "code",
   "execution_count": null,
   "id": "19b7b6a5-5c11-4149-9395-3d01e7c4eadb",
   "metadata": {},
   "outputs": [],
   "source": [
    "# train cnn\n",
    "timer.add(\"Split Train/Test\")\n",
    "(x_train_images,x_test_images, x_train_label, x_test_label) = train_test_split(data_images,data_label,test_size=0.2) \n",
    "\n",
    "x_train_images = np.array(x_train_images)\n",
    "x_test_images = np.array(x_test_images)\n",
    "x_train_label = np.array(x_train_label)\n",
    "x_test_label = np.array(x_test_label)\n",
    "\n",
    "timer.add(\"Train CNN\")\n",
    "history = cnn.fit(x_train_images,x_train_label,\n",
    "                epochs=100,\n",
    "                batch_size=100,\n",
    "                shuffle=True,\n",
    "                validation_data=(x_test_images,x_test_label)\n",
    "               )\n",
    "\n",
    "cnn.save('test_cnn.keras')"
   ]
  },
  {
   "cell_type": "code",
   "execution_count": 28,
   "id": "4aceb454-66d3-48f5-904b-44e842b7081f",
   "metadata": {},
   "outputs": [
    {
     "name": "stdout",
     "output_type": "stream",
     "text": [
      "10/10 - 1s - loss: 1.7776 - accuracy: 0.4104 - 591ms/epoch - 59ms/step\n",
      "0.4104234576225281\n"
     ]
    },
    {
     "data": {
      "image/png": "[encoded data removed]",
      "text/plain": [
       "<Figure size 640x480 with 1 Axes>"
      ]
     },
     "metadata": {},
     "output_type": "display_data"
    }
   ],
   "source": [
    "plt.plot(history.history['accuracy'], label='accuracy')\n",
    "plt.plot(history.history['val_accuracy'], label = 'val_accuracy')\n",
    "plt.xlabel('Epoch')\n",
    "plt.ylabel('Accuracy')\n",
    "#plt.ylim([0.5, 1])\n",
    "plt.legend(loc='lower right')\n",
    "plt.savefig(\"test_cnn.png\")\n",
    "\n",
    "test_loss, test_acc = cnn.evaluate(x_test_images,  x_test_label, verbose=2)\n",
    "print(test_acc)"
   ]
  },
  {
   "cell_type": "code",
   "execution_count": null,
   "id": "c9ea5837-4ad1-4aaf-8991-ec304ff2c4b6",
   "metadata": {},
   "outputs": [],
   "source": [
    "timer.get_time()\n",
    "print(timer)"
   ]
  }
 ],
 "metadata": {
  "kernelspec": {
   "display_name": "Python 3, own (ipykernel)",
   "language": "python",
   "name": "python3"
  },
  "language_info": {
   "codemirror_mode": {
    "name": "ipython",
    "version": 3
   },
   "file_extension": ".py",
   "mimetype": "text/x-python",
   "name": "python",
   "nbconvert_exporter": "python",
   "pygments_lexer": "ipython3",
   "version": "3.11.6"
  }
 },
 "nbformat": 4,
 "nbformat_minor": 5
}

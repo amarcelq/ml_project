{
 "cells": [
  {
   "cell_type": "markdown",
   "metadata": {},
   "source": [
    "# CNN Model"
   ]
  },
  {
   "cell_type": "markdown",
   "metadata": {},
   "source": [
    "#### Imports"
   ]
  },
  {
   "cell_type": "code",
   "execution_count": 1,
   "metadata": {},
   "outputs": [],
   "source": [
    "import pandas as pd\n",
    "import numpy as np\n",
    "import matplotlib.pyplot as plt\n",
    "import tensorflow as tf\n",
    "from tensorflow.keras.callbacks import EarlyStopping\n",
    "from keras import backend as K \n",
    "from sklearn.model_selection import StratifiedKFold\n",
    "from tensorflow.keras import regularizers\n",
    "import tensorflow.keras as keras\n",
    "import tensorflow_model_optimization as tfmot\n",
    "from sklearn.metrics import confusion_matrix, ConfusionMatrixDisplay\n",
    "import json\n",
    "from sklearn.model_selection import train_test_split\n",
    "from tensorflow.keras.applications import VGG19\n",
    "from tensorflow.keras.applications.resnet50 import ResNet50\n",
    "from tensorflow.keras.optimizers.legacy import Adam\n",
    "from tensorflow.keras.optimizers.legacy import SGD\n",
    "from tensorflow.keras.optimizers.schedules import ExponentialDecay\n",
    "from imblearn.over_sampling import ADASYN\n",
    "from sklearn.utils import shuffle"
   ]
  },
  {
   "cell_type": "markdown",
   "metadata": {},
   "source": [
    "#### GPU deaktivieren"
   ]
  },
  {
   "cell_type": "markdown",
   "metadata": {},
   "source": [
    "**Hinweis:** Bei M1/M2-Chips wird standardmäßig die GPU verwendet. Daher muss es für diese Chips einkommentiert werden, da diese Dropout-Layer mit GPU nicht gut handeln können"
   ]
  },
  {
   "cell_type": "code",
   "execution_count": 2,
   "metadata": {},
   "outputs": [],
   "source": [
    "tf.config.set_visible_devices([], 'GPU')"
   ]
  },
  {
   "cell_type": "markdown",
   "metadata": {},
   "source": [
    "#### Daten einlesen"
   ]
  },
  {
   "cell_type": "markdown",
   "metadata": {},
   "source": [
    "**Hinweis:** Die Daten wurden in einer pkl-Datei gespeichert, um nicht jedes mal die Vorverarbeitung durchführen zu müssen und unkompliziert zwischen den Modelklassen hin- und her wechseln zu können"
   ]
  },
  {
   "cell_type": "code",
   "execution_count": 3,
   "metadata": {},
   "outputs": [],
   "source": [
    "data = pd.read_pickle('./data/images_df_numerical.pkl')\n",
    "classes = data[\"Species\"].unique()\n",
    "number_of_classes = classes.size\n",
    "X, y = data['data'], data['Species']\n",
    "# Wir hatten massive Probleme mit der Begrenztheit unseres RAMs, weshalb wir versucht haben die Usage an mehreren Stellen zu reduzieren\n",
    "X, y = np.stack(X).astype(np.float16), y.to_numpy().astype(np.uint8)\n"
   ]
  },
  {
   "cell_type": "markdown",
   "metadata": {},
   "source": [
    "#### Seed setzen"
   ]
  },
  {
   "cell_type": "markdown",
   "metadata": {},
   "source": [
    "Um die Nachvollziehbarkeit zu erhöhen setzen wir den Seed immer auf den selben Startwert"
   ]
  },
  {
   "cell_type": "code",
   "execution_count": 4,
   "metadata": {},
   "outputs": [],
   "source": [
    "tf.keras.utils.set_random_seed(1)"
   ]
  },
  {
   "cell_type": "markdown",
   "metadata": {},
   "source": [
    "Bei Verwendung einer GPU macht es die Operationen so deterministisch wie möglich\n",
    "\n",
    "**Hinweis:** Diese Option vermindert die Performance"
   ]
  },
  {
   "cell_type": "code",
   "execution_count": 5,
   "metadata": {},
   "outputs": [],
   "source": [
    "tf.config.experimental.enable_op_determinism()"
   ]
  },
  {
   "cell_type": "markdown",
   "metadata": {},
   "source": [
    "#### Bilder reshapen"
   ]
  },
  {
   "cell_type": "code",
   "execution_count": 6,
   "metadata": {},
   "outputs": [],
   "source": [
    "image_size = X[0].size\n",
    "samples = X.size\n",
    "with open(\"./data/meta.json\",\"r\") as file:  # Shape der Bilder nach dem resizen aus dem data_prep notebook\n",
    "    image_meta = json.load(file) \n",
    "image_shape = (image_meta['h'],image_meta['w'],image_meta['c'])"
   ]
  },
  {
   "cell_type": "code",
   "execution_count": 7,
   "metadata": {},
   "outputs": [
    {
     "name": "stdout",
     "output_type": "stream",
     "text": [
      "Image has shape: (82, 128, 3)\n"
     ]
    }
   ],
   "source": [
    "X = X.reshape((-1,) + image_shape)\n",
    "print(f\"Image has shape: {image_shape}\")"
   ]
  },
  {
   "cell_type": "code",
   "execution_count": 8,
   "metadata": {},
   "outputs": [
    {
     "name": "stdout",
     "output_type": "stream",
     "text": [
      "117/117 [==============================] - 4s 32ms/step\n"
     ]
    }
   ],
   "source": [
    "autoencoder = keras.saving.load_model('./ae_files/test_autoencoder_cnn.keras')\n",
    "X = autoencoder.predict(X)\n",
    "X = X.reshape((-1,) + image_shape)"
   ]
  },
  {
   "cell_type": "markdown",
   "metadata": {},
   "source": [
    "#### k-Fold-Cross-Validation"
   ]
  },
  {
   "cell_type": "markdown",
   "metadata": {},
   "source": [
    "Wir benutzen 10-Fold-Cross-Validation, um das Ergebnis weniger vom gewählten Split abhängig zu machen und somit das Ergebnis zu stabilisieren. Statified stellt sicher, dass die Klasseneinteilung beibehalten wird. Dies ist vor allem ohne Resampling interessant, da wir extrem ungleich verteilte Klassen haben."
   ]
  },
  {
   "cell_type": "code",
   "execution_count": 9,
   "metadata": {},
   "outputs": [],
   "source": [
    "kfold = StratifiedKFold(n_splits=2, shuffle=True)"
   ]
  },
  {
   "cell_type": "markdown",
   "metadata": {},
   "source": [
    "#### Modell"
   ]
  },
  {
   "cell_type": "markdown",
   "metadata": {},
   "source": [
    "Bei den Hyperparametern haben wir Grundsätzlich Standardwerte aus Papern o. Ä. benutzt und dann je nach Ergebnis empirisch angepasst"
   ]
  },
  {
   "cell_type": "markdown",
   "metadata": {},
   "source": [
    "[Modelstruktur](https://www.kaggle.com/code/christianlillelund/classify-mnist-audio-using-spectrograms-keras-cnn)  \n",
    "[Epochs](https://doi.org/10.1016/j.icte.2020.04.010)  \n",
    "[Batch-Size und Learning Rate](https://elar.khmnu.edu.ua/items/a5d0d900-449d-4f3d-b800-c7200084384f)\n",
    "[Dropout-Rate](https://www.jmlr.org/papers/volume15/srivastava14a/srivastava14a.pdf)  \n",
    "[Pooling-Size](https://cs231n.github.io/convolutional-networks/#pool)  \n",
    "Weigh_decay_alpha: aus der Vorlesung\n",
    "Padding: Wir wollen nicht, dass für jede Schicht das Bild kleiner wird, da sonst das Innere des Bildes viel stärker gewichtet werden würde\n",
    "Batch Normalization: Normalisiert die Daten nach jedem Layer\n",
    "Relu: Da es sich um Bilder handelt und sie somit nur im positiven Wertebereich sind"
   ]
  },
  {
   "cell_type": "code",
   "execution_count": 10,
   "metadata": {},
   "outputs": [],
   "source": [
    "# Stoppt wenn bei 30 Epochen die Validation-Accuracy nicht um mehr als 0.001 besser wird\n",
    "early_stopping = EarlyStopping(monitor='val_accuracy', patience=30, min_delta=0.01, start_from_epoch=15, restore_best_weights=True)\n",
    "epochs = 200\n",
    "batch_size = 32\n",
    "dropout_rate = 0.2 # ehem. 0.2\n",
    "weight_decay_alpha = 0.01\n",
    "\n",
    "def create_model():\n",
    "    model = tf.keras.models.Sequential(name=\"cnn\")\n",
    "    model.add(tf.keras.layers.Input(shape=image_shape, name=\"cnn_input\"))\n",
    "    model.add(tf.keras.layers.Conv2D(32, 3, strides=2, padding='same', activation='relu', kernel_regularizer=regularizers.l2(weight_decay_alpha)))\n",
    "    model.add(tf.keras.layers.BatchNormalization())\n",
    "    model.add(tf.keras.layers.Dropout(dropout_rate))\n",
    "    model.add(tf.keras.layers.MaxPooling2D(pool_size=(2, 2)))\n",
    "    model.add(tf.keras.layers.BatchNormalization())\n",
    "    model.add(tf.keras.layers.Dropout(dropout_rate))\n",
    "    model.add(tf.keras.layers.Conv2D(64, 3, padding='same', activation='relu', kernel_regularizer=regularizers.l2(weight_decay_alpha)))\n",
    "    model.add(tf.keras.layers.BatchNormalization())\n",
    "    model.add(tf.keras.layers.Dropout(dropout_rate))\n",
    "    model.add(tf.keras.layers.MaxPooling2D(pool_size=(2, 2)))\n",
    "    model.add(tf.keras.layers.BatchNormalization())\n",
    "    model.add(tf.keras.layers.Dropout(dropout_rate))\n",
    "    model.add(tf.keras.layers.Conv2D(128, 3, padding='same', activation='relu', kernel_regularizer=regularizers.l2(weight_decay_alpha)))\n",
    "    model.add(tf.keras.layers.BatchNormalization())\n",
    "    model.add(tf.keras.layers.Dropout(dropout_rate))\n",
    "    model.add(tf.keras.layers.MaxPooling2D(pool_size=(2, 2)))\n",
    "    model.add(tf.keras.layers.BatchNormalization())\n",
    "    model.add(tf.keras.layers.Flatten())\n",
    "    model.add(tf.keras.layers.Dense(256, activation='relu', kernel_regularizer=regularizers.l2(weight_decay_alpha)))\n",
    "    model.add(tf.keras.layers.BatchNormalization())\n",
    "    model.add(tf.keras.layers.Dropout(dropout_rate))\n",
    "    model.add(tf.keras.layers.Dense(128, activation='relu', kernel_regularizer=regularizers.l2(weight_decay_alpha)))\n",
    "    model.add(tf.keras.layers.BatchNormalization())\n",
    "    model.add(tf.keras.layers.Dropout(dropout_rate))\n",
    "    model.add(tf.keras.layers.Dense(number_of_classes, activation='softmax'))\n",
    "\n",
    "    return model"
   ]
  },
  {
   "cell_type": "markdown",
   "metadata": {},
   "source": [
    "#### Optimizierwahl"
   ]
  },
  {
   "cell_type": "markdown",
   "metadata": {},
   "source": [
    "Wir haben verschiedene Optimizier mit und ohne ExpoentialLRDecay ausprobiert:\n",
    "\n",
    "|Optimizer|Avg. Test Acc|\n",
    "|:-|-:|\n",
    "|**SGD**| 77% |\n",
    "|**SGD_exp**| 72% |\n",
    "|**ADAM**|79%|\n",
    "|**ADAM_exp**| 74% |"
   ]
  },
  {
   "cell_type": "code",
   "execution_count": 11,
   "metadata": {},
   "outputs": [],
   "source": [
    "def create_optimizers(num_samples) -> dict:\n",
    "    s = 130 * num_samples // 32 # number of steps in 130 epochs (batch size = 32)\n",
    "    exp_decay_sgd = ExponentialDecay(0.01, s, 0.1)\n",
    "    exp_adam = ExponentialDecay(0.01, s, 0.95, staircase=True)\n",
    "\n",
    "    momentum = 0.99\n",
    "    sgd_exp = SGD(exp_decay_sgd, momentum=momentum)\n",
    "    adam_exp = Adam(exp_adam)\n",
    "\n",
    "    sgd = SGD(0.001, momentum=momentum)\n",
    "    adam = Adam(0.001)\n",
    "\n",
    "    return {\"sgd_exp\": sgd_exp, \"adam_exp\": adam_exp, \"sgd\": sgd, \"adam\": adam}"
   ]
  },
  {
   "cell_type": "markdown",
   "metadata": {},
   "source": [
    "#### Model Fit Funktion"
   ]
  },
  {
   "cell_type": "code",
   "execution_count": 12,
   "metadata": {},
   "outputs": [],
   "source": [
    "def fit_model(model, X_train, y_train, X_val=None, y_val=None):\n",
    "    # Das Model macht selbst den Validation Split\n",
    "    if X_val is None or y_val is None:\n",
    "        history = model.fit(\n",
    "            X_train,\n",
    "            y_train,\n",
    "            epochs=epochs,\n",
    "            batch_size=batch_size,\n",
    "            callbacks=[early_stopping, tfmot.sparsity.keras.UpdatePruningStep()],\n",
    "            validation_split=0.2,\n",
    "            verbose=1)\n",
    "    # Wir übergeben dem Model Validation Daten\n",
    "    elif X_val is not None and y_val is not None:\n",
    "        history = model.fit(\n",
    "            X_train,\n",
    "            y_train,\n",
    "            epochs=epochs,\n",
    "            batch_size=batch_size,\n",
    "            callbacks=[early_stopping, tfmot.sparsity.keras.UpdatePruningStep()],\n",
    "            validation_data=(X_val,y_val),\n",
    "            verbose=1)\n",
    "    return history"
   ]
  },
  {
   "cell_type": "markdown",
   "metadata": {},
   "source": [
    "#### Model Pruning"
   ]
  },
  {
   "cell_type": "markdown",
   "metadata": {},
   "source": [
    "Größtenteils von hier übernommen und hat gut funktioniert: https://towardsdatascience.com/model-pruning-in-deep-neural-networks-using-the-tensorflow-api-7cf52bdd32"
   ]
  },
  {
   "cell_type": "code",
   "execution_count": 13,
   "metadata": {},
   "outputs": [],
   "source": [
    "end_step = np.ceil(X.shape[0] / batch_size).astype(np.int32) * epochs\n",
    "\n",
    "pruning_params = {\n",
    "      # Inital: 50% sparsity (50% zeros in weights) und Final: 80% Sparsity\n",
    "      'pruning_schedule': tfmot.sparsity.keras.PolynomialDecay(initial_sparsity=0.50,\n",
    "                                                                final_sparsity=0.80,\n",
    "                                                                begin_step=0,\n",
    "                                                                end_step=end_step)}\n",
    "\n",
    "model = create_model()\n",
    "model = tfmot.sparsity.keras.prune_low_magnitude(model, **pruning_params)"
   ]
  },
  {
   "cell_type": "markdown",
   "metadata": {},
   "source": [
    "#### Split-Funktion"
   ]
  },
  {
   "cell_type": "code",
   "execution_count": 14,
   "metadata": {},
   "outputs": [],
   "source": [
    "def train_val_test_split(train_indezes, test_indezes, tensor=False):\n",
    "    X_train, X_val, y_train, y_val = train_test_split(X[train_indezes], y[train_indezes], test_size=0.2,stratify=y[train_indezes], random_state=42)\n",
    "    X_test, y_test = X[test_indezes], y[test_indezes]\n",
    "\n",
    "    \n",
    "    # Das speichern als Tensor spart RAM\n",
    "    if tensor:\n",
    "        return (tf.convert_to_tensor(X_train),\n",
    "                tf.convert_to_tensor(y_train), \n",
    "                tf.convert_to_tensor(X_val),\n",
    "                tf.convert_to_tensor(y_val),\n",
    "                tf.convert_to_tensor(X_test),\n",
    "                tf.convert_to_tensor(y_test))\n",
    "    else:\n",
    "        return (X_train,y_train,X_val,y_val,X_test,y_test)"
   ]
  },
  {
   "cell_type": "markdown",
   "metadata": {},
   "source": [
    "#### Tatsächliches Training"
   ]
  },
  {
   "cell_type": "code",
   "execution_count": 15,
   "metadata": {},
   "outputs": [],
   "source": [
    "def resample_after_split(X,y, resampler=ADASYN()) -> tuple[np.array, np.array]:\n",
    "    n, h, w, _ = X.shape\n",
    "    X = X.reshape((n, h * w * 3))\n",
    "    X = (X*255.).astype(np.uint8)\n",
    "    _, dist = np.unique(y, return_counts=True)\n",
    "    print(f\"{resampler} before res:\",dist)\n",
    "\n",
    "    X_resampled, y_resampled = resampler.fit_resample(X, y)\n",
    "\n",
    "    _, dist = np.unique(y_resampled, return_counts=True)\n",
    "    print(f\"{resampler} after res:\", dist)\n",
    "\n",
    "    X_resampled = X_resampled.reshape((-1,) + image_shape)\n",
    "\n",
    "    # shuffle ist nötig, da die synthetischen Daten nach Labels geordnet sind (random_state für bessere nachvollziehbarkeit)\n",
    "    X_resampled, y_resampled = shuffle(X_resampled, y_resampled, random_state=1)\n",
    "    X_resampled = X_resampled.astype(np.float16)/255.\n",
    "    return X_resampled, y_resampled"
   ]
  },
  {
   "cell_type": "code",
   "execution_count": 16,
   "metadata": {
    "scrolled": true
   },
   "outputs": [
    {
     "name": "stdout",
     "output_type": "stream",
     "text": [
      "ADASYN() before res: [841 108 346 116  49  28]\n",
      "ADASYN() after res: [841 836 880 835 844 830]\n",
      "Model: \"cnn\"\n",
      "_________________________________________________________________\n",
      " Layer (type)                Output Shape              Param #   \n",
      "=================================================================\n",
      " prune_low_magnitude_conv2d  (None, 41, 64, 32)        1762      \n",
      "  (PruneLowMagnitude)                                            \n",
      "                                                                 \n",
      " prune_low_magnitude_batch_  (None, 41, 64, 32)        129       \n",
      " normalization (PruneLowMag                                      \n",
      " nitude)                                                         \n",
      "                                                                 \n",
      " prune_low_magnitude_dropou  (None, 41, 64, 32)        1         \n",
      " t (PruneLowMagnitude)                                           \n",
      "                                                                 \n",
      " prune_low_magnitude_max_po  (None, 20, 32, 32)        1         \n",
      " oling2d (PruneLowMagnitude                                      \n",
      " )                                                               \n",
      "                                                                 \n",
      " prune_low_magnitude_batch_  (None, 20, 32, 32)        129       \n",
      " normalization_1 (PruneLowM                                      \n",
      " agnitude)                                                       \n",
      "                                                                 \n",
      " prune_low_magnitude_dropou  (None, 20, 32, 32)        1         \n",
      " t_1 (PruneLowMagnitude)                                         \n",
      "                                                                 \n",
      " prune_low_magnitude_conv2d  (None, 20, 32, 64)        36930     \n",
      " _1 (PruneLowMagnitude)                                          \n",
      "                                                                 \n",
      " prune_low_magnitude_batch_  (None, 20, 32, 64)        257       \n",
      " normalization_2 (PruneLowM                                      \n",
      " agnitude)                                                       \n",
      "                                                                 \n",
      " prune_low_magnitude_dropou  (None, 20, 32, 64)        1         \n",
      " t_2 (PruneLowMagnitude)                                         \n",
      "                                                                 \n",
      " prune_low_magnitude_max_po  (None, 10, 16, 64)        1         \n",
      " oling2d_1 (PruneLowMagnitu                                      \n",
      " de)                                                             \n",
      "                                                                 \n",
      " prune_low_magnitude_batch_  (None, 10, 16, 64)        257       \n",
      " normalization_3 (PruneLowM                                      \n",
      " agnitude)                                                       \n",
      "                                                                 \n",
      " prune_low_magnitude_dropou  (None, 10, 16, 64)        1         \n",
      " t_3 (PruneLowMagnitude)                                         \n",
      "                                                                 \n",
      " prune_low_magnitude_conv2d  (None, 10, 16, 128)       147586    \n",
      " _2 (PruneLowMagnitude)                                          \n",
      "                                                                 \n",
      " prune_low_magnitude_batch_  (None, 10, 16, 128)       513       \n",
      " normalization_4 (PruneLowM                                      \n",
      " agnitude)                                                       \n",
      "                                                                 \n",
      " prune_low_magnitude_dropou  (None, 10, 16, 128)       1         \n",
      " t_4 (PruneLowMagnitude)                                         \n",
      "                                                                 \n",
      " prune_low_magnitude_max_po  (None, 5, 8, 128)         1         \n",
      " oling2d_2 (PruneLowMagnitu                                      \n",
      " de)                                                             \n",
      "                                                                 \n",
      " prune_low_magnitude_batch_  (None, 5, 8, 128)         513       \n",
      " normalization_5 (PruneLowM                                      \n",
      " agnitude)                                                       \n",
      "                                                                 \n",
      " prune_low_magnitude_flatte  (None, 5120)              1         \n",
      " n (PruneLowMagnitude)                                           \n",
      "                                                                 \n",
      " prune_low_magnitude_dense   (None, 256)               2621698   \n",
      " (PruneLowMagnitude)                                             \n",
      "                                                                 \n",
      " prune_low_magnitude_batch_  (None, 256)               1025      \n",
      " normalization_6 (PruneLowM                                      \n",
      " agnitude)                                                       \n",
      "                                                                 \n",
      " prune_low_magnitude_dropou  (None, 256)               1         \n",
      " t_5 (PruneLowMagnitude)                                         \n",
      "                                                                 \n",
      " prune_low_magnitude_dense_  (None, 128)               65666     \n",
      " 1 (PruneLowMagnitude)                                           \n",
      "                                                                 \n",
      " prune_low_magnitude_batch_  (None, 128)               513       \n",
      " normalization_7 (PruneLowM                                      \n",
      " agnitude)                                                       \n",
      "                                                                 \n",
      " prune_low_magnitude_dropou  (None, 128)               1         \n",
      " t_6 (PruneLowMagnitude)                                         \n",
      "                                                                 \n",
      " prune_low_magnitude_dense_  (None, 6)                 1544      \n",
      " 2 (PruneLowMagnitude)                                           \n",
      "                                                                 \n",
      "=================================================================\n",
      "Total params: 2878533 (10.98 MB)\n",
      "Trainable params: 1439558 (5.49 MB)\n",
      "Non-trainable params: 1438975 (5.49 MB)\n",
      "_________________________________________________________________\n",
      "None\n",
      "Epoch 1/200\n",
      "159/159 [==============================] - 9s 43ms/step - loss: 7.4997 - accuracy: 0.3462 - val_loss: 5.4667 - val_accuracy: 0.1287\n",
      "Epoch 2/200\n",
      "159/159 [==============================] - 6s 41ms/step - loss: 3.9315 - accuracy: 0.5570 - val_loss: 3.6752 - val_accuracy: 0.5791\n",
      "Epoch 3/200\n",
      "159/159 [==============================] - 6s 41ms/step - loss: 2.9069 - accuracy: 0.6741 - val_loss: 3.2678 - val_accuracy: 0.3244\n",
      "Epoch 4/200\n",
      "159/159 [==============================] - 7s 44ms/step - loss: 2.3624 - accuracy: 0.7454 - val_loss: 2.6969 - val_accuracy: 0.5416\n",
      "Epoch 5/200\n",
      "159/159 [==============================] - 8s 48ms/step - loss: 2.1181 - accuracy: 0.7675 - val_loss: 2.4642 - val_accuracy: 0.6300\n",
      "Epoch 6/200\n",
      "159/159 [==============================] - 7s 45ms/step - loss: 1.9223 - accuracy: 0.8046 - val_loss: 2.1723 - val_accuracy: 0.7051\n",
      "Epoch 7/200\n",
      "159/159 [==============================] - 7s 44ms/step - loss: 1.7600 - accuracy: 0.8326 - val_loss: 2.3043 - val_accuracy: 0.5952\n",
      "Epoch 8/200\n",
      "159/159 [==============================] - 7s 44ms/step - loss: 1.6740 - accuracy: 0.8330 - val_loss: 2.4292 - val_accuracy: 0.6354\n",
      "Epoch 9/200\n",
      "159/159 [==============================] - 8s 48ms/step - loss: 1.6748 - accuracy: 0.8381 - val_loss: 2.0560 - val_accuracy: 0.7292\n",
      "Epoch 10/200\n",
      "159/159 [==============================] - 7s 43ms/step - loss: 1.5816 - accuracy: 0.8539 - val_loss: 2.2511 - val_accuracy: 0.6622\n",
      "Epoch 11/200\n",
      "159/159 [==============================] - 7s 41ms/step - loss: 1.5742 - accuracy: 0.8512 - val_loss: 2.1845 - val_accuracy: 0.6515\n",
      "Epoch 12/200\n",
      "159/159 [==============================] - 7s 43ms/step - loss: 1.4873 - accuracy: 0.8644 - val_loss: 2.5079 - val_accuracy: 0.5147\n",
      "Epoch 13/200\n",
      "159/159 [==============================] - 7s 43ms/step - loss: 1.4520 - accuracy: 0.8699 - val_loss: 2.3779 - val_accuracy: 0.4933\n",
      "Epoch 14/200\n",
      "159/159 [==============================] - 7s 45ms/step - loss: 1.4432 - accuracy: 0.8699 - val_loss: 1.8808 - val_accuracy: 0.7373\n",
      "Epoch 15/200\n",
      "159/159 [==============================] - 7s 43ms/step - loss: 1.4357 - accuracy: 0.8750 - val_loss: 1.8802 - val_accuracy: 0.7212\n",
      "Epoch 16/200\n",
      "159/159 [==============================] - 7s 43ms/step - loss: 1.5966 - accuracy: 0.8622 - val_loss: 2.0418 - val_accuracy: 0.7078\n",
      "Epoch 17/200\n",
      "159/159 [==============================] - 7s 45ms/step - loss: 1.4703 - accuracy: 0.8792 - val_loss: 1.9513 - val_accuracy: 0.6568\n",
      "Epoch 18/200\n",
      "159/159 [==============================] - 8s 48ms/step - loss: 1.4066 - accuracy: 0.8845 - val_loss: 2.0024 - val_accuracy: 0.6971\n",
      "Epoch 19/200\n",
      "159/159 [==============================] - 7s 46ms/step - loss: 1.4282 - accuracy: 0.8806 - val_loss: 1.8979 - val_accuracy: 0.6810\n",
      "Epoch 20/200\n",
      "159/159 [==============================] - 7s 43ms/step - loss: 1.3940 - accuracy: 0.8875 - val_loss: 2.4451 - val_accuracy: 0.6461\n",
      "Epoch 21/200\n",
      "159/159 [==============================] - 7s 45ms/step - loss: 1.4349 - accuracy: 0.8764 - val_loss: 2.2235 - val_accuracy: 0.6515\n",
      "Epoch 22/200\n",
      "159/159 [==============================] - 7s 43ms/step - loss: 1.3834 - accuracy: 0.8885 - val_loss: 1.9628 - val_accuracy: 0.6542\n",
      "Epoch 23/200\n",
      "159/159 [==============================] - 7s 45ms/step - loss: 1.3685 - accuracy: 0.8853 - val_loss: 1.8547 - val_accuracy: 0.7292\n",
      "Epoch 24/200\n",
      "159/159 [==============================] - 7s 43ms/step - loss: 1.3310 - accuracy: 0.8877 - val_loss: 2.4045 - val_accuracy: 0.5013\n",
      "Epoch 25/200\n",
      "159/159 [==============================] - 7s 42ms/step - loss: 1.3352 - accuracy: 0.8950 - val_loss: 1.8598 - val_accuracy: 0.7346\n",
      "Epoch 26/200\n",
      "159/159 [==============================] - 7s 43ms/step - loss: 1.2891 - accuracy: 0.8991 - val_loss: 1.9248 - val_accuracy: 0.7212\n",
      "Epoch 27/200\n",
      "159/159 [==============================] - 7s 42ms/step - loss: 1.3068 - accuracy: 0.8942 - val_loss: 1.8234 - val_accuracy: 0.7051\n",
      "Epoch 28/200\n",
      "159/159 [==============================] - 7s 44ms/step - loss: 1.2905 - accuracy: 0.8940 - val_loss: 1.7761 - val_accuracy: 0.7346\n",
      "Epoch 29/200\n",
      "159/159 [==============================] - 7s 43ms/step - loss: 1.2665 - accuracy: 0.8938 - val_loss: 2.1861 - val_accuracy: 0.6488\n",
      "Epoch 30/200\n",
      "159/159 [==============================] - 7s 43ms/step - loss: 1.2844 - accuracy: 0.8902 - val_loss: 1.8460 - val_accuracy: 0.7426\n",
      "Epoch 31/200\n",
      "159/159 [==============================] - 7s 43ms/step - loss: 1.2903 - accuracy: 0.8952 - val_loss: 1.9832 - val_accuracy: 0.6971\n",
      "Epoch 32/200\n",
      "159/159 [==============================] - 7s 42ms/step - loss: 1.2447 - accuracy: 0.8964 - val_loss: 1.7457 - val_accuracy: 0.7426\n",
      "Epoch 33/200\n",
      "159/159 [==============================] - 7s 43ms/step - loss: 1.2306 - accuracy: 0.9041 - val_loss: 1.8223 - val_accuracy: 0.7319\n",
      "Epoch 34/200\n",
      "159/159 [==============================] - 7s 42ms/step - loss: 1.2676 - accuracy: 0.8977 - val_loss: 1.8233 - val_accuracy: 0.7373\n",
      "Epoch 35/200\n",
      "159/159 [==============================] - 7s 42ms/step - loss: 1.2046 - accuracy: 0.9037 - val_loss: 2.1361 - val_accuracy: 0.6327\n",
      "Epoch 36/200\n",
      "159/159 [==============================] - 7s 43ms/step - loss: 1.2328 - accuracy: 0.8989 - val_loss: 1.9782 - val_accuracy: 0.7319\n",
      "Epoch 37/200\n",
      "159/159 [==============================] - 7s 42ms/step - loss: 1.2174 - accuracy: 0.9043 - val_loss: 1.7416 - val_accuracy: 0.7373\n",
      "Epoch 38/200\n",
      "159/159 [==============================] - 7s 43ms/step - loss: 1.1844 - accuracy: 0.9015 - val_loss: 1.7595 - val_accuracy: 0.7131\n",
      "Epoch 39/200\n",
      "159/159 [==============================] - 7s 43ms/step - loss: 1.1590 - accuracy: 0.9118 - val_loss: 1.9574 - val_accuracy: 0.6890\n",
      "Epoch 40/200\n",
      "159/159 [==============================] - 7s 45ms/step - loss: 1.2250 - accuracy: 0.8999 - val_loss: 1.9377 - val_accuracy: 0.6944\n",
      "Epoch 41/200\n",
      "159/159 [==============================] - 7s 45ms/step - loss: 1.2780 - accuracy: 0.9007 - val_loss: 2.0305 - val_accuracy: 0.6997\n",
      "Epoch 42/200\n",
      "159/159 [==============================] - 7s 46ms/step - loss: 1.1381 - accuracy: 0.9153 - val_loss: 1.6727 - val_accuracy: 0.7480\n",
      "Epoch 43/200\n",
      "159/159 [==============================] - 7s 47ms/step - loss: 1.1791 - accuracy: 0.9001 - val_loss: 1.7140 - val_accuracy: 0.7614\n",
      "Epoch 44/200\n",
      "159/159 [==============================] - 7s 45ms/step - loss: 1.1479 - accuracy: 0.9106 - val_loss: 1.8879 - val_accuracy: 0.6729\n",
      "Epoch 45/200\n",
      "159/159 [==============================] - 7s 44ms/step - loss: 1.2160 - accuracy: 0.8952 - val_loss: 1.8138 - val_accuracy: 0.7265\n",
      "Epoch 46/200\n",
      "159/159 [==============================] - 7s 45ms/step - loss: 1.2252 - accuracy: 0.9035 - val_loss: 1.8923 - val_accuracy: 0.7024\n",
      "Epoch 47/200\n",
      "159/159 [==============================] - 7s 45ms/step - loss: 1.1633 - accuracy: 0.9051 - val_loss: 1.7726 - val_accuracy: 0.7319\n",
      "Epoch 48/200\n",
      "159/159 [==============================] - 7s 46ms/step - loss: 1.1715 - accuracy: 0.9025 - val_loss: 1.7170 - val_accuracy: 0.7292\n",
      "Epoch 49/200\n",
      "159/159 [==============================] - 7s 46ms/step - loss: 1.1550 - accuracy: 0.9017 - val_loss: 1.8395 - val_accuracy: 0.7024\n",
      "Epoch 50/200\n",
      "159/159 [==============================] - 8s 47ms/step - loss: 1.1208 - accuracy: 0.9131 - val_loss: 1.7428 - val_accuracy: 0.7131\n",
      "Epoch 51/200\n",
      "159/159 [==============================] - 7s 46ms/step - loss: 1.0648 - accuracy: 0.9155 - val_loss: 1.9895 - val_accuracy: 0.6273\n",
      "Epoch 52/200\n",
      "159/159 [==============================] - 7s 46ms/step - loss: 1.1255 - accuracy: 0.9096 - val_loss: 1.7594 - val_accuracy: 0.7131\n",
      "Epoch 53/200\n",
      "159/159 [==============================] - 7s 47ms/step - loss: 1.1277 - accuracy: 0.9070 - val_loss: 2.2427 - val_accuracy: 0.6273\n",
      "Epoch 54/200\n",
      "159/159 [==============================] - 8s 49ms/step - loss: 1.1190 - accuracy: 0.9118 - val_loss: 1.6747 - val_accuracy: 0.7292\n",
      "Epoch 55/200\n",
      "159/159 [==============================] - 8s 47ms/step - loss: 1.0855 - accuracy: 0.9088 - val_loss: 2.1706 - val_accuracy: 0.6247\n",
      "Epoch 56/200\n",
      "159/159 [==============================] - 7s 46ms/step - loss: 1.0875 - accuracy: 0.9106 - val_loss: 1.7166 - val_accuracy: 0.7346\n",
      "Epoch 57/200\n",
      "159/159 [==============================] - 7s 46ms/step - loss: 1.1260 - accuracy: 0.9096 - val_loss: 1.9964 - val_accuracy: 0.7185\n",
      "Epoch 58/200\n",
      "159/159 [==============================] - 7s 46ms/step - loss: 1.0606 - accuracy: 0.9189 - val_loss: 1.6378 - val_accuracy: 0.7426\n",
      "Epoch 59/200\n",
      "159/159 [==============================] - 7s 46ms/step - loss: 1.0193 - accuracy: 0.9185 - val_loss: 1.6339 - val_accuracy: 0.7212\n",
      "Epoch 60/200\n",
      "159/159 [==============================] - 7s 47ms/step - loss: 1.0689 - accuracy: 0.9056 - val_loss: 1.7920 - val_accuracy: 0.6863\n",
      "Epoch 61/200\n",
      "159/159 [==============================] - 7s 44ms/step - loss: 1.0707 - accuracy: 0.9135 - val_loss: 1.6944 - val_accuracy: 0.6997\n",
      "Epoch 62/200\n",
      "159/159 [==============================] - 7s 46ms/step - loss: 1.0281 - accuracy: 0.9133 - val_loss: 1.7619 - val_accuracy: 0.7185\n",
      "Epoch 63/200\n",
      "159/159 [==============================] - 7s 46ms/step - loss: 1.1095 - accuracy: 0.9094 - val_loss: 1.7786 - val_accuracy: 0.7239\n",
      "Epoch 64/200\n",
      "159/159 [==============================] - 7s 46ms/step - loss: 1.0682 - accuracy: 0.9129 - val_loss: 1.9016 - val_accuracy: 0.6836\n",
      "Epoch 65/200\n",
      "159/159 [==============================] - 7s 46ms/step - loss: 1.0657 - accuracy: 0.9108 - val_loss: 1.6945 - val_accuracy: 0.7185\n",
      "Epoch 66/200\n",
      "159/159 [==============================] - 7s 45ms/step - loss: 1.0345 - accuracy: 0.9124 - val_loss: 1.7035 - val_accuracy: 0.7292\n",
      "Epoch 67/200\n",
      "159/159 [==============================] - 7s 47ms/step - loss: 1.0534 - accuracy: 0.9112 - val_loss: 1.6499 - val_accuracy: 0.7105\n",
      "Epoch 68/200\n",
      "159/159 [==============================] - 8s 47ms/step - loss: 1.0180 - accuracy: 0.9157 - val_loss: 2.0143 - val_accuracy: 0.7158\n",
      "Epoch 69/200\n",
      "159/159 [==============================] - 7s 44ms/step - loss: 0.9871 - accuracy: 0.9147 - val_loss: 1.6250 - val_accuracy: 0.7319\n",
      "Epoch 70/200\n",
      "159/159 [==============================] - 7s 46ms/step - loss: 1.0066 - accuracy: 0.9124 - val_loss: 1.6012 - val_accuracy: 0.7426\n",
      "Epoch 71/200\n",
      "159/159 [==============================] - 7s 45ms/step - loss: 1.0006 - accuracy: 0.9143 - val_loss: 2.0001 - val_accuracy: 0.6595\n",
      "Epoch 72/200\n",
      "159/159 [==============================] - 7s 46ms/step - loss: 0.9955 - accuracy: 0.9159 - val_loss: 1.5207 - val_accuracy: 0.7748\n",
      "Epoch 73/200\n",
      "159/159 [==============================] - 7s 45ms/step - loss: 0.9804 - accuracy: 0.9193 - val_loss: 1.5435 - val_accuracy: 0.7399\n",
      "Epoch 74/200\n",
      "159/159 [==============================] - 7s 46ms/step - loss: 1.0050 - accuracy: 0.9086 - val_loss: 1.7525 - val_accuracy: 0.7051\n",
      "Epoch 75/200\n",
      "159/159 [==============================] - 8s 52ms/step - loss: 0.9967 - accuracy: 0.9171 - val_loss: 1.6477 - val_accuracy: 0.7078\n",
      "Epoch 76/200\n",
      "159/159 [==============================] - 9s 55ms/step - loss: 0.9580 - accuracy: 0.9185 - val_loss: 1.4964 - val_accuracy: 0.7534\n",
      "Epoch 77/200\n",
      "159/159 [==============================] - 8s 49ms/step - loss: 1.0072 - accuracy: 0.9088 - val_loss: 1.8593 - val_accuracy: 0.6595\n",
      "Epoch 78/200\n",
      "159/159 [==============================] - 8s 48ms/step - loss: 0.9736 - accuracy: 0.9133 - val_loss: 1.5139 - val_accuracy: 0.7346\n",
      "Epoch 79/200\n",
      "159/159 [==============================] - 8s 52ms/step - loss: 0.9583 - accuracy: 0.9187 - val_loss: 1.5729 - val_accuracy: 0.7507\n",
      "Epoch 80/200\n",
      "159/159 [==============================] - 8s 51ms/step - loss: 0.9187 - accuracy: 0.9216 - val_loss: 1.8517 - val_accuracy: 0.6676\n",
      "Epoch 81/200\n",
      "159/159 [==============================] - 8s 50ms/step - loss: 0.9474 - accuracy: 0.9179 - val_loss: 1.4844 - val_accuracy: 0.7534\n",
      "Epoch 82/200\n",
      "159/159 [==============================] - 8s 49ms/step - loss: 0.9549 - accuracy: 0.9094 - val_loss: 1.6099 - val_accuracy: 0.7453\n",
      "Epoch 83/200\n",
      "159/159 [==============================] - 7s 47ms/step - loss: 0.9246 - accuracy: 0.9169 - val_loss: 1.8884 - val_accuracy: 0.6649\n",
      "Epoch 84/200\n",
      "159/159 [==============================] - 8s 47ms/step - loss: 0.9385 - accuracy: 0.9175 - val_loss: 1.8916 - val_accuracy: 0.6193\n",
      "Epoch 85/200\n",
      "159/159 [==============================] - 8s 48ms/step - loss: 0.9666 - accuracy: 0.9122 - val_loss: 1.4990 - val_accuracy: 0.7346\n",
      "Epoch 86/200\n",
      "159/159 [==============================] - 8s 48ms/step - loss: 0.9416 - accuracy: 0.9147 - val_loss: 1.6171 - val_accuracy: 0.7051\n",
      "Epoch 87/200\n",
      "159/159 [==============================] - 8s 50ms/step - loss: 0.9195 - accuracy: 0.9201 - val_loss: 1.6922 - val_accuracy: 0.7078\n",
      "Epoch 88/200\n",
      "159/159 [==============================] - 8s 49ms/step - loss: 0.9653 - accuracy: 0.9126 - val_loss: 1.5898 - val_accuracy: 0.7319\n",
      "Epoch 89/200\n",
      "159/159 [==============================] - 8s 48ms/step - loss: 0.9495 - accuracy: 0.9199 - val_loss: 1.5634 - val_accuracy: 0.7131\n",
      "Epoch 90/200\n",
      "159/159 [==============================] - 8s 48ms/step - loss: 0.9334 - accuracy: 0.9135 - val_loss: 1.5293 - val_accuracy: 0.7480\n",
      "Epoch 91/200\n",
      "159/159 [==============================] - 8s 50ms/step - loss: 0.9271 - accuracy: 0.9171 - val_loss: 1.6387 - val_accuracy: 0.7131\n",
      "Epoch 92/200\n",
      "159/159 [==============================] - 8s 50ms/step - loss: 0.9284 - accuracy: 0.9098 - val_loss: 1.4794 - val_accuracy: 0.7426\n",
      "Epoch 93/200\n",
      "159/159 [==============================] - 8s 51ms/step - loss: 0.8949 - accuracy: 0.9244 - val_loss: 1.5728 - val_accuracy: 0.6944\n",
      "Epoch 94/200\n",
      "159/159 [==============================] - 12s 78ms/step - loss: 0.8567 - accuracy: 0.9244 - val_loss: 1.4575 - val_accuracy: 0.7212\n",
      "Epoch 95/200\n",
      "159/159 [==============================] - 13s 85ms/step - loss: 0.9047 - accuracy: 0.9155 - val_loss: 1.5294 - val_accuracy: 0.7265\n",
      "Epoch 96/200\n",
      "159/159 [==============================] - 9s 58ms/step - loss: 0.9177 - accuracy: 0.9143 - val_loss: 1.5847 - val_accuracy: 0.7212\n",
      "Epoch 97/200\n",
      "159/159 [==============================] - 8s 48ms/step - loss: 0.9352 - accuracy: 0.9145 - val_loss: 2.1860 - val_accuracy: 0.5389\n",
      "Epoch 98/200\n",
      "159/159 [==============================] - 8s 48ms/step - loss: 0.8949 - accuracy: 0.9208 - val_loss: 1.6244 - val_accuracy: 0.7239\n",
      "Epoch 99/200\n",
      "159/159 [==============================] - 8s 51ms/step - loss: 0.9099 - accuracy: 0.9183 - val_loss: 1.5323 - val_accuracy: 0.7399\n",
      "Epoch 100/200\n",
      "159/159 [==============================] - 8s 52ms/step - loss: 0.9125 - accuracy: 0.9165 - val_loss: 1.5734 - val_accuracy: 0.7319\n",
      "Epoch 101/200\n",
      "159/159 [==============================] - 9s 54ms/step - loss: 0.9400 - accuracy: 0.9118 - val_loss: 1.5767 - val_accuracy: 0.7131\n",
      "Epoch 102/200\n",
      "159/159 [==============================] - 9s 55ms/step - loss: 0.9250 - accuracy: 0.9129 - val_loss: 1.5466 - val_accuracy: 0.7292\n",
      "59/59 [==============================] - 1s 15ms/step\n",
      "59/59 [==============================] - 1s 15ms/step - loss: 1.4595 - accuracy: 0.7910\n",
      "ADASYN() before res: [841 108 346 116  50  27]\n",
      "ADASYN() after res: [841 828 928 871 846 831]\n",
      "Model: \"cnn\"\n",
      "_________________________________________________________________\n",
      " Layer (type)                Output Shape              Param #   \n",
      "=================================================================\n",
      " prune_low_magnitude_conv2d  (None, 41, 64, 32)        1762      \n",
      "  (PruneLowMagnitude)                                            \n",
      "                                                                 \n",
      " prune_low_magnitude_batch_  (None, 41, 64, 32)        129       \n",
      " normalization (PruneLowMag                                      \n",
      " nitude)                                                         \n",
      "                                                                 \n",
      " prune_low_magnitude_dropou  (None, 41, 64, 32)        1         \n",
      " t (PruneLowMagnitude)                                           \n",
      "                                                                 \n",
      " prune_low_magnitude_max_po  (None, 20, 32, 32)        1         \n",
      " oling2d (PruneLowMagnitude                                      \n",
      " )                                                               \n",
      "                                                                 \n",
      " prune_low_magnitude_batch_  (None, 20, 32, 32)        129       \n",
      " normalization_1 (PruneLowM                                      \n",
      " agnitude)                                                       \n",
      "                                                                 \n",
      " prune_low_magnitude_dropou  (None, 20, 32, 32)        1         \n",
      " t_1 (PruneLowMagnitude)                                         \n",
      "                                                                 \n",
      " prune_low_magnitude_conv2d  (None, 20, 32, 64)        36930     \n",
      " _1 (PruneLowMagnitude)                                          \n",
      "                                                                 \n",
      " prune_low_magnitude_batch_  (None, 20, 32, 64)        257       \n",
      " normalization_2 (PruneLowM                                      \n",
      " agnitude)                                                       \n",
      "                                                                 \n",
      " prune_low_magnitude_dropou  (None, 20, 32, 64)        1         \n",
      " t_2 (PruneLowMagnitude)                                         \n",
      "                                                                 \n",
      " prune_low_magnitude_max_po  (None, 10, 16, 64)        1         \n",
      " oling2d_1 (PruneLowMagnitu                                      \n",
      " de)                                                             \n",
      "                                                                 \n",
      " prune_low_magnitude_batch_  (None, 10, 16, 64)        257       \n",
      " normalization_3 (PruneLowM                                      \n",
      " agnitude)                                                       \n",
      "                                                                 \n",
      " prune_low_magnitude_dropou  (None, 10, 16, 64)        1         \n",
      " t_3 (PruneLowMagnitude)                                         \n",
      "                                                                 \n",
      " prune_low_magnitude_conv2d  (None, 10, 16, 128)       147586    \n",
      " _2 (PruneLowMagnitude)                                          \n",
      "                                                                 \n",
      " prune_low_magnitude_batch_  (None, 10, 16, 128)       513       \n",
      " normalization_4 (PruneLowM                                      \n",
      " agnitude)                                                       \n",
      "                                                                 \n",
      " prune_low_magnitude_dropou  (None, 10, 16, 128)       1         \n",
      " t_4 (PruneLowMagnitude)                                         \n",
      "                                                                 \n",
      " prune_low_magnitude_max_po  (None, 5, 8, 128)         1         \n",
      " oling2d_2 (PruneLowMagnitu                                      \n",
      " de)                                                             \n",
      "                                                                 \n",
      " prune_low_magnitude_batch_  (None, 5, 8, 128)         513       \n",
      " normalization_5 (PruneLowM                                      \n",
      " agnitude)                                                       \n",
      "                                                                 \n",
      " prune_low_magnitude_flatte  (None, 5120)              1         \n",
      " n (PruneLowMagnitude)                                           \n",
      "                                                                 \n",
      " prune_low_magnitude_dense   (None, 256)               2621698   \n",
      " (PruneLowMagnitude)                                             \n",
      "                                                                 \n",
      " prune_low_magnitude_batch_  (None, 256)               1025      \n",
      " normalization_6 (PruneLowM                                      \n",
      " agnitude)                                                       \n",
      "                                                                 \n",
      " prune_low_magnitude_dropou  (None, 256)               1         \n",
      " t_5 (PruneLowMagnitude)                                         \n",
      "                                                                 \n",
      " prune_low_magnitude_dense_  (None, 128)               65666     \n",
      " 1 (PruneLowMagnitude)                                           \n",
      "                                                                 \n",
      " prune_low_magnitude_batch_  (None, 128)               513       \n",
      " normalization_7 (PruneLowM                                      \n",
      " agnitude)                                                       \n",
      "                                                                 \n",
      " prune_low_magnitude_dropou  (None, 128)               1         \n",
      " t_6 (PruneLowMagnitude)                                         \n",
      "                                                                 \n",
      " prune_low_magnitude_dense_  (None, 6)                 1544      \n",
      " 2 (PruneLowMagnitude)                                           \n",
      "                                                                 \n",
      "=================================================================\n",
      "Total params: 2878533 (10.98 MB)\n",
      "Trainable params: 1439558 (5.49 MB)\n",
      "Non-trainable params: 1438975 (5.49 MB)\n",
      "_________________________________________________________________\n",
      "None\n",
      "Epoch 1/200\n",
      "161/161 [==============================] - 10s 49ms/step - loss: 1.4634 - accuracy: 0.7693 - val_loss: 1.5271 - val_accuracy: 0.7668\n",
      "Epoch 2/200\n",
      "161/161 [==============================] - 8s 47ms/step - loss: 1.1094 - accuracy: 0.8638 - val_loss: 1.5243 - val_accuracy: 0.7426\n",
      "Epoch 3/200\n",
      "161/161 [==============================] - 7s 47ms/step - loss: 1.0709 - accuracy: 0.8803 - val_loss: 1.6358 - val_accuracy: 0.7212\n",
      "Epoch 4/200\n",
      "161/161 [==============================] - 7s 46ms/step - loss: 1.0041 - accuracy: 0.8945 - val_loss: 1.5396 - val_accuracy: 0.6836\n",
      "Epoch 5/200\n",
      "161/161 [==============================] - 8s 47ms/step - loss: 1.0198 - accuracy: 0.8890 - val_loss: 1.5404 - val_accuracy: 0.7507\n",
      "Epoch 6/200\n",
      "161/161 [==============================] - 8s 47ms/step - loss: 1.0505 - accuracy: 0.8834 - val_loss: 1.6087 - val_accuracy: 0.7399\n",
      "Epoch 7/200\n",
      "161/161 [==============================] - 8s 47ms/step - loss: 1.0318 - accuracy: 0.8962 - val_loss: 1.8312 - val_accuracy: 0.6113\n",
      "Epoch 8/200\n",
      "161/161 [==============================] - 8s 48ms/step - loss: 1.0366 - accuracy: 0.8948 - val_loss: 1.8926 - val_accuracy: 0.6649\n",
      "Epoch 9/200\n",
      "161/161 [==============================] - 8s 47ms/step - loss: 1.0402 - accuracy: 0.8964 - val_loss: 1.6893 - val_accuracy: 0.6729\n",
      "Epoch 10/200\n",
      "161/161 [==============================] - 8s 48ms/step - loss: 1.0194 - accuracy: 0.8960 - val_loss: 1.5786 - val_accuracy: 0.7534\n",
      "Epoch 11/200\n",
      "161/161 [==============================] - 9s 53ms/step - loss: 1.0187 - accuracy: 0.8997 - val_loss: 1.5812 - val_accuracy: 0.7373\n",
      "Epoch 12/200\n",
      "161/161 [==============================] - 8s 50ms/step - loss: 1.0019 - accuracy: 0.9052 - val_loss: 1.5078 - val_accuracy: 0.7507\n",
      "Epoch 13/200\n",
      "161/161 [==============================] - 7s 45ms/step - loss: 0.9935 - accuracy: 0.9042 - val_loss: 1.5742 - val_accuracy: 0.7346\n",
      "Epoch 14/200\n",
      "161/161 [==============================] - 8s 48ms/step - loss: 0.9838 - accuracy: 0.9125 - val_loss: 1.5262 - val_accuracy: 0.7212\n",
      "Epoch 15/200\n",
      "161/161 [==============================] - 8s 51ms/step - loss: 0.9782 - accuracy: 0.9100 - val_loss: 1.4899 - val_accuracy: 0.7668\n",
      "Epoch 16/200\n",
      "161/161 [==============================] - 8s 52ms/step - loss: 0.9767 - accuracy: 0.9083 - val_loss: 1.8104 - val_accuracy: 0.6166\n",
      "Epoch 17/200\n",
      "161/161 [==============================] - 8s 48ms/step - loss: 1.0246 - accuracy: 0.9001 - val_loss: 1.5303 - val_accuracy: 0.7828\n",
      "Epoch 18/200\n",
      "161/161 [==============================] - 8s 50ms/step - loss: 0.9825 - accuracy: 0.9009 - val_loss: 1.7360 - val_accuracy: 0.6622\n",
      "Epoch 19/200\n",
      "161/161 [==============================] - 8s 49ms/step - loss: 0.9829 - accuracy: 0.9085 - val_loss: 1.5636 - val_accuracy: 0.7292\n",
      "Epoch 20/200\n",
      "161/161 [==============================] - 8s 49ms/step - loss: 0.9613 - accuracy: 0.9098 - val_loss: 1.6775 - val_accuracy: 0.6488\n",
      "Epoch 21/200\n",
      "161/161 [==============================] - 8s 51ms/step - loss: 0.9382 - accuracy: 0.9141 - val_loss: 1.5873 - val_accuracy: 0.7373\n",
      "Epoch 22/200\n",
      "161/161 [==============================] - 8s 49ms/step - loss: 0.9576 - accuracy: 0.9104 - val_loss: 1.5365 - val_accuracy: 0.7212\n",
      "Epoch 23/200\n",
      "161/161 [==============================] - 8s 49ms/step - loss: 0.9559 - accuracy: 0.9129 - val_loss: 1.5920 - val_accuracy: 0.7239\n",
      "Epoch 24/200\n",
      "161/161 [==============================] - 8s 49ms/step - loss: 0.9195 - accuracy: 0.9151 - val_loss: 1.6048 - val_accuracy: 0.7480\n",
      "Epoch 25/200\n",
      "161/161 [==============================] - 8s 48ms/step - loss: 0.9751 - accuracy: 0.9048 - val_loss: 1.6187 - val_accuracy: 0.7078\n",
      "Epoch 26/200\n",
      "161/161 [==============================] - 8s 50ms/step - loss: 0.9438 - accuracy: 0.9147 - val_loss: 1.5148 - val_accuracy: 0.7507\n",
      "Epoch 27/200\n",
      "161/161 [==============================] - 8s 49ms/step - loss: 0.9049 - accuracy: 0.9147 - val_loss: 1.5457 - val_accuracy: 0.7185\n",
      "Epoch 28/200\n",
      "161/161 [==============================] - 8s 50ms/step - loss: 0.8933 - accuracy: 0.9118 - val_loss: 1.7990 - val_accuracy: 0.6595\n",
      "Epoch 29/200\n",
      "161/161 [==============================] - 8s 49ms/step - loss: 0.9269 - accuracy: 0.9094 - val_loss: 1.8795 - val_accuracy: 0.6354\n",
      "Epoch 30/200\n",
      "161/161 [==============================] - 8s 49ms/step - loss: 0.9266 - accuracy: 0.9129 - val_loss: 1.7404 - val_accuracy: 0.6408\n",
      "Epoch 31/200\n",
      "161/161 [==============================] - 8s 49ms/step - loss: 0.9085 - accuracy: 0.9120 - val_loss: 1.5371 - val_accuracy: 0.7373\n",
      "Epoch 32/200\n",
      "161/161 [==============================] - 8s 48ms/step - loss: 0.9340 - accuracy: 0.9096 - val_loss: 1.4981 - val_accuracy: 0.7399\n",
      "Epoch 33/200\n",
      "161/161 [==============================] - 8s 47ms/step - loss: 0.9103 - accuracy: 0.9141 - val_loss: 1.5818 - val_accuracy: 0.7560\n",
      "Epoch 34/200\n",
      "161/161 [==============================] - 8s 48ms/step - loss: 0.9123 - accuracy: 0.9114 - val_loss: 1.5945 - val_accuracy: 0.7319\n",
      "Epoch 35/200\n",
      "161/161 [==============================] - 8s 50ms/step - loss: 0.9200 - accuracy: 0.9127 - val_loss: 1.7169 - val_accuracy: 0.6488\n",
      "Epoch 36/200\n",
      "161/161 [==============================] - 8s 52ms/step - loss: 0.9421 - accuracy: 0.9108 - val_loss: 1.6919 - val_accuracy: 0.7105\n",
      "Epoch 37/200\n",
      "161/161 [==============================] - 8s 48ms/step - loss: 0.9323 - accuracy: 0.9121 - val_loss: 1.6865 - val_accuracy: 0.7051\n",
      "Epoch 38/200\n",
      "161/161 [==============================] - 8s 50ms/step - loss: 0.8895 - accuracy: 0.9114 - val_loss: 1.6670 - val_accuracy: 0.6890\n",
      "Epoch 39/200\n",
      "161/161 [==============================] - 8s 51ms/step - loss: 0.9364 - accuracy: 0.9050 - val_loss: 1.7432 - val_accuracy: 0.6971\n",
      "Epoch 40/200\n",
      "161/161 [==============================] - 8s 51ms/step - loss: 0.9187 - accuracy: 0.9123 - val_loss: 1.8576 - val_accuracy: 0.6542\n",
      "Epoch 41/200\n",
      "161/161 [==============================] - 8s 51ms/step - loss: 0.8604 - accuracy: 0.9197 - val_loss: 1.4957 - val_accuracy: 0.7480\n",
      "Epoch 42/200\n",
      "161/161 [==============================] - 8s 51ms/step - loss: 0.8673 - accuracy: 0.9155 - val_loss: 1.4887 - val_accuracy: 0.7292\n",
      "Epoch 43/200\n",
      "161/161 [==============================] - 8s 48ms/step - loss: 0.8800 - accuracy: 0.9213 - val_loss: 1.5767 - val_accuracy: 0.7158\n",
      "Epoch 44/200\n",
      "161/161 [==============================] - 8s 48ms/step - loss: 0.8915 - accuracy: 0.9168 - val_loss: 1.6099 - val_accuracy: 0.6810\n",
      "Epoch 45/200\n",
      "161/161 [==============================] - 8s 47ms/step - loss: 0.8960 - accuracy: 0.9149 - val_loss: 1.7487 - val_accuracy: 0.7185\n",
      "Epoch 46/200\n",
      "161/161 [==============================] - 8s 50ms/step - loss: 0.9220 - accuracy: 0.9133 - val_loss: 1.5656 - val_accuracy: 0.7346\n",
      "Epoch 47/200\n",
      "161/161 [==============================] - 8s 49ms/step - loss: 0.8464 - accuracy: 0.9244 - val_loss: 1.4688 - val_accuracy: 0.7319\n",
      "59/59 [==============================] - 1s 13ms/step\n",
      "59/59 [==============================] - 1s 12ms/step - loss: 1.4192 - accuracy: 0.7856\n"
     ]
    }
   ],
   "source": [
    "# Abspeichern der Erebnisse jedes Splits für die Confusion-Matrix\n",
    "true_labels = list()\n",
    "pred_labels = list()\n",
    "train_accuracies = list()\n",
    "test_accuracies = list()\n",
    "val_accuracies = list()\n",
    "train_losses = list()\n",
    "val_losses = list()\n",
    "test_losses = list()\n",
    "\n",
    "for train_indezes, test_indezes in kfold.split(X, y):\n",
    "    # wir löschen das Model der letzten Iteration aus dem Cache um RAM zu sparen\n",
    "    K.clear_session()\n",
    "\n",
    "    # Daten splitten\n",
    "    X_train, y_train, X_val, y_val, X_test, y_test = train_val_test_split(train_indezes, test_indezes)\n",
    "\n",
    "    # Resample nur Trainings- und Validationmenge\n",
    "    X_train, y_train = resample_after_split(X_train, y_train)\n",
    "    #X_val, y_val = resample_after_split(X_val, y_val)\n",
    "\n",
    "    optimizers = create_optimizers(len(X_train))\n",
    "    \n",
    "    # Das Model wird hier compiled, damit wir nach jeder Iteration das alte Model aus dem Cache löschen können  Adam(0.001)\n",
    "    model.compile(optimizer=optimizers['adam'], loss=\"sparse_categorical_crossentropy\", metrics=[\"accuracy\"])\n",
    "    print(model.summary())\n",
    "    history = fit_model(model, X_train, y_train, X_val, y_val)\n",
    "\n",
    "    # Für die Confusion Matrix\n",
    "    pred =model.predict(X_test)\n",
    "    predictions = np.argmax(pred, axis=-1)\n",
    "    true_labels.extend(y_test)\n",
    "    pred_labels.extend(predictions)\n",
    "\n",
    "    # Für die Accuracy-Curves\n",
    "    train_accuracies.extend(history.history['accuracy'])\n",
    "    val_accuracies.extend(history.history['val_accuracy'])\n",
    "\n",
    "    # Für die Loss-Curves\n",
    "    train_losses.extend(history.history['loss'])\n",
    "    val_losses.extend(history.history['val_loss'])\n",
    "\n",
    "    loss, accuracy = model.evaluate(X_test, y_test)\n",
    "    test_accuracies.append(accuracy)\n",
    "    test_losses.append(loss)\n"
   ]
  },
  {
   "cell_type": "markdown",
   "metadata": {},
   "source": [
    "#### VGG19 und ResNet50 als Vergleich\n",
    "\n",
    "**Hinweis:** Um die Lesbarkeit zu verbessern stehen die beiden Modelle in eigenen Stellen. Natürlich wäre das Ergebnis noch ein klein bisschen aussagekräftiger, weniger rechenintensiv und RAM sparrender, wenn wir die Splits unseres eigenen Models wiederverwenden würden. Außerdem trainieren wir die Conv-Layer nicht nach, da wir nur einen groben Anhaltspunkt haben wollten und durch die begrenzte Rechenkapazität uns lieber auf einen Erkenntnisgewinn in unseren Nachforschungen fokusieren wollten."
   ]
  },
  {
   "cell_type": "markdown",
   "metadata": {},
   "source": [
    "##### VGG19"
   ]
  },
  {
   "cell_type": "code",
   "execution_count": 17,
   "metadata": {
    "scrolled": true
   },
   "outputs": [],
   "source": [
    "%%script false --no-raise-error\n",
    "early_stopping = EarlyStopping(monitor='val_accuracy', patience=30, min_delta=0.001, start_from_epoch=15, restore_best_weights=True)\n",
    "epochs = 200\n",
    "batch_size = 32\n",
    "\n",
    "vgg19_test_accuracies = list()\n",
    "\n",
    "base_model = VGG19(weights='imagenet', include_top=False, input_shape=image_shape)\n",
    "\n",
    "# Convolution-Teil fixieren\n",
    "for layer in base_model.layers:\n",
    "    layer.trainable = False\n",
    "\n",
    "model = tf.keras.models.Sequential()\n",
    "model.add(base_model)\n",
    "model.add(tf.keras.layers.Flatten())\n",
    "model.add(tf.keras.layers.Dense(256, activation='relu', kernel_regularizer=regularizers.l2(weight_decay_alpha)))\n",
    "model.add(tf.keras.layers.BatchNormalization())\n",
    "model.add(tf.keras.layers.Dropout(dropout_rate))\n",
    "model.add(tf.keras.layers.Dense(128, activation='relu', kernel_regularizer=regularizers.l2(weight_decay_alpha)))\n",
    "model.add(tf.keras.layers.BatchNormalization())\n",
    "model.add(tf.keras.layers.Dropout(dropout_rate))\n",
    "model.add(tf.keras.layers.Dense(6, activation='softmax'))\n",
    "\n",
    "model.compile(optimizer='adam', loss='sparse_categorical_crossentropy', metrics=['accuracy'])\n",
    "\n",
    "for train_indezes, test_indezes in kfold.split(X, y):\n",
    "    K.clear_session()\n",
    "    X_train, y_train = tf.convert_to_tensor(X[train_indezes]), tf.convert_to_tensor(y[train_indezes])\n",
    "    X_test, y_test = tf.convert_to_tensor(X[test_indezes]), tf.convert_to_tensor(y[test_indezes])\n",
    "    history = model.fit(X_train, y_train, batch_size=batch_size, callbacks=[early_stopping], epochs=epochs, validation_split=0.2, verbose=1)\n",
    "    _, accuracy = model.evaluate(X_test, y_test)\n",
    "    vgg19_test_accuracies.append(accuracy)"
   ]
  },
  {
   "cell_type": "markdown",
   "metadata": {},
   "source": [
    "##### ResNet50"
   ]
  },
  {
   "cell_type": "code",
   "execution_count": 18,
   "metadata": {},
   "outputs": [],
   "source": [
    "%%script false --no-raise-error\n",
    "early_stopping = EarlyStopping(monitor='val_accuracy', patience=30, min_delta=0.001, start_from_epoch=15, restore_best_weights=True)\n",
    "epochs = 200\n",
    "batch_size = 32\n",
    "\n",
    "resnet50_test_accuracies = list()\n",
    "\n",
    "base_model = ResNet50(weights='imagenet', include_top=False, input_shape=image_shape)\n",
    "\n",
    "# Convolution-Teil fixieren\n",
    "for layer in base_model.layers:\n",
    "    layer.trainable = False\n",
    "\n",
    "model = tf.keras.layers.Sequential()\n",
    "model.add(base_model)\n",
    "model.add(tf.keras.layers.Flatten())\n",
    "model.add(tf.keras.layers.Dense(256, activation='relu', kernel_regularizer=regularizers.l2(weight_decay_alpha)))\n",
    "model.add(tf.keras.layers.BatchNormalization())\n",
    "model.add(tf.keras.layers.Dropout(dropout_rate))\n",
    "model.add(tf.keras.layers.Dense(128, activation='relu', kernel_regularizer=regularizers.l2(weight_decay_alpha)))\n",
    "model.add(tf.keras.layers.BatchNormalization())\n",
    "model.add(tf.keras.layers.Dropout(dropout_rate))\n",
    "model.add(tf.keras.layers.Dense(6, activation='softmax'))\n",
    "\n",
    "model.compile(optimizer='adam', loss='sparse_categorical_crossentropy', metrics=['accuracy'])\n",
    "\n",
    "for train_indezes, test_indezes in kfold.split(X, y):\n",
    "    K.clear_session()\n",
    "    X_train, y_train = tf.convert_to_tensor(X[train_indezes]), tf.convert_to_tensor(y[train_indezes])\n",
    "    X_test, y_test = tf.convert_to_tensor(X[test_indezes]), tf.convert_to_tensor(y[test_indezes])\n",
    "    history = model.fit(X_train, y_train, batch_size=batch_size, callbacks=[early_stopping], epochs=epochs, validation_split=0.2, verbose=1)\n",
    "    _, accuracy = model.evaluate(X_test, y_test)\n",
    "    resnet50_test_accuracies.append(accuracy)"
   ]
  },
  {
   "cell_type": "markdown",
   "metadata": {},
   "source": [
    "#### Confusion Matrix"
   ]
  },
  {
   "cell_type": "markdown",
   "metadata": {},
   "source": [
    "Man kann klar erkennen, je weniger Datenpunkte vorhanden desto schlechter ist die Klassifikation. Leider konnten wir, wie bereits erwähnt ohne Domänenwissen und den eingeschränkten Mitteln das Problem nicht lösen."
   ]
  },
  {
   "cell_type": "code",
   "execution_count": 19,
   "metadata": {},
   "outputs": [
    {
     "data": {
      "image/png": "[encoded data removed]",
      "text/plain": [
       "<Figure size 800x600 with 2 Axes>"
      ]
     },
     "metadata": {},
     "output_type": "display_data"
    }
   ],
   "source": [
    "confusion_matrix = confusion_matrix(true_labels, pred_labels)\n",
    "fig, ax = plt.subplots(figsize=(8, 6))\n",
    "cm_display = ConfusionMatrixDisplay(confusion_matrix, display_labels=classes)\n",
    "cm_display.plot(ax=ax, cmap=plt.cm.Blues)\n",
    "plt.title('Confusion Matrix')\n",
    "plt.xlabel('Predicted Label')\n",
    "plt.ylabel('True Label')\n",
    "plt.show()"
   ]
  },
  {
   "cell_type": "markdown",
   "metadata": {},
   "source": [
    "#### Trainings- und Validationkurve plotten"
   ]
  },
  {
   "cell_type": "code",
   "execution_count": 20,
   "metadata": {},
   "outputs": [
    {
     "data": {
      "image/png": "[encoded data removed]",
      "text/plain": [
       "<Figure size 1200x400 with 2 Axes>"
      ]
     },
     "metadata": {},
     "output_type": "display_data"
    }
   ],
   "source": [
    "epochs = len(train_losses)\n",
    "plt.figure(figsize=(12, 4))\n",
    "\n",
    "# Plotting Loss curves\n",
    "plt.subplot(1, 2, 1)\n",
    "plt.plot(range(1, epochs + 1), train_losses, label='Training Loss')\n",
    "plt.plot(range(1, epochs + 1), val_losses, label='Validation Loss')\n",
    "plt.title('Training and Validation Loss')\n",
    "plt.xlabel('Epochs')\n",
    "plt.ylabel('Loss')\n",
    "plt.legend()\n",
    "\n",
    "# Plotting Accuracy curves\n",
    "plt.subplot(1, 2, 2)\n",
    "plt.plot(range(1, epochs + 1), train_accuracies, label='Training Accuracy')\n",
    "plt.plot(range(1, epochs + 1), val_accuracies, label='Validation Accuracy')\n",
    "plt.title('Training and Validation Accuracy')\n",
    "plt.xlabel('Epochs')\n",
    "plt.ylabel('Accuracy')\n",
    "plt.legend()\n",
    "\n",
    "plt.tight_layout()\n",
    "plt.savefig(\"./cnn_files/loss_and_accuraccy.png\")\n",
    "plt.show()"
   ]
  },
  {
   "cell_type": "markdown",
   "metadata": {},
   "source": [
    "#### Ergebnisse"
   ]
  },
  {
   "cell_type": "markdown",
   "metadata": {},
   "source": [
    "|Durchführung|Avg. Test Acc|\n",
    "|:-|-:|\n",
    "|**VGG19**|\n",
    "| Kein Resample, top 6 classes (> 60), vgg19| 82% |\n",
    "| Kein Resample, top 4 classes (>200), vgg19| 83% |\n",
    "| Kein Resample, top 2 classes (>500), vgg19| 91% |\n",
    "|---------------|\n",
    "|**ResNet50**|\n",
    "| Kein Resample, top 6 classes (> 60), resNet50| 70% |\n",
    "| Kein Resample, top 4 classes (>200), resNet50| 74% |\n",
    "| Kein Resample, top 2 classes (>500), resNet50| 84% |\n",
    "|---------------|\n",
    "|**Unser Modell**|\n",
    "| Kein Resample, top 6 classes (> 60), cnn  | 79% |\n",
    "| Kein Resample, top 4 classes (>200), cnn  | 83% |\n",
    "| Kein Resample, top 2 classes (>500), cnn  | 87% |"
   ]
  },
  {
   "cell_type": "code",
   "execution_count": 21,
   "metadata": {},
   "outputs": [
    {
     "name": "stdout",
     "output_type": "stream",
     "text": [
      "Unser Modell:\n",
      "Avg. Val Accuracy: 0.6943339866479771\n",
      "Best Val Accuracy: 0.7828418016433716\n",
      "Avg. Test Accuracy: 0.7882858514785767\n",
      "Best Test Accuracy: 0.7909725904464722\n",
      "Avg. Test Loss: 1.439354121685028\n"
     ]
    }
   ],
   "source": [
    "#print(f\"VGG19 Avg. test accuracy: {sum(vgg19_test_accuracies) / len(vgg19_test_accuracies)}\")\n",
    "#print(f\"ResNet50 Avg. test accuracy: {sum(vgg19_test_accuracies) / len(vgg19_test_accuracies)}\")\n",
    "\n",
    "print(\"Unser Modell:\")\n",
    "print(f\"Avg. Val Accuracy: {sum(val_accuracies) / len(val_accuracies)}\")\n",
    "print(f\"Best Val Accuracy: {max(val_accuracies)}\")\n",
    "print(f\"Avg. Test Accuracy: {sum(test_accuracies) / len(test_accuracies)}\")\n",
    "print(f\"Best Test Accuracy: {max(test_accuracies)}\")\n",
    "print(f\"Avg. Test Loss: {sum(test_losses) / len(test_losses)}\")"
   ]
  },
  {
   "cell_type": "code",
   "execution_count": null,
   "metadata": {},
   "outputs": [],
   "source": []
  }
 ],
 "metadata": {
  "kernelspec": {
   "display_name": "Python 3 (ipykernel)",
   "language": "python",
   "name": "python3"
  },
  "language_info": {
   "codemirror_mode": {
    "name": "ipython",
    "version": 3
   },
   "file_extension": ".py",
   "mimetype": "text/x-python",
   "name": "python",
   "nbconvert_exporter": "python",
   "pygments_lexer": "ipython3",
   "version": "3.11.6"
  }
 },
 "nbformat": 4,
 "nbformat_minor": 4
}

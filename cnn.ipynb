{
 "cells": [
  {
   "cell_type": "markdown",
   "metadata": {},
   "source": []
  },
  {
   "cell_type": "markdown",
   "metadata": {},
   "source": [
    "# Main CNN model for bat call classification"
   ]
  },
  {
   "cell_type": "code",
   "execution_count": null,
   "metadata": {},
   "outputs": [],
   "source": [
    "# Imports\n",
    "import pandas as pd\n",
    "import numpy as np\n",
    "import matplotlib.pyplot as plt\n",
    "import matplotlib.patches as patches\n",
    "from typing import Callable\n",
    "from tensorflow.keras.models import Sequential\n",
    "from tensorflow.keras.layers import Dense, Conv2D, Flatten, MaxPool2D, Dropout\n",
    "from tensorflow.keras.optimizers import SGD\n",
    "from tensorflow.keras.preprocessing.image import ImageDataGenerator\n",
    "from tensorflow.keras.callbacks import EarlyStopping\n",
    "from tensorflow.keras.models import load_model\n",
    "from tensorflow_addons.metrics import F1Score\n",
    "import math\n",
    "import pickle"
   ]
  },
  {
   "cell_type": "code",
   "execution_count": null,
   "metadata": {},
   "outputs": [],
   "source": [
    "# hyperparameter\n",
    "number_of_classes = asdf\n",
    "conv_kernel_size = (3, 3)\n",
    "pooling_size = (2, 2)\n",
    "early_stopping = EarlyStopping(monitor='val_accuracy', patience=20, min_delta=0.001, start_from_epoch=15, restore_best_weights=True)\n",
    "batch_size = 128\n",
    "padding = \"same\"\n",
    "learning_rate = 0.001\n",
    "momentum = 0.99\n",
    "epochs = 200\n",
    "dropout_rate = 1 - 0.6\n",
    "\n",
    "\n",
    "def create_model(learning_rate=0.001, momentum=0.99, optimizer=\"adam\"):\n",
    "    f1 = F1Score(num_classes=number_of_classes, average=\"micro\")\n",
    "\n",
    "    model=Sequential()\n",
    "\n",
    "    # Feature Extraction\n",
    "    global number_of_pred_filter\n",
    "    global predicted_first_layer\n",
    "    number_of_pred_filter = 32\n",
    "    model.add(Conv2D(number_of_pred_filter,conv_kernel_size,activation=activation_function,input_shape=(28,28,1),padding=padding))\n",
    "    predicted_first_layer = model.predict(X_test.reshape(-1, picture_shape[0], picture_shape[1], picture_shape[2]))\n",
    "    model.add(MaxPool2D(pooling_size))\n",
    "    model.add(Dropout(dropout_rate))\n",
    "\n",
    "    model.add(Conv2D(64,conv_kernel_size,activation=activation_function, padding=padding))\n",
    "    model.add(MaxPool2D(pooling_size))\n",
    "    model.add(Dropout(dropout_rate))\n",
    "\n",
    "    # Classficiation\n",
    "    model.add(Flatten())\n",
    "    number_of_neurons = 256\n",
    "    model.add(Dense(number_of_neurons, activation=activation_function))\n",
    "    model.add(Dropout(dropout_rate))\n",
    "\n",
    "    number_of_neurons = 128\n",
    "    model.add(Dense(128, activation=activation_function))\n",
    "    model.add(Dropout(dropout_rate))\n",
    "\n",
    "    number_of_neurons = 64\n",
    "    model.add(Dense(number_of_neurons, activation=activation_function))\n",
    "    model.add(Dropout(dropout_rate))\n",
    "\n",
    "    # Output-Layer\n",
    "    model.add(Dense(number_of_classes, activation=\"softmax\"))\n",
    "    model.compile(optimizer=optimizer, loss=\"categorical_crossentropy\", metrics=[\"accuracy\", f1])\n",
    "\n",
    "    return model\n",
    "\n",
    "model = create_model(0.001)"
   ]
  }
 ],
 "metadata": {
  "language_info": {
   "name": "python"
  }
 },
 "nbformat": 4,
 "nbformat_minor": 2
}

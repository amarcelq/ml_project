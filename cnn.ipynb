{
 "cells": [
  {
   "cell_type": "markdown",
   "metadata": {},
   "source": [
    "# CNN Model"
   ]
  },
  {
   "cell_type": "markdown",
   "metadata": {},
   "source": [
    "#### Imports"
   ]
  },
  {
   "cell_type": "code",
   "execution_count": 1,
   "metadata": {},
   "outputs": [],
   "source": [
    "import pandas as pd\n",
    "import numpy as np\n",
    "import matplotlib.pyplot as plt\n",
    "import tensorflow as tf\n",
    "from tensorflow.keras.callbacks import EarlyStopping\n",
    "from keras import backend as K \n",
    "from sklearn.model_selection import StratifiedKFold\n",
    "from tensorflow.keras import regularizers\n",
    "import tensorflow.keras as keras\n",
    "import tensorflow_model_optimization as tfmot\n",
    "from sklearn.metrics import confusion_matrix, ConfusionMatrixDisplay\n",
    "import json\n",
    "from sklearn.model_selection import train_test_split\n",
    "from tensorflow.keras.applications import VGG19\n",
    "from tensorflow.keras.applications.resnet50 import ResNet50\n",
    "from tensorflow.keras.optimizers.legacy import Adam\n",
    "from tensorflow.keras.optimizers.legacy import SGD\n",
    "from tensorflow.keras.optimizers.schedules import ExponentialDecay"
   ]
  },
  {
   "cell_type": "markdown",
   "metadata": {},
   "source": [
    "#### GPU deaktivieren"
   ]
  },
  {
   "cell_type": "markdown",
   "metadata": {},
   "source": [
    "**Hinweis:** Bei M1/M2-Chips wird standardmäßig die GPU verwendet. Daher muss es für diese Chips einkommentiert werden, da diese Dropout-Layer mit GPU nicht gut handeln können"
   ]
  },
  {
   "cell_type": "code",
   "execution_count": 2,
   "metadata": {},
   "outputs": [],
   "source": [
    "tf.config.set_visible_devices([], 'GPU')"
   ]
  },
  {
   "cell_type": "markdown",
   "metadata": {},
   "source": [
    "#### Daten einlesen"
   ]
  },
  {
   "cell_type": "markdown",
   "metadata": {},
   "source": [
    "**Hinweis:** Die Daten wurden in einer pkl-Datei gespeichert, um nicht jedes mal die Vorverarbeitung durchführen zu müssen und unkompliziert zwischen den Modelklassen hin- und her wechseln zu können"
   ]
  },
  {
   "cell_type": "code",
   "execution_count": 3,
   "metadata": {},
   "outputs": [],
   "source": [
    "data = pd.read_pickle('./data/images_df_numerical.pkl')\n",
    "classes = data[\"Species\"].unique()\n",
    "number_of_classes = classes.size\n",
    "X, y = data['data'], data['Species']\n",
    "# Wir hatten massive Probleme mit der Begrenztheit unseres RAMs, weshalb wir versucht haben die Usage an mehreren Stellen zu reduzieren\n",
    "X, y = np.stack(X).astype(np.float16), y.to_numpy().astype(np.uint8)\n"
   ]
  },
  {
   "cell_type": "markdown",
   "metadata": {},
   "source": [
    "#### Seed setzen"
   ]
  },
  {
   "cell_type": "markdown",
   "metadata": {},
   "source": [
    "Um die Nachvollziehbarkeit zu erhöhen setzen wir den Seed immer auf den selben Startwert"
   ]
  },
  {
   "cell_type": "code",
   "execution_count": 4,
   "metadata": {},
   "outputs": [],
   "source": [
    "tf.keras.utils.set_random_seed(1)"
   ]
  },
  {
   "cell_type": "markdown",
   "metadata": {},
   "source": [
    "Bei Verwendung einer GPU macht es die Operationen so deterministisch wie möglich\n",
    "\n",
    "**Hinweis:** Diese Option vermindert die Performance"
   ]
  },
  {
   "cell_type": "code",
   "execution_count": 5,
   "metadata": {},
   "outputs": [],
   "source": [
    "tf.config.experimental.enable_op_determinism()"
   ]
  },
  {
   "cell_type": "markdown",
   "metadata": {},
   "source": [
    "#### Bilder reshapen"
   ]
  },
  {
   "cell_type": "code",
   "execution_count": 6,
   "metadata": {},
   "outputs": [],
   "source": [
    "image_size = X[0].size\n",
    "samples = X.size\n",
    "with open(\"./data/meta.json\",\"r\") as file:  # Shape der Bilder nach dem resizen aus dem data_prep notebook\n",
    "    image_meta = json.load(file) \n",
    "image_shape = (image_meta['h'],image_meta['w'],image_meta['c'])"
   ]
  },
  {
   "cell_type": "code",
   "execution_count": 7,
   "metadata": {},
   "outputs": [
    {
     "name": "stdout",
     "output_type": "stream",
     "text": [
      "Image has shape: (82, 128, 3)\n"
     ]
    }
   ],
   "source": [
    "X = X.reshape((-1,) + image_shape)\n",
    "print(f\"Image has shape: {image_shape}\")"
   ]
  },
  {
   "cell_type": "code",
   "execution_count": 8,
   "metadata": {},
   "outputs": [
    {
     "name": "stdout",
     "output_type": "stream",
     "text": [
      "117/117 [==============================] - 4s 32ms/step\n"
     ]
    }
   ],
   "source": [
    "autoencoder = keras.saving.load_model('./ae_files/test_autoencoder_cnn.keras')\n",
    "X = autoencoder.predict(X)\n",
    "X = X.reshape((-1,) + image_shape)"
   ]
  },
  {
   "cell_type": "markdown",
   "metadata": {},
   "source": [
    "#### k-Fold-Cross-Validation"
   ]
  },
  {
   "cell_type": "markdown",
   "metadata": {},
   "source": [
    "Wir benutzen 10-Fold-Cross-Validation, um das Ergebnis weniger vom gewählten Split abhängig zu machen und somit das Ergebnis zu stabilisieren. Statified stellt sicher, dass die Klasseneinteilung beibehalten wird. Dies ist vor allem ohne Resampling interessant, da wir extrem ungleich verteilte Klassen haben."
   ]
  },
  {
   "cell_type": "code",
   "execution_count": 9,
   "metadata": {},
   "outputs": [],
   "source": [
    "kfold = StratifiedKFold(n_splits=2, shuffle=True)"
   ]
  },
  {
   "cell_type": "markdown",
   "metadata": {},
   "source": [
    "#### Modell"
   ]
  },
  {
   "cell_type": "markdown",
   "metadata": {},
   "source": [
    "Bei den Hyperparametern haben wir Grundsätzlich Standardwerte aus Papern o. Ä. benutzt und dann je nach Ergebnis empirisch angepasst"
   ]
  },
  {
   "cell_type": "markdown",
   "metadata": {},
   "source": [
    "[Modelstruktur](https://www.kaggle.com/code/christianlillelund/classify-mnist-audio-using-spectrograms-keras-cnn)  \n",
    "[Epochs](https://doi.org/10.1016/j.icte.2020.04.010)  \n",
    "[Batch-Size und Learning Rate](https://elar.khmnu.edu.ua/items/a5d0d900-449d-4f3d-b800-c7200084384f)\n",
    "[Dropout-Rate](https://www.jmlr.org/papers/volume15/srivastava14a/srivastava14a.pdf)  \n",
    "[Pooling-Size](https://cs231n.github.io/convolutional-networks/#pool)  \n",
    "Weigh_decay_alpha: aus der Vorlesung\n",
    "Padding: Wir wollen nicht, dass für jede Schicht das Bild kleiner wird, da sonst das Innere des Bildes viel stärker gewichtet werden würde\n",
    "Batch Normalization: Normalisiert die Daten nach jedem Layer\n",
    "Relu: Da es sich um Bilder handelt und sie somit nur im positiven Wertebereich sind"
   ]
  },
  {
   "cell_type": "code",
   "execution_count": 10,
   "metadata": {},
   "outputs": [],
   "source": [
    "# Stoppt wenn bei 30 Epochen die Validation-Accuracy nicht um mehr als 0.001 besser wird\n",
    "early_stopping = EarlyStopping(monitor='val_accuracy', patience=30, min_delta=0.01, start_from_epoch=15, restore_best_weights=True)\n",
    "epochs = 200\n",
    "batch_size = 32\n",
    "dropout_rate = 0.4 # ehem. 0.2\n",
    "weight_decay_alpha = 0.01\n",
    "\n",
    "def create_model():\n",
    "    model = tf.keras.models.Sequential()\n",
    "    model.add(tf.keras.layers.Input(shape=image_shape, name=\"aaa\"))\n",
    "    model.add(tf.keras.layers.Conv2D(32, 3, strides=2, padding='same', activation='relu', kernel_regularizer=regularizers.l2(weight_decay_alpha)))\n",
    "    model.add(tf.keras.layers.BatchNormalization())\n",
    "    model.add(tf.keras.layers.Dropout(dropout_rate))\n",
    "    model.add(tf.keras.layers.MaxPooling2D(pool_size=(2, 2)))\n",
    "    model.add(tf.keras.layers.BatchNormalization())\n",
    "    model.add(tf.keras.layers.Dropout(dropout_rate))\n",
    "    model.add(tf.keras.layers.Conv2D(64, 3, padding='same', activation='relu', kernel_regularizer=regularizers.l2(weight_decay_alpha)))\n",
    "    model.add(tf.keras.layers.BatchNormalization())\n",
    "    model.add(tf.keras.layers.Dropout(dropout_rate))\n",
    "    model.add(tf.keras.layers.MaxPooling2D(pool_size=(2, 2)))\n",
    "    model.add(tf.keras.layers.BatchNormalization())\n",
    "    model.add(tf.keras.layers.Dropout(dropout_rate))\n",
    "    model.add(tf.keras.layers.Conv2D(128, 3, padding='same', activation='relu', kernel_regularizer=regularizers.l2(weight_decay_alpha)))\n",
    "    model.add(tf.keras.layers.BatchNormalization())\n",
    "    model.add(tf.keras.layers.Dropout(dropout_rate))\n",
    "    model.add(tf.keras.layers.MaxPooling2D(pool_size=(2, 2)))\n",
    "    model.add(tf.keras.layers.BatchNormalization())\n",
    "    model.add(tf.keras.layers.Flatten())\n",
    "    model.add(tf.keras.layers.Dense(256, activation='relu', kernel_regularizer=regularizers.l2(weight_decay_alpha)))\n",
    "    model.add(tf.keras.layers.BatchNormalization())\n",
    "    model.add(tf.keras.layers.Dropout(dropout_rate))\n",
    "    model.add(tf.keras.layers.Dense(128, activation='relu', kernel_regularizer=regularizers.l2(weight_decay_alpha)))\n",
    "    model.add(tf.keras.layers.BatchNormalization())\n",
    "    model.add(tf.keras.layers.Dropout(dropout_rate))\n",
    "    model.add(tf.keras.layers.Dense(number_of_classes, activation='softmax'))\n",
    "\n",
    "    return model"
   ]
  },
  {
   "cell_type": "markdown",
   "metadata": {},
   "source": [
    "#### Optimizierwahl"
   ]
  },
  {
   "cell_type": "markdown",
   "metadata": {},
   "source": [
    "Wir haben verschiedene Optimizier mit und ohne ExpoentialLRDecay ausprobiert:\n",
    "\n",
    "|Optimizer|Avg. Test Acc|\n",
    "|:-|-:|\n",
    "|**SGD**| 77% |\n",
    "|**SGD_exp**| 72% |\n",
    "|**ADAM**|79%|\n",
    "|**ADAM_exp**| 74% |"
   ]
  },
  {
   "cell_type": "code",
   "execution_count": 11,
   "metadata": {},
   "outputs": [],
   "source": [
    "def create_optimizers(num_samples) -> dict:\n",
    "    s = 130 * num_samples // 32 # number of steps in 130 epochs (batch size = 32)\n",
    "    exp_decay_sgd = ExponentialDecay(0.01, s, 0.1)\n",
    "    exp_adam = ExponentialDecay(0.01, s, 0.95, staircase=True)\n",
    "\n",
    "    momentum = 0.99\n",
    "    sgd_exp = SGD(exp_decay_sgd, momentum=momentum)\n",
    "    adam_exp = Adam(exp_adam)\n",
    "\n",
    "    sgd = SGD(0.001, momentum=momentum)\n",
    "    adam = Adam(0.001)\n",
    "\n",
    "    return {\"sgd_exp\": sgd_exp, \"adam_exp\": adam_exp, \"sgd\": sgd, \"adam\": adam}"
   ]
  },
  {
   "cell_type": "markdown",
   "metadata": {},
   "source": [
    "#### Model Fit Funktion"
   ]
  },
  {
   "cell_type": "code",
   "execution_count": 12,
   "metadata": {},
   "outputs": [],
   "source": [
    "def fit_model(model, X_train, y_train, X_val=None, y_val=None):\n",
    "    # Das Model macht selbst den Validation Split\n",
    "    if X_val is None or y_val is None:\n",
    "        history = model.fit(\n",
    "            X_train,\n",
    "            y_train,\n",
    "            epochs=epochs,\n",
    "            batch_size=batch_size,\n",
    "            callbacks=[early_stopping, tfmot.sparsity.keras.UpdatePruningStep()],\n",
    "            validation_split=0.2,\n",
    "            verbose=1)\n",
    "    # Wir übergeben dem Model Validation Daten\n",
    "    elif X_val is not None and y_val is not None:\n",
    "        history = model.fit(\n",
    "            X_train,\n",
    "            y_train,\n",
    "            epochs=epochs,\n",
    "            batch_size=batch_size,\n",
    "            callbacks=[early_stopping, tfmot.sparsity.keras.UpdatePruningStep()],\n",
    "            validation_data=(X_val,y_val),\n",
    "            verbose=1)\n",
    "    return history"
   ]
  },
  {
   "cell_type": "markdown",
   "metadata": {},
   "source": [
    "#### Model Pruning"
   ]
  },
  {
   "cell_type": "markdown",
   "metadata": {},
   "source": [
    "Größtenteils von hier übernommen und hat gut funktioniert: https://towardsdatascience.com/model-pruning-in-deep-neural-networks-using-the-tensorflow-api-7cf52bdd32"
   ]
  },
  {
   "cell_type": "code",
   "execution_count": 13,
   "metadata": {},
   "outputs": [],
   "source": [
    "end_step = np.ceil(X.shape[0] / batch_size).astype(np.int32) * epochs\n",
    "\n",
    "pruning_params = {\n",
    "      # Inital: 50% sparsity (50% zeros in weights) und Final: 80% Sparsity\n",
    "      'pruning_schedule': tfmot.sparsity.keras.PolynomialDecay(initial_sparsity=0.50,\n",
    "                                                                final_sparsity=0.80,\n",
    "                                                                begin_step=0,\n",
    "                                                                end_step=end_step)}\n",
    "\n",
    "model = create_model()\n",
    "model = tfmot.sparsity.keras.prune_low_magnitude(model, **pruning_params)"
   ]
  },
  {
   "cell_type": "markdown",
   "metadata": {},
   "source": [
    "#### Split-Funktion"
   ]
  },
  {
   "cell_type": "code",
   "execution_count": 14,
   "metadata": {},
   "outputs": [],
   "source": [
    "def train_val_test_split(train_indezes, test_indezes):\n",
    "    X_train, X_val, y_train, y_val = train_test_split(X[train_indezes], y[train_indezes], test_size=0.2,stratify=y[train_indezes], random_state=42)\n",
    "    X_test, y_test = X[test_indezes], y[test_indezes]\n",
    "    \n",
    "    # Das speichern als Tensor spart RAM\n",
    "    return (tf.convert_to_tensor(X_train),\n",
    "            tf.convert_to_tensor(y_train), \n",
    "            tf.convert_to_tensor(X_val),\n",
    "            tf.convert_to_tensor(y_val),\n",
    "            tf.convert_to_tensor(X_test),\n",
    "            tf.convert_to_tensor(y_test))"
   ]
  },
  {
   "cell_type": "markdown",
   "metadata": {},
   "source": [
    "#### Tatsächliches Training"
   ]
  },
  {
   "cell_type": "code",
   "execution_count": 15,
   "metadata": {
    "scrolled": true
   },
   "outputs": [
    {
     "name": "stdout",
     "output_type": "stream",
     "text": [
      "Epoch 1/200\n",
      "47/47 [==============================] - 4s 43ms/step - loss: 9.7265 - accuracy: 0.2984 - val_loss: 9.0800 - val_accuracy: 0.5657\n",
      "Epoch 2/200\n",
      "47/47 [==============================] - 2s 40ms/step - loss: 7.9517 - accuracy: 0.4940 - val_loss: 7.7093 - val_accuracy: 0.5657\n",
      "Epoch 3/200\n",
      "47/47 [==============================] - 2s 42ms/step - loss: 6.0496 - accuracy: 0.5827 - val_loss: 5.7941 - val_accuracy: 0.5657\n",
      "Epoch 4/200\n",
      "47/47 [==============================] - 2s 44ms/step - loss: 4.9550 - accuracy: 0.6478 - val_loss: 5.2389 - val_accuracy: 0.0777\n",
      "Epoch 5/200\n",
      "47/47 [==============================] - 2s 44ms/step - loss: 4.2770 - accuracy: 0.6801 - val_loss: 4.5801 - val_accuracy: 0.2172\n",
      "Epoch 6/200\n",
      "47/47 [==============================] - 2s 41ms/step - loss: 3.7371 - accuracy: 0.7090 - val_loss: 4.1585 - val_accuracy: 0.5657\n",
      "Epoch 7/200\n",
      "47/47 [==============================] - 2s 46ms/step - loss: 3.3235 - accuracy: 0.7157 - val_loss: 3.7065 - val_accuracy: 0.5657\n",
      "Epoch 8/200\n",
      "47/47 [==============================] - 2s 46ms/step - loss: 3.0113 - accuracy: 0.7117 - val_loss: 3.4088 - val_accuracy: 0.5657\n",
      "Epoch 9/200\n",
      "47/47 [==============================] - 2s 46ms/step - loss: 2.7491 - accuracy: 0.7319 - val_loss: 3.4217 - val_accuracy: 0.5657\n",
      "Epoch 10/200\n",
      "47/47 [==============================] - 2s 41ms/step - loss: 2.5393 - accuracy: 0.7339 - val_loss: 3.0856 - val_accuracy: 0.5657\n",
      "Epoch 11/200\n",
      "47/47 [==============================] - 2s 44ms/step - loss: 2.3674 - accuracy: 0.7473 - val_loss: 2.8048 - val_accuracy: 0.5657\n",
      "Epoch 12/200\n",
      "47/47 [==============================] - 2s 41ms/step - loss: 2.2775 - accuracy: 0.7608 - val_loss: 3.0056 - val_accuracy: 0.3592\n",
      "Epoch 13/200\n",
      "47/47 [==============================] - 2s 43ms/step - loss: 2.1342 - accuracy: 0.7641 - val_loss: 2.6776 - val_accuracy: 0.5657\n",
      "Epoch 14/200\n",
      "47/47 [==============================] - 2s 41ms/step - loss: 2.0361 - accuracy: 0.7560 - val_loss: 2.3653 - val_accuracy: 0.5818\n",
      "Epoch 15/200\n",
      "47/47 [==============================] - 2s 43ms/step - loss: 1.9749 - accuracy: 0.7507 - val_loss: 2.4844 - val_accuracy: 0.5657\n",
      "Epoch 16/200\n",
      "47/47 [==============================] - 2s 42ms/step - loss: 1.9262 - accuracy: 0.7540 - val_loss: 2.3753 - val_accuracy: 0.5684\n",
      "Epoch 17/200\n",
      "47/47 [==============================] - 2s 42ms/step - loss: 1.8108 - accuracy: 0.7742 - val_loss: 2.0352 - val_accuracy: 0.7239\n",
      "Epoch 18/200\n",
      "47/47 [==============================] - 2s 45ms/step - loss: 1.7891 - accuracy: 0.7735 - val_loss: 2.1585 - val_accuracy: 0.5845\n",
      "Epoch 19/200\n",
      "47/47 [==============================] - 2s 47ms/step - loss: 1.7451 - accuracy: 0.7688 - val_loss: 2.0245 - val_accuracy: 0.6032\n",
      "Epoch 20/200\n",
      "47/47 [==============================] - 2s 45ms/step - loss: 1.6758 - accuracy: 0.7742 - val_loss: 1.9532 - val_accuracy: 0.6622\n",
      "Epoch 21/200\n",
      "47/47 [==============================] - 2s 44ms/step - loss: 1.6104 - accuracy: 0.7917 - val_loss: 1.9456 - val_accuracy: 0.6220\n",
      "Epoch 22/200\n",
      "47/47 [==============================] - 2s 45ms/step - loss: 1.5418 - accuracy: 0.7984 - val_loss: 1.7648 - val_accuracy: 0.6729\n",
      "Epoch 23/200\n",
      "47/47 [==============================] - 2s 43ms/step - loss: 1.5351 - accuracy: 0.7923 - val_loss: 1.6867 - val_accuracy: 0.6944\n",
      "Epoch 24/200\n",
      "47/47 [==============================] - 2s 45ms/step - loss: 1.5079 - accuracy: 0.7970 - val_loss: 1.8325 - val_accuracy: 0.6273\n",
      "Epoch 25/200\n",
      "47/47 [==============================] - 2s 46ms/step - loss: 1.5102 - accuracy: 0.7923 - val_loss: 1.9463 - val_accuracy: 0.6086\n",
      "Epoch 26/200\n",
      "47/47 [==============================] - 2s 49ms/step - loss: 1.5540 - accuracy: 0.7910 - val_loss: 1.8139 - val_accuracy: 0.6461\n",
      "Epoch 27/200\n",
      "47/47 [==============================] - 2s 44ms/step - loss: 1.5741 - accuracy: 0.7802 - val_loss: 1.8909 - val_accuracy: 0.6273\n",
      "Epoch 28/200\n",
      "47/47 [==============================] - 2s 49ms/step - loss: 1.6222 - accuracy: 0.7876 - val_loss: 1.9139 - val_accuracy: 0.6220\n",
      "Epoch 29/200\n",
      "47/47 [==============================] - 2s 44ms/step - loss: 1.5668 - accuracy: 0.7923 - val_loss: 1.8946 - val_accuracy: 0.6273\n",
      "Epoch 30/200\n",
      "47/47 [==============================] - 2s 46ms/step - loss: 1.4748 - accuracy: 0.7917 - val_loss: 2.2377 - val_accuracy: 0.5255\n",
      "Epoch 31/200\n",
      "47/47 [==============================] - 2s 45ms/step - loss: 1.5366 - accuracy: 0.7977 - val_loss: 1.6891 - val_accuracy: 0.6729\n",
      "Epoch 32/200\n",
      "47/47 [==============================] - 2s 47ms/step - loss: 1.4620 - accuracy: 0.7977 - val_loss: 1.8946 - val_accuracy: 0.6005\n",
      "Epoch 33/200\n",
      "47/47 [==============================] - 2s 45ms/step - loss: 1.4595 - accuracy: 0.7977 - val_loss: 1.6662 - val_accuracy: 0.6783\n",
      "Epoch 34/200\n",
      "47/47 [==============================] - 2s 44ms/step - loss: 1.4183 - accuracy: 0.7984 - val_loss: 1.5688 - val_accuracy: 0.7131\n",
      "Epoch 35/200\n",
      "47/47 [==============================] - 2s 46ms/step - loss: 1.3925 - accuracy: 0.8004 - val_loss: 1.4982 - val_accuracy: 0.7694\n",
      "Epoch 36/200\n",
      "47/47 [==============================] - 2s 44ms/step - loss: 1.4023 - accuracy: 0.8085 - val_loss: 1.5493 - val_accuracy: 0.7587\n",
      "Epoch 37/200\n",
      "47/47 [==============================] - 2s 46ms/step - loss: 1.4262 - accuracy: 0.8125 - val_loss: 1.6065 - val_accuracy: 0.7641\n",
      "Epoch 38/200\n",
      "47/47 [==============================] - 2s 46ms/step - loss: 1.4025 - accuracy: 0.8078 - val_loss: 1.5208 - val_accuracy: 0.7694\n",
      "Epoch 39/200\n",
      "47/47 [==============================] - 2s 47ms/step - loss: 1.4248 - accuracy: 0.7997 - val_loss: 1.7259 - val_accuracy: 0.6488\n",
      "Epoch 40/200\n",
      "47/47 [==============================] - 2s 44ms/step - loss: 1.4204 - accuracy: 0.8105 - val_loss: 1.5461 - val_accuracy: 0.7614\n",
      "Epoch 41/200\n",
      "47/47 [==============================] - 2s 48ms/step - loss: 1.3802 - accuracy: 0.8219 - val_loss: 1.7670 - val_accuracy: 0.6408\n",
      "Epoch 42/200\n",
      "47/47 [==============================] - 2s 44ms/step - loss: 1.4136 - accuracy: 0.8159 - val_loss: 1.6441 - val_accuracy: 0.7158\n",
      "Epoch 43/200\n",
      "47/47 [==============================] - 2s 46ms/step - loss: 1.4242 - accuracy: 0.8044 - val_loss: 1.6475 - val_accuracy: 0.7239\n",
      "Epoch 44/200\n",
      "47/47 [==============================] - 2s 45ms/step - loss: 1.4019 - accuracy: 0.8152 - val_loss: 1.7141 - val_accuracy: 0.7185\n",
      "Epoch 45/200\n",
      "47/47 [==============================] - 2s 47ms/step - loss: 1.3448 - accuracy: 0.8300 - val_loss: 1.5677 - val_accuracy: 0.7185\n",
      "Epoch 46/200\n",
      "47/47 [==============================] - 2s 46ms/step - loss: 1.3859 - accuracy: 0.8132 - val_loss: 1.5314 - val_accuracy: 0.7721\n",
      "Epoch 47/200\n",
      "47/47 [==============================] - 2s 46ms/step - loss: 1.3717 - accuracy: 0.8179 - val_loss: 1.5815 - val_accuracy: 0.7614\n",
      "Epoch 48/200\n",
      "47/47 [==============================] - 2s 46ms/step - loss: 1.3531 - accuracy: 0.8226 - val_loss: 1.5713 - val_accuracy: 0.7158\n",
      "Epoch 49/200\n",
      "47/47 [==============================] - 2s 48ms/step - loss: 1.3728 - accuracy: 0.8118 - val_loss: 1.6714 - val_accuracy: 0.6944\n",
      "Epoch 50/200\n",
      "47/47 [==============================] - 2s 44ms/step - loss: 1.3790 - accuracy: 0.8333 - val_loss: 1.6680 - val_accuracy: 0.6971\n",
      "Epoch 51/200\n",
      "47/47 [==============================] - 2s 43ms/step - loss: 1.3134 - accuracy: 0.8333 - val_loss: 1.5765 - val_accuracy: 0.6997\n",
      "Epoch 52/200\n",
      "47/47 [==============================] - 2s 46ms/step - loss: 1.3994 - accuracy: 0.8105 - val_loss: 1.6976 - val_accuracy: 0.6810\n",
      "Epoch 53/200\n",
      "47/47 [==============================] - 2s 46ms/step - loss: 1.3864 - accuracy: 0.8192 - val_loss: 1.7169 - val_accuracy: 0.6836\n",
      "Epoch 54/200\n",
      "47/47 [==============================] - 2s 47ms/step - loss: 1.4126 - accuracy: 0.8145 - val_loss: 1.6176 - val_accuracy: 0.7051\n",
      "Epoch 55/200\n",
      "47/47 [==============================] - 2s 44ms/step - loss: 1.3617 - accuracy: 0.8259 - val_loss: 1.6438 - val_accuracy: 0.6917\n",
      "Epoch 56/200\n",
      "47/47 [==============================] - 2s 46ms/step - loss: 1.3206 - accuracy: 0.8306 - val_loss: 1.7625 - val_accuracy: 0.6327\n",
      "Epoch 57/200\n",
      "47/47 [==============================] - 2s 44ms/step - loss: 1.2738 - accuracy: 0.8333 - val_loss: 1.5784 - val_accuracy: 0.6756\n",
      "Epoch 58/200\n",
      "47/47 [==============================] - 2s 46ms/step - loss: 1.3048 - accuracy: 0.8219 - val_loss: 1.6207 - val_accuracy: 0.6783\n",
      "Epoch 59/200\n",
      "47/47 [==============================] - 2s 45ms/step - loss: 1.3107 - accuracy: 0.8300 - val_loss: 1.6337 - val_accuracy: 0.6917\n",
      "Epoch 60/200\n",
      "47/47 [==============================] - 2s 46ms/step - loss: 1.3297 - accuracy: 0.8219 - val_loss: 1.5195 - val_accuracy: 0.7560\n",
      "Epoch 61/200\n",
      "47/47 [==============================] - 2s 44ms/step - loss: 1.3443 - accuracy: 0.8280 - val_loss: 1.6464 - val_accuracy: 0.6702\n",
      "Epoch 62/200\n",
      "47/47 [==============================] - 2s 47ms/step - loss: 1.3294 - accuracy: 0.8293 - val_loss: 1.5475 - val_accuracy: 0.7319\n",
      "Epoch 63/200\n",
      "47/47 [==============================] - 2s 44ms/step - loss: 1.3463 - accuracy: 0.8226 - val_loss: 1.5412 - val_accuracy: 0.7373\n",
      "Epoch 64/200\n",
      "47/47 [==============================] - 2s 46ms/step - loss: 1.3584 - accuracy: 0.8206 - val_loss: 1.4887 - val_accuracy: 0.7748\n",
      "Epoch 65/200\n",
      "47/47 [==============================] - 2s 44ms/step - loss: 1.3634 - accuracy: 0.8259 - val_loss: 1.8786 - val_accuracy: 0.6542\n",
      "59/59 [==============================] - 1s 12ms/step\n",
      "59/59 [==============================] - 1s 12ms/step - loss: 1.5014 - accuracy: 0.7695\n",
      "Epoch 1/200\n",
      "47/47 [==============================] - 4s 49ms/step - loss: 1.4507 - accuracy: 0.7836 - val_loss: 1.4826 - val_accuracy: 0.7668\n",
      "Epoch 2/200\n",
      "47/47 [==============================] - 2s 45ms/step - loss: 1.3056 - accuracy: 0.7997 - val_loss: 1.4208 - val_accuracy: 0.7265\n",
      "Epoch 3/200\n",
      "47/47 [==============================] - 2s 44ms/step - loss: 1.3110 - accuracy: 0.7823 - val_loss: 1.5868 - val_accuracy: 0.7024\n",
      "Epoch 4/200\n",
      "47/47 [==============================] - 2s 48ms/step - loss: 1.3262 - accuracy: 0.7937 - val_loss: 1.4876 - val_accuracy: 0.7534\n",
      "Epoch 5/200\n",
      "47/47 [==============================] - 2s 43ms/step - loss: 1.3440 - accuracy: 0.7977 - val_loss: 1.4727 - val_accuracy: 0.7534\n",
      "Epoch 6/200\n",
      "47/47 [==============================] - 2s 46ms/step - loss: 1.3095 - accuracy: 0.8118 - val_loss: 1.4338 - val_accuracy: 0.7828\n",
      "Epoch 7/200\n",
      "47/47 [==============================] - 2s 46ms/step - loss: 1.3246 - accuracy: 0.7930 - val_loss: 1.4418 - val_accuracy: 0.7748\n",
      "Epoch 8/200\n",
      "47/47 [==============================] - 2s 47ms/step - loss: 1.3160 - accuracy: 0.8085 - val_loss: 1.4898 - val_accuracy: 0.7453\n",
      "Epoch 9/200\n",
      "47/47 [==============================] - 2s 44ms/step - loss: 1.3250 - accuracy: 0.8159 - val_loss: 1.4878 - val_accuracy: 0.7346\n",
      "Epoch 10/200\n",
      "47/47 [==============================] - 2s 45ms/step - loss: 1.3058 - accuracy: 0.8071 - val_loss: 1.4789 - val_accuracy: 0.8016\n",
      "Epoch 11/200\n",
      "47/47 [==============================] - 2s 42ms/step - loss: 1.3536 - accuracy: 0.8118 - val_loss: 1.4658 - val_accuracy: 0.7802\n",
      "Epoch 12/200\n",
      "47/47 [==============================] - 2s 46ms/step - loss: 1.3359 - accuracy: 0.8112 - val_loss: 1.7414 - val_accuracy: 0.6810\n",
      "Epoch 13/200\n",
      "47/47 [==============================] - 2s 44ms/step - loss: 1.4083 - accuracy: 0.7977 - val_loss: 1.6241 - val_accuracy: 0.7292\n",
      "Epoch 14/200\n",
      "47/47 [==============================] - 2s 47ms/step - loss: 1.3643 - accuracy: 0.8004 - val_loss: 1.5742 - val_accuracy: 0.7507\n",
      "Epoch 15/200\n",
      "47/47 [==============================] - 2s 43ms/step - loss: 1.3491 - accuracy: 0.7964 - val_loss: 1.8520 - val_accuracy: 0.6810\n",
      "Epoch 16/200\n",
      "47/47 [==============================] - 2s 47ms/step - loss: 1.3350 - accuracy: 0.8172 - val_loss: 1.6441 - val_accuracy: 0.7507\n",
      "Epoch 17/200\n",
      "47/47 [==============================] - 2s 45ms/step - loss: 1.3617 - accuracy: 0.8179 - val_loss: 1.5252 - val_accuracy: 0.7560\n",
      "Epoch 18/200\n",
      "47/47 [==============================] - 2s 44ms/step - loss: 1.3248 - accuracy: 0.8078 - val_loss: 1.4786 - val_accuracy: 0.7936\n",
      "Epoch 19/200\n",
      "47/47 [==============================] - 2s 48ms/step - loss: 1.3237 - accuracy: 0.8286 - val_loss: 1.5594 - val_accuracy: 0.7614\n",
      "Epoch 20/200\n",
      "47/47 [==============================] - 2s 45ms/step - loss: 1.3653 - accuracy: 0.8071 - val_loss: 1.6376 - val_accuracy: 0.7131\n",
      "Epoch 21/200\n",
      "47/47 [==============================] - 2s 48ms/step - loss: 1.3672 - accuracy: 0.8219 - val_loss: 1.5910 - val_accuracy: 0.7373\n",
      "Epoch 22/200\n",
      "47/47 [==============================] - 2s 44ms/step - loss: 1.3113 - accuracy: 0.8226 - val_loss: 1.6713 - val_accuracy: 0.6997\n",
      "Epoch 23/200\n",
      "47/47 [==============================] - 2s 46ms/step - loss: 1.3173 - accuracy: 0.8179 - val_loss: 1.5660 - val_accuracy: 0.7373\n",
      "Epoch 24/200\n",
      "47/47 [==============================] - 2s 43ms/step - loss: 1.3190 - accuracy: 0.7997 - val_loss: 1.6759 - val_accuracy: 0.7212\n",
      "Epoch 25/200\n",
      "47/47 [==============================] - 2s 46ms/step - loss: 1.3467 - accuracy: 0.8179 - val_loss: 1.5282 - val_accuracy: 0.7721\n",
      "Epoch 26/200\n",
      "47/47 [==============================] - 2s 46ms/step - loss: 1.2587 - accuracy: 0.8407 - val_loss: 1.5475 - val_accuracy: 0.7265\n",
      "Epoch 27/200\n",
      "47/47 [==============================] - 2s 47ms/step - loss: 1.2877 - accuracy: 0.8132 - val_loss: 1.7429 - val_accuracy: 0.6595\n",
      "Epoch 28/200\n",
      "47/47 [==============================] - 2s 44ms/step - loss: 1.2803 - accuracy: 0.8246 - val_loss: 1.5807 - val_accuracy: 0.7051\n",
      "Epoch 29/200\n",
      "47/47 [==============================] - 2s 45ms/step - loss: 1.3001 - accuracy: 0.8192 - val_loss: 1.7554 - val_accuracy: 0.6408\n",
      "Epoch 30/200\n",
      "47/47 [==============================] - 2s 44ms/step - loss: 1.3018 - accuracy: 0.8206 - val_loss: 1.4131 - val_accuracy: 0.7989\n",
      "Epoch 31/200\n",
      "47/47 [==============================] - 2s 47ms/step - loss: 1.2691 - accuracy: 0.8273 - val_loss: 1.4750 - val_accuracy: 0.7802\n",
      "Epoch 32/200\n",
      "47/47 [==============================] - 2s 42ms/step - loss: 1.3427 - accuracy: 0.8152 - val_loss: 1.5800 - val_accuracy: 0.7346\n",
      "Epoch 33/200\n",
      "47/47 [==============================] - 2s 41ms/step - loss: 1.3018 - accuracy: 0.8434 - val_loss: 1.4940 - val_accuracy: 0.7936\n",
      "Epoch 34/200\n",
      "47/47 [==============================] - 2s 45ms/step - loss: 1.3191 - accuracy: 0.8138 - val_loss: 1.4844 - val_accuracy: 0.7828\n",
      "Epoch 35/200\n",
      "47/47 [==============================] - 2s 45ms/step - loss: 1.2616 - accuracy: 0.8259 - val_loss: 1.4202 - val_accuracy: 0.8150\n",
      "Epoch 36/200\n",
      "47/47 [==============================] - 2s 49ms/step - loss: 1.3022 - accuracy: 0.8199 - val_loss: 2.1014 - val_accuracy: 0.5094\n",
      "Epoch 37/200\n",
      "47/47 [==============================] - 2s 44ms/step - loss: 1.2715 - accuracy: 0.8313 - val_loss: 1.7786 - val_accuracy: 0.6086\n",
      "Epoch 38/200\n",
      "47/47 [==============================] - 2s 50ms/step - loss: 1.3117 - accuracy: 0.8065 - val_loss: 1.4958 - val_accuracy: 0.7507\n",
      "Epoch 39/200\n",
      "47/47 [==============================] - 2s 45ms/step - loss: 1.2850 - accuracy: 0.8159 - val_loss: 1.7207 - val_accuracy: 0.6461\n",
      "Epoch 40/200\n",
      "47/47 [==============================] - 2s 47ms/step - loss: 1.2597 - accuracy: 0.8172 - val_loss: 1.6952 - val_accuracy: 0.7078\n",
      "Epoch 41/200\n",
      "47/47 [==============================] - 2s 45ms/step - loss: 1.2155 - accuracy: 0.8454 - val_loss: 1.7090 - val_accuracy: 0.6461\n",
      "Epoch 42/200\n",
      "47/47 [==============================] - 2s 45ms/step - loss: 1.2419 - accuracy: 0.8306 - val_loss: 1.9865 - val_accuracy: 0.5550\n",
      "Epoch 43/200\n",
      "47/47 [==============================] - 2s 42ms/step - loss: 1.2955 - accuracy: 0.8219 - val_loss: 1.8580 - val_accuracy: 0.5791\n",
      "Epoch 44/200\n",
      "47/47 [==============================] - 2s 46ms/step - loss: 1.2922 - accuracy: 0.8353 - val_loss: 1.8488 - val_accuracy: 0.6595\n",
      "Epoch 45/200\n",
      "47/47 [==============================] - 2s 42ms/step - loss: 1.2721 - accuracy: 0.8313 - val_loss: 1.4863 - val_accuracy: 0.7507\n",
      "Epoch 46/200\n",
      "47/47 [==============================] - 2s 46ms/step - loss: 1.2721 - accuracy: 0.8172 - val_loss: 1.5563 - val_accuracy: 0.7265\n",
      "Epoch 47/200\n",
      "47/47 [==============================] - 2s 43ms/step - loss: 1.2498 - accuracy: 0.8367 - val_loss: 1.5237 - val_accuracy: 0.7694\n",
      "Epoch 48/200\n",
      "47/47 [==============================] - 2s 45ms/step - loss: 1.2974 - accuracy: 0.8159 - val_loss: 1.7745 - val_accuracy: 0.6568\n",
      "Epoch 49/200\n",
      "47/47 [==============================] - 2s 46ms/step - loss: 1.3735 - accuracy: 0.8165 - val_loss: 1.6969 - val_accuracy: 0.6649\n",
      "Epoch 50/200\n",
      "47/47 [==============================] - 2s 44ms/step - loss: 1.2768 - accuracy: 0.8394 - val_loss: 1.5299 - val_accuracy: 0.7668\n",
      "Epoch 51/200\n",
      "47/47 [==============================] - 2s 46ms/step - loss: 1.3192 - accuracy: 0.8132 - val_loss: 1.8189 - val_accuracy: 0.5979\n",
      "Epoch 52/200\n",
      "47/47 [==============================] - 2s 42ms/step - loss: 1.3201 - accuracy: 0.8239 - val_loss: 1.7513 - val_accuracy: 0.6193\n",
      "Epoch 53/200\n",
      "47/47 [==============================] - 2s 46ms/step - loss: 1.3129 - accuracy: 0.8259 - val_loss: 1.5846 - val_accuracy: 0.7453\n",
      "Epoch 54/200\n",
      "47/47 [==============================] - 2s 46ms/step - loss: 1.3206 - accuracy: 0.8112 - val_loss: 1.7085 - val_accuracy: 0.7051\n",
      "Epoch 55/200\n",
      "47/47 [==============================] - 2s 48ms/step - loss: 1.2800 - accuracy: 0.8374 - val_loss: 2.0068 - val_accuracy: 0.5228\n",
      "Epoch 56/200\n",
      "47/47 [==============================] - 2s 43ms/step - loss: 1.2906 - accuracy: 0.8273 - val_loss: 1.5095 - val_accuracy: 0.7721\n",
      "Epoch 57/200\n",
      "47/47 [==============================] - 2s 46ms/step - loss: 1.2557 - accuracy: 0.8327 - val_loss: 1.7396 - val_accuracy: 0.5737\n",
      "Epoch 58/200\n",
      "47/47 [==============================] - 2s 46ms/step - loss: 1.2643 - accuracy: 0.8300 - val_loss: 1.7331 - val_accuracy: 0.6193\n",
      "Epoch 59/200\n",
      "47/47 [==============================] - 2s 49ms/step - loss: 1.2617 - accuracy: 0.8246 - val_loss: 1.6798 - val_accuracy: 0.6863\n",
      "Epoch 60/200\n",
      "47/47 [==============================] - 2s 43ms/step - loss: 1.2237 - accuracy: 0.8353 - val_loss: 2.0918 - val_accuracy: 0.5389\n",
      "Epoch 61/200\n",
      "47/47 [==============================] - 2s 47ms/step - loss: 1.2358 - accuracy: 0.8327 - val_loss: 1.5681 - val_accuracy: 0.7373\n",
      "Epoch 62/200\n",
      "47/47 [==============================] - 2s 43ms/step - loss: 1.2979 - accuracy: 0.8360 - val_loss: 1.5631 - val_accuracy: 0.7614\n",
      "Epoch 63/200\n",
      "47/47 [==============================] - 2s 46ms/step - loss: 1.3696 - accuracy: 0.8226 - val_loss: 1.7370 - val_accuracy: 0.7051\n",
      "Epoch 64/200\n",
      "47/47 [==============================] - 2s 46ms/step - loss: 1.3605 - accuracy: 0.8273 - val_loss: 1.6676 - val_accuracy: 0.7560\n",
      "Epoch 65/200\n",
      "47/47 [==============================] - 2s 47ms/step - loss: 1.3537 - accuracy: 0.8145 - val_loss: 1.5788 - val_accuracy: 0.7614\n",
      "59/59 [==============================] - 1s 11ms/step\n",
      "59/59 [==============================] - 1s 11ms/step - loss: 1.3780 - accuracy: 0.8044\n"
     ]
    }
   ],
   "source": [
    "# Abspeichern der Erebnisse jedes Splits für die Confusion-Matrix\n",
    "true_labels = list()\n",
    "pred_labels = list()\n",
    "train_accuracies = list()\n",
    "test_accuracies = list()\n",
    "val_accuracies = list()\n",
    "train_losses = list()\n",
    "val_losses = list()\n",
    "test_losses = list()\n",
    "\n",
    "for train_indezes, test_indezes in kfold.split(X, y):\n",
    "    # wir löschen das Model der letzten Iteration aus dem Cache um RAM zu sparen\n",
    "    K.clear_session()\n",
    "\n",
    "    # Daten splitten\n",
    "    X_train, y_train, X_val, y_val, X_test, y_test = train_val_test_split(train_indezes, test_indezes)\n",
    "\n",
    "    # Resample nur Trainings- und Validationmenge\n",
    "    #X_train, y_train = resample_after_split(X_train, y_train)\n",
    "    #X_val, y_val = resample_after_split(X_val, y_val)\n",
    "\n",
    "    optimizers = create_optimizers(len(X_train))\n",
    "    \n",
    "    # Das Model wird hier compiled, damit wir nach jeder Iteration das alte Model aus dem Cache löschen können  Adam(0.001)\n",
    "    model.compile(optimizer=optimizers['adam'], loss=\"sparse_categorical_crossentropy\", metrics=[\"accuracy\"])\n",
    "    history = fit_model(model, X_train, y_train, X_val, y_val)\n",
    "\n",
    "    # Für die Confusion Matrix\n",
    "    predictions = np.argmax(model.predict(X_test), axis=-1)\n",
    "    true_labels.extend(y_test)\n",
    "    pred_labels.extend(predictions)\n",
    "\n",
    "    # Für die Accuracy-Curves\n",
    "    train_accuracies.extend(history.history['accuracy'])\n",
    "    val_accuracies.extend(history.history['val_accuracy'])\n",
    "\n",
    "    # Für die Loss-Curves\n",
    "    train_losses.extend(history.history['loss'])\n",
    "    val_losses.extend(history.history['val_loss'])\n",
    "\n",
    "    loss, accuracy = model.evaluate(X_test, y_test)\n",
    "    test_accuracies.append(accuracy)\n",
    "    test_losses.append(loss)"
   ]
  },
  {
   "cell_type": "markdown",
   "metadata": {},
   "source": [
    "#### VGG19 und ResNet50 als Vergleich\n",
    "\n",
    "**Hinweis:** Um die Lesbarkeit zu verbessern stehen die beiden Modelle in eigenen Stellen. Natürlich wäre das Ergebnis noch ein klein bisschen aussagekräftiger, weniger rechenintensiv und RAM sparrender, wenn wir die Splits unseres eigenen Models wiederverwenden würden. Außerdem trainieren wir die Conv-Layer nicht nach, da wir nur einen groben Anhaltspunkt haben wollten und durch die begrenzte Rechenkapazität uns lieber auf einen Erkenntnisgewinn in unseren Nachforschungen fokusieren wollten."
   ]
  },
  {
   "cell_type": "markdown",
   "metadata": {},
   "source": [
    "##### VGG19"
   ]
  },
  {
   "cell_type": "code",
   "execution_count": 16,
   "metadata": {
    "scrolled": true
   },
   "outputs": [],
   "source": [
    "%%script false --no-raise-error\n",
    "early_stopping = EarlyStopping(monitor='val_accuracy', patience=30, min_delta=0.001, start_from_epoch=15, restore_best_weights=True)\n",
    "epochs = 200\n",
    "batch_size = 32\n",
    "\n",
    "vgg19_test_accuracies = list()\n",
    "\n",
    "base_model = VGG19(weights='imagenet', include_top=False, input_shape=image_shape)\n",
    "\n",
    "# Convolution-Teil fixieren\n",
    "for layer in base_model.layers:\n",
    "    layer.trainable = False\n",
    "\n",
    "model = tf.keras.models.Sequential()\n",
    "model.add(base_model)\n",
    "model.add(tf.keras.layers.Flatten())\n",
    "model.add(tf.keras.layers.Dense(256, activation='relu', kernel_regularizer=regularizers.l2(weight_decay_alpha)))\n",
    "model.add(tf.keras.layers.BatchNormalization())\n",
    "model.add(tf.keras.layers.Dropout(dropout_rate))\n",
    "model.add(tf.keras.layers.Dense(128, activation='relu', kernel_regularizer=regularizers.l2(weight_decay_alpha)))\n",
    "model.add(tf.keras.layers.BatchNormalization())\n",
    "model.add(tf.keras.layers.Dropout(dropout_rate))\n",
    "model.add(tf.keras.layers.Dense(6, activation='softmax'))\n",
    "\n",
    "model.compile(optimizer='adam', loss='sparse_categorical_crossentropy', metrics=['accuracy'])\n",
    "\n",
    "for train_indezes, test_indezes in kfold.split(X, y):\n",
    "    K.clear_session()\n",
    "    X_train, y_train = tf.convert_to_tensor(X[train_indezes]), tf.convert_to_tensor(y[train_indezes])\n",
    "    X_test, y_test = tf.convert_to_tensor(X[test_indezes]), tf.convert_to_tensor(y[test_indezes])\n",
    "    history = model.fit(X_train, y_train, batch_size=batch_size, callbacks=[early_stopping], epochs=epochs, validation_split=0.2, verbose=1)\n",
    "    _, accuracy = model.evaluate(X_test, y_test)\n",
    "    vgg19_test_accuracies.append(accuracy)"
   ]
  },
  {
   "cell_type": "markdown",
   "metadata": {},
   "source": [
    "##### ResNet50"
   ]
  },
  {
   "cell_type": "code",
   "execution_count": 17,
   "metadata": {},
   "outputs": [],
   "source": [
    "%%script false --no-raise-error\n",
    "early_stopping = EarlyStopping(monitor='val_accuracy', patience=30, min_delta=0.001, start_from_epoch=15, restore_best_weights=True)\n",
    "epochs = 200\n",
    "batch_size = 32\n",
    "\n",
    "resnet50_test_accuracies = list()\n",
    "\n",
    "base_model = ResNet50(weights='imagenet', include_top=False, input_shape=image_shape)\n",
    "\n",
    "# Convolution-Teil fixieren\n",
    "for layer in base_model.layers:\n",
    "    layer.trainable = False\n",
    "\n",
    "model = tf.keras.layers.Sequential()\n",
    "model.add(base_model)\n",
    "model.add(tf.keras.layers.Flatten())\n",
    "model.add(tf.keras.layers.Dense(256, activation='relu', kernel_regularizer=regularizers.l2(weight_decay_alpha)))\n",
    "model.add(tf.keras.layers.BatchNormalization())\n",
    "model.add(tf.keras.layers.Dropout(dropout_rate))\n",
    "model.add(tf.keras.layers.Dense(128, activation='relu', kernel_regularizer=regularizers.l2(weight_decay_alpha)))\n",
    "model.add(tf.keras.layers.BatchNormalization())\n",
    "model.add(tf.keras.layers.Dropout(dropout_rate))\n",
    "model.add(tf.keras.layers.Dense(6, activation='softmax'))\n",
    "\n",
    "model.compile(optimizer='adam', loss='sparse_categorical_crossentropy', metrics=['accuracy'])\n",
    "\n",
    "for train_indezes, test_indezes in kfold.split(X, y):\n",
    "    K.clear_session()\n",
    "    X_train, y_train = tf.convert_to_tensor(X[train_indezes]), tf.convert_to_tensor(y[train_indezes])\n",
    "    X_test, y_test = tf.convert_to_tensor(X[test_indezes]), tf.convert_to_tensor(y[test_indezes])\n",
    "    history = model.fit(X_train, y_train, batch_size=batch_size, callbacks=[early_stopping], epochs=epochs, validation_split=0.2, verbose=1)\n",
    "    _, accuracy = model.evaluate(X_test, y_test)\n",
    "    resnet50_test_accuracies.append(accuracy)"
   ]
  },
  {
   "cell_type": "markdown",
   "metadata": {},
   "source": [
    "#### Confusion Matrix"
   ]
  },
  {
   "cell_type": "markdown",
   "metadata": {},
   "source": [
    "Man kann klar erkennen, je weniger Datenpunkte vorhanden desto schlechter ist die Klassifikation. Leider konnten wir, wie bereits erwähnt ohne Domänenwissen und den eingeschränkten Mitteln das Problem nicht lösen."
   ]
  },
  {
   "cell_type": "code",
   "execution_count": 18,
   "metadata": {},
   "outputs": [
    {
     "data": {
      "image/png": "[encoded data removed]",
      "text/plain": [
       "<Figure size 800x600 with 2 Axes>"
      ]
     },
     "metadata": {},
     "output_type": "display_data"
    }
   ],
   "source": [
    "confusion_matrix = confusion_matrix(true_labels, pred_labels)\n",
    "fig, ax = plt.subplots(figsize=(8, 6))\n",
    "cm_display = ConfusionMatrixDisplay(confusion_matrix, display_labels=classes)\n",
    "cm_display.plot(ax=ax, cmap=plt.cm.Blues)\n",
    "plt.title('Confusion Matrix')\n",
    "plt.xlabel('Predicted Label')\n",
    "plt.ylabel('True Label')\n",
    "plt.show()"
   ]
  },
  {
   "cell_type": "markdown",
   "metadata": {},
   "source": [
    "#### Trainings- und Validationkurve plotten"
   ]
  },
  {
   "cell_type": "code",
   "execution_count": 19,
   "metadata": {},
   "outputs": [
    {
     "data": {
      "image/png": "[encoded data removed]",
      "text/plain": [
       "<Figure size 1200x400 with 2 Axes>"
      ]
     },
     "metadata": {},
     "output_type": "display_data"
    }
   ],
   "source": [
    "epochs = len(train_losses)\n",
    "plt.figure(figsize=(12, 4))\n",
    "\n",
    "# Plotting Loss curves\n",
    "plt.subplot(1, 2, 1)\n",
    "plt.plot(range(1, epochs + 1), train_losses, label='Training Loss')\n",
    "plt.plot(range(1, epochs + 1), val_losses, label='Validation Loss')\n",
    "plt.title('Training and Validation Loss')\n",
    "plt.xlabel('Epochs')\n",
    "plt.ylabel('Loss')\n",
    "plt.legend()\n",
    "\n",
    "# Plotting Accuracy curves\n",
    "plt.subplot(1, 2, 2)\n",
    "plt.plot(range(1, epochs + 1), train_accuracies, label='Training Accuracy')\n",
    "plt.plot(range(1, epochs + 1), val_accuracies, label='Validation Accuracy')\n",
    "plt.title('Training and Validation Accuracy')\n",
    "plt.xlabel('Epochs')\n",
    "plt.ylabel('Accuracy')\n",
    "plt.legend()\n",
    "\n",
    "plt.tight_layout()\n",
    "plt.savefig(\"./cnn_files/loss_and_accuraccy.png\")\n",
    "plt.show()"
   ]
  },
  {
   "cell_type": "markdown",
   "metadata": {},
   "source": [
    "#### Ergebnisse"
   ]
  },
  {
   "cell_type": "markdown",
   "metadata": {},
   "source": [
    "|Durchführung|Avg. Test Acc|\n",
    "|:-|-:|\n",
    "|**VGG19**|\n",
    "| Kein Resample, top 6 classes (> 60), vgg19| 82% |\n",
    "| Kein Resample, top 4 classes (>200), vgg19| 83% |\n",
    "| Kein Resample, top 2 classes (>500), vgg19| 91% |\n",
    "|---------------|\n",
    "|**ResNet50**|\n",
    "| Kein Resample, top 6 classes (> 60), resNet50| 70% |\n",
    "| Kein Resample, top 4 classes (>200), resNet50| 74% |\n",
    "| Kein Resample, top 2 classes (>500), resNet50| 84% |\n",
    "|---------------|\n",
    "|**Unser Modell**|\n",
    "| Kein Resample, top 6 classes (> 60), cnn  | 79% |\n",
    "| Kein Resample, top 4 classes (>200), cnn  | 83% |\n",
    "| Kein Resample, top 2 classes (>500), cnn  | 87% |"
   ]
  },
  {
   "cell_type": "code",
   "execution_count": 20,
   "metadata": {},
   "outputs": [
    {
     "name": "stdout",
     "output_type": "stream",
     "text": [
      "Unser Modell:\n",
      "Avg. Val Accuracy: 0.67519076191462\n",
      "Best Val Accuracy: 0.8150134086608887\n",
      "Avg. Test Accuracy: 0.7869425117969513\n",
      "Best Test Accuracy: 0.8044062256813049\n",
      "Avg. Test Loss: 1.4396904110908508\n"
     ]
    }
   ],
   "source": [
    "#print(f\"VGG19 Avg. test accuracy: {sum(vgg19_test_accuracies) / len(vgg19_test_accuracies)}\")\n",
    "#print(f\"ResNet50 Avg. test accuracy: {sum(vgg19_test_accuracies) / len(vgg19_test_accuracies)}\")\n",
    "\n",
    "print(\"Unser Modell:\")\n",
    "print(f\"Avg. Val Accuracy: {sum(val_accuracies) / len(val_accuracies)}\")\n",
    "print(f\"Best Val Accuracy: {max(val_accuracies)}\")\n",
    "print(f\"Avg. Test Accuracy: {sum(test_accuracies) / len(test_accuracies)}\")\n",
    "print(f\"Best Test Accuracy: {max(test_accuracies)}\")\n",
    "print(f\"Avg. Test Loss: {sum(test_losses) / len(test_losses)}\")"
   ]
  },
  {
   "cell_type": "code",
   "execution_count": null,
   "metadata": {},
   "outputs": [],
   "source": []
  }
 ],
 "metadata": {
  "kernelspec": {
   "display_name": "Python 3 (ipykernel)",
   "language": "python",
   "name": "python3"
  },
  "language_info": {
   "codemirror_mode": {
    "name": "ipython",
    "version": 3
   },
   "file_extension": ".py",
   "mimetype": "text/x-python",
   "name": "python",
   "nbconvert_exporter": "python",
   "pygments_lexer": "ipython3",
   "version": "3.10.12"
  }
 },
 "nbformat": 4,
 "nbformat_minor": 4
}

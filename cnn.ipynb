{
 "cells": [
  {
   "cell_type": "markdown",
   "metadata": {},
   "source": [
    "# CNN Model"
   ]
  },
  {
   "cell_type": "markdown",
   "metadata": {},
   "source": [
    "#### Imports"
   ]
  },
  {
   "cell_type": "code",
   "execution_count": 1,
   "metadata": {},
   "outputs": [
    {
     "name": "stderr",
     "output_type": "stream",
     "text": [
      "2024-01-18 19:06:50.622829: I tensorflow/core/platform/cpu_feature_guard.cc:193] This TensorFlow binary is optimized with oneAPI Deep Neural Network Library (oneDNN) to use the following CPU instructions in performance-critical operations:  AVX2 FMA\n",
      "To enable them in other operations, rebuild TensorFlow with the appropriate compiler flags.\n",
      "2024-01-18 19:06:50.971591: W tensorflow/compiler/xla/stream_executor/platform/default/dso_loader.cc:64] Could not load dynamic library 'libcudart.so.11.0'; dlerror: libcudart.so.11.0: cannot open shared object file: No such file or directory\n",
      "2024-01-18 19:06:50.971641: I tensorflow/compiler/xla/stream_executor/cuda/cudart_stub.cc:29] Ignore above cudart dlerror if you do not have a GPU set up on your machine.\n",
      "2024-01-18 19:06:52.200732: W tensorflow/compiler/xla/stream_executor/platform/default/dso_loader.cc:64] Could not load dynamic library 'libnvinfer.so.7'; dlerror: libnvinfer.so.7: cannot open shared object file: No such file or directory\n",
      "2024-01-18 19:06:52.200940: W tensorflow/compiler/xla/stream_executor/platform/default/dso_loader.cc:64] Could not load dynamic library 'libnvinfer_plugin.so.7'; dlerror: libnvinfer_plugin.so.7: cannot open shared object file: No such file or directory\n",
      "2024-01-18 19:06:52.200957: W tensorflow/compiler/tf2tensorrt/utils/py_utils.cc:38] TF-TRT Warning: Cannot dlopen some TensorRT libraries. If you would like to use Nvidia GPU with TensorRT, please make sure the missing libraries mentioned above are installed properly.\n"
     ]
    }
   ],
   "source": [
    "import pandas as pd\n",
    "import numpy as np\n",
    "import matplotlib.pyplot as plt\n",
    "import tensorflow as tf\n",
    "from tensorflow.keras.callbacks import EarlyStopping\n",
    "from keras import backend as K \n",
    "from sklearn.model_selection import StratifiedKFold\n",
    "from tensorflow.keras import regularizers\n",
    "import tensorflow.keras as keras\n",
    "import tensorflow_model_optimization as tfmot\n",
    "from sklearn.metrics import confusion_matrix, ConfusionMatrixDisplay\n",
    "import json\n",
    "from sklearn.model_selection import train_test_split\n",
    "from tensorflow.keras.applications import VGG19\n",
    "from tensorflow.keras.applications.resnet50 import ResNet50\n",
    "from tensorflow.keras.optimizers.legacy import Adam\n",
    "from tensorflow.keras.optimizers.legacy import SGD\n",
    "from tensorflow.keras.optimizers.schedules import ExponentialDecay\n",
    "from imblearn.over_sampling import ADASYN\n",
    "from sklearn.utils import shuffle"
   ]
  },
  {
   "cell_type": "markdown",
   "metadata": {},
   "source": [
    "#### GPU deaktivieren"
   ]
  },
  {
   "cell_type": "markdown",
   "metadata": {},
   "source": [
    "**Hinweis:** Bei M1/M2-Chips wird standardmäßig die GPU verwendet. Daher muss es für diese Chips einkommentiert werden, da diese Dropout-Layer mit GPU nicht gut handeln können"
   ]
  },
  {
   "cell_type": "code",
   "execution_count": 2,
   "metadata": {},
   "outputs": [
    {
     "name": "stderr",
     "output_type": "stream",
     "text": [
      "2024-01-18 19:06:54.172412: W tensorflow/compiler/xla/stream_executor/platform/default/dso_loader.cc:64] Could not load dynamic library 'libcuda.so.1'; dlerror: libcuda.so.1: cannot open shared object file: No such file or directory\n",
      "2024-01-18 19:06:54.172798: W tensorflow/compiler/xla/stream_executor/cuda/cuda_driver.cc:265] failed call to cuInit: UNKNOWN ERROR (303)\n",
      "2024-01-18 19:06:54.172845: I tensorflow/compiler/xla/stream_executor/cuda/cuda_diagnostics.cc:156] kernel driver does not appear to be running on this host (marcel-laptop): /proc/driver/nvidia/version does not exist\n"
     ]
    }
   ],
   "source": [
    "tf.config.set_visible_devices([], 'GPU')"
   ]
  },
  {
   "cell_type": "markdown",
   "metadata": {},
   "source": [
    "#### Daten einlesen"
   ]
  },
  {
   "cell_type": "markdown",
   "metadata": {},
   "source": [
    "**Hinweis:** Die Daten wurden in einer pkl-Datei gespeichert, um nicht jedes mal die Vorverarbeitung durchführen zu müssen und unkompliziert zwischen den Modelklassen hin- und her wechseln zu können"
   ]
  },
  {
   "cell_type": "code",
   "execution_count": 3,
   "metadata": {},
   "outputs": [],
   "source": [
    "data = pd.read_pickle('./data/images_df_numerical.pkl')\n",
    "\n",
    "# um auf Samples pro Klasse zu reduzieren\n",
    "    #species_counts = data['Species'].value_counts()\n",
    "    #valid_species = species_counts[species_counts >= 200].index\n",
    "    #data = data[data['Species'].isin(valid_species)]\n",
    "    #data['Species'] = data['Species'].replace(2,1) # bei zwei klassen macteh die labels nicht mehr\n",
    "\n",
    "classes = data[\"Species\"].unique()\n",
    "number_of_classes = classes.size\n",
    "num_samples = len(data)\n",
    "class_dist = data['Species'].value_counts()\n",
    "X, y = data['data'], data['Species']\n",
    "# Wir hatten massive Probleme mit der Begrenztheit unseres RAMs, weshalb wir versucht haben die Usage an mehreren Stellen zu reduzieren\n",
    "X, y = np.stack(X).astype(np.float16), y.to_numpy().astype(np.uint8)\n"
   ]
  },
  {
   "cell_type": "markdown",
   "metadata": {},
   "source": [
    "#### Seed setzen"
   ]
  },
  {
   "cell_type": "markdown",
   "metadata": {},
   "source": [
    "Um die Nachvollziehbarkeit zu erhöhen setzen wir den Seed immer auf den selben Startwert"
   ]
  },
  {
   "cell_type": "code",
   "execution_count": 4,
   "metadata": {},
   "outputs": [],
   "source": [
    "tf.keras.utils.set_random_seed(1)"
   ]
  },
  {
   "cell_type": "markdown",
   "metadata": {},
   "source": [
    "Bei Verwendung einer GPU macht es die Operationen so deterministisch wie möglich\n",
    "\n",
    "**Hinweis:** Diese Option vermindert die Performance"
   ]
  },
  {
   "cell_type": "code",
   "execution_count": 5,
   "metadata": {},
   "outputs": [],
   "source": [
    "tf.config.experimental.enable_op_determinism()"
   ]
  },
  {
   "cell_type": "markdown",
   "metadata": {},
   "source": [
    "#### Bilder reshapen"
   ]
  },
  {
   "cell_type": "code",
   "execution_count": 6,
   "metadata": {},
   "outputs": [],
   "source": [
    "image_size = X[0].size\n",
    "samples = X.size\n",
    "with open(\"./data/meta.json\",\"r\") as file:  # Shape der Bilder nach dem resizen aus dem data_prep notebook\n",
    "    image_meta = json.load(file) \n",
    "image_shape = (image_meta['h'],image_meta['w'],image_meta['c'])"
   ]
  },
  {
   "cell_type": "code",
   "execution_count": 7,
   "metadata": {},
   "outputs": [
    {
     "name": "stdout",
     "output_type": "stream",
     "text": [
      "Image has shape: (82, 128, 3)\n"
     ]
    }
   ],
   "source": [
    "X = X.reshape((-1,) + image_shape)\n",
    "print(f\"Image has shape: {image_shape}\")"
   ]
  },
  {
   "cell_type": "code",
   "execution_count": 8,
   "metadata": {},
   "outputs": [
    {
     "name": "stdout",
     "output_type": "stream",
     "text": [
      "111/111 [==============================] - 4s 33ms/step\n"
     ]
    }
   ],
   "source": [
    "autoencoder = keras.saving.load_model('./ae_files/test_autoencoder_cnn.keras')\n",
    "X = autoencoder.predict(X)\n",
    "X = X.reshape((-1,) + image_shape)"
   ]
  },
  {
   "cell_type": "markdown",
   "metadata": {},
   "source": [
    "#### k-Fold-Cross-Validation"
   ]
  },
  {
   "cell_type": "markdown",
   "metadata": {},
   "source": [
    "Wir benutzen 10-Fold-Cross-Validation, um das Ergebnis weniger vom gewählten Split abhängig zu machen und somit das Ergebnis zu stabilisieren. Statified stellt sicher, dass die Klasseneinteilung beibehalten wird. Dies ist vor allem ohne Resampling interessant, da wir extrem ungleich verteilte Klassen haben."
   ]
  },
  {
   "cell_type": "code",
   "execution_count": 8,
   "metadata": {},
   "outputs": [],
   "source": [
    "kfold = StratifiedKFold(n_splits=10, shuffle=True)"
   ]
  },
  {
   "cell_type": "markdown",
   "metadata": {},
   "source": [
    "#### Modell"
   ]
  },
  {
   "cell_type": "markdown",
   "metadata": {},
   "source": [
    "Bei den Hyperparametern haben wir Grundsätzlich Standardwerte aus Papern o. Ä. benutzt und dann je nach Ergebnis empirisch angepasst (Versuchte Parameter haben wir mal weggelassen, aber wir haben alle möglichen Kernelsizes, Neuronenanzahlen, usw. probiert)"
   ]
  },
  {
   "cell_type": "markdown",
   "metadata": {},
   "source": [
    "[Modelstruktur](https://www.kaggle.com/code/christianlillelund/classify-mnist-audio-using-spectrograms-keras-cnn)  \n",
    "[Epochs](https://doi.org/10.1016/j.icte.2020.04.010)  \n",
    "[Batch-Size und Learning Rate](https://elar.khmnu.edu.ua/items/a5d0d900-449d-4f3d-b800-c7200084384f)  \n",
    "[Dropout-Rate](https://www.jmlr.org/papers/volume15/srivastava14a/srivastava14a.pdf)  \n",
    "[Pooling-Size](https://cs231n.github.io/convolutional-networks/#pool)  \n",
    "Weigh_decay_alpha: aus der Vorlesung\n",
    "Padding: Wir wollen nicht, dass für jede Schicht das Bild kleiner wird, da sonst das Innere des Bildes viel stärker gewichtet werden würde\n",
    "Batch Normalization: Normalisiert die Daten nach jedem Layer\n",
    "Relu: Da es sich um Bilder handelt und sie somit nur im positiven Wertebereich sind"
   ]
  },
  {
   "cell_type": "code",
   "execution_count": 9,
   "metadata": {},
   "outputs": [],
   "source": [
    "# Stoppt wenn bei 30 Epochen die Validation-Accuracy nicht um mehr als 0.01 besser wird\n",
    "early_stopping = EarlyStopping(monitor='val_accuracy', patience=30, min_delta=0.01, start_from_epoch=15, restore_best_weights=True)\n",
    "epochs = 200\n",
    "batch_size = 32\n",
    "dropout_rate = 0.2\n",
    "weight_decay_alpha = 0.01\n",
    "\n",
    "def create_model():\n",
    "    model = tf.keras.models.Sequential(name=\"cnn\")\n",
    "    model.add(tf.keras.layers.Input(shape=image_shape, name=\"cnn_input\"))\n",
    "    model.add(tf.keras.layers.Conv2D(32, 3, strides=2, padding='same', activation='relu', kernel_regularizer=regularizers.l2(weight_decay_alpha)))\n",
    "    model.add(tf.keras.layers.BatchNormalization())\n",
    "    model.add(tf.keras.layers.Dropout(dropout_rate))\n",
    "    model.add(tf.keras.layers.MaxPooling2D(pool_size=(2, 2)))\n",
    "    model.add(tf.keras.layers.BatchNormalization())\n",
    "    model.add(tf.keras.layers.Dropout(dropout_rate))\n",
    "    model.add(tf.keras.layers.Conv2D(64, 3, padding='same', activation='relu', kernel_regularizer=regularizers.l2(weight_decay_alpha)))\n",
    "    model.add(tf.keras.layers.BatchNormalization())\n",
    "    model.add(tf.keras.layers.Dropout(dropout_rate))\n",
    "    model.add(tf.keras.layers.MaxPooling2D(pool_size=(2, 2)))\n",
    "    model.add(tf.keras.layers.BatchNormalization())\n",
    "    model.add(tf.keras.layers.Dropout(dropout_rate))\n",
    "    model.add(tf.keras.layers.Conv2D(128, 3, padding='same', activation='relu', kernel_regularizer=regularizers.l2(weight_decay_alpha)))\n",
    "    model.add(tf.keras.layers.BatchNormalization())\n",
    "    model.add(tf.keras.layers.Dropout(dropout_rate))\n",
    "    model.add(tf.keras.layers.MaxPooling2D(pool_size=(2, 2)))\n",
    "    model.add(tf.keras.layers.BatchNormalization())\n",
    "    model.add(tf.keras.layers.Flatten())\n",
    "    model.add(tf.keras.layers.Dense(1024, activation='relu', kernel_regularizer=tf.keras.regularizers.l2(weight_decay_alpha)))\n",
    "    model.add(tf.keras.layers.BatchNormalization())\n",
    "    model.add(tf.keras.layers.Dropout(dropout_rate))\n",
    "    model.add(tf.keras.layers.Dense(512, activation='relu', kernel_regularizer=tf.keras.regularizers.l2(weight_decay_alpha)))\n",
    "    model.add(tf.keras.layers.BatchNormalization())\n",
    "    model.add(tf.keras.layers.Dropout(dropout_rate))\n",
    "    model.add(tf.keras.layers.Dense(256, activation='relu', kernel_regularizer=tf.keras.regularizers.l2(weight_decay_alpha)))\n",
    "    model.add(tf.keras.layers.BatchNormalization())\n",
    "    model.add(tf.keras.layers.Dropout(dropout_rate))\n",
    "    model.add(tf.keras.layers.Dense(128, activation='relu', kernel_regularizer=tf.keras.regularizers.l2(weight_decay_alpha)))\n",
    "    model.add(tf.keras.layers.BatchNormalization())\n",
    "    model.add(tf.keras.layers.Dropout(dropout_rate))\n",
    "    model.add(tf.keras.layers.Dense(64, activation='relu', kernel_regularizer=tf.keras.regularizers.l2(weight_decay_alpha)))\n",
    "    model.add(tf.keras.layers.BatchNormalization())\n",
    "    model.add(tf.keras.layers.Dropout(dropout_rate))\n",
    "    model.add(tf.keras.layers.Dense(number_of_classes, activation='softmax'))\n",
    "\n",
    "    return model"
   ]
  },
  {
   "cell_type": "markdown",
   "metadata": {},
   "source": [
    "#### Optimizierwahl"
   ]
  },
  {
   "cell_type": "markdown",
   "metadata": {},
   "source": [
    "Wir haben verschiedene Optimizier mit und ohne ExpoentialLRDecay ausprobiert:\n",
    "\n",
    "|Optimizer|Avg. Test Acc|\n",
    "|:-|-:|\n",
    "|**SGD**| 77% |\n",
    "|**SGD_exp**| 72% |\n",
    "|**ADAM**|79%|\n",
    "|**ADAM_exp**| 74% |"
   ]
  },
  {
   "cell_type": "code",
   "execution_count": 10,
   "metadata": {},
   "outputs": [],
   "source": [
    "def create_optimizers(num_samples) -> dict:\n",
    "    s = 130 * num_samples // 32 # number of steps in 130 epochs (batch size = 32)\n",
    "    exp_decay_sgd = ExponentialDecay(0.01, s, 0.1)\n",
    "    exp_adam = ExponentialDecay(0.01, s, 0.95, staircase=True)\n",
    "\n",
    "    momentum = 0.99\n",
    "    sgd_exp = SGD(exp_decay_sgd, momentum=momentum)\n",
    "    adam_exp = Adam(exp_adam)\n",
    "\n",
    "    sgd = SGD(0.001, momentum=momentum)\n",
    "    adam = Adam(0.001)\n",
    "\n",
    "    return {\"sgd_exp\": sgd_exp, \"adam_exp\": adam_exp, \"sgd\": sgd, \"adam\": adam}"
   ]
  },
  {
   "cell_type": "markdown",
   "metadata": {},
   "source": [
    "#### Model Fit Funktion"
   ]
  },
  {
   "cell_type": "code",
   "execution_count": 11,
   "metadata": {},
   "outputs": [],
   "source": [
    "def fit_model(model, X_train, y_train, X_val=None, y_val=None, class_weights=(class_dist / class_dist).to_dict()):\n",
    "    # Das Model macht selbst den Validation Split\n",
    "    if X_val is None or y_val is None:\n",
    "        history = model.fit(\n",
    "            X_train,\n",
    "            y_train,\n",
    "            epochs=epochs,\n",
    "            batch_size=batch_size,\n",
    "            callbacks=[early_stopping, tfmot.sparsity.keras.UpdatePruningStep()],\n",
    "            validation_split=0.2,\n",
    "            verbose=1,)\n",
    "            #class_weight=class_weights)\n",
    "    # Wir übergeben dem Model Validation Daten\n",
    "    elif X_val is not None and y_val is not None:\n",
    "        history = model.fit(\n",
    "            X_train,\n",
    "            y_train,\n",
    "            epochs=epochs,\n",
    "            batch_size=batch_size,\n",
    "            callbacks=[early_stopping, tfmot.sparsity.keras.UpdatePruningStep()],\n",
    "            validation_data=(X_val,y_val),\n",
    "            verbose=1,)\n",
    "            #class_weight=class_weights)\n",
    "    return history"
   ]
  },
  {
   "cell_type": "markdown",
   "metadata": {},
   "source": [
    "#### Model Pruning"
   ]
  },
  {
   "cell_type": "markdown",
   "metadata": {},
   "source": [
    "Größtenteils von hier übernommen und hat gut funktioniert: https://towardsdatascience.com/model-pruning-in-deep-neural-networks-using-the-tensorflow-api-7cf52bdd32"
   ]
  },
  {
   "cell_type": "code",
   "execution_count": 12,
   "metadata": {},
   "outputs": [
    {
     "name": "stderr",
     "output_type": "stream",
     "text": [
      "2024-01-18 19:06:55.319708: I tensorflow/core/platform/cpu_feature_guard.cc:193] This TensorFlow binary is optimized with oneAPI Deep Neural Network Library (oneDNN) to use the following CPU instructions in performance-critical operations:  AVX2 FMA\n",
      "To enable them in other operations, rebuild TensorFlow with the appropriate compiler flags.\n"
     ]
    },
    {
     "name": "stdout",
     "output_type": "stream",
     "text": [
      "WARNING:tensorflow:From /home/marcel/.local/lib/python3.10/site-packages/tensorflow/python/autograph/pyct/static_analysis/liveness.py:83: Analyzer.lamba_check (from tensorflow.python.autograph.pyct.static_analysis.liveness) is deprecated and will be removed after 2023-09-23.\n",
      "Instructions for updating:\n",
      "Lambda fuctions will be no more assumed to be used in the statement where they are used, or at least in the same block. https://github.com/tensorflow/tensorflow/issues/56089\n"
     ]
    }
   ],
   "source": [
    "end_step = np.ceil(X.shape[0] / batch_size).astype(np.int32) * epochs\n",
    "\n",
    "pruning_params = {\n",
    "      # Inital: 50% sparsity (50% zeros in weights) und Final: 80% Sparsity\n",
    "      'pruning_schedule': tfmot.sparsity.keras.PolynomialDecay(initial_sparsity=0.50,\n",
    "                                                                final_sparsity=0.80,\n",
    "                                                                begin_step=0,\n",
    "                                                                end_step=end_step)}\n",
    "\n",
    "model = create_model()\n",
    "model = tfmot.sparsity.keras.prune_low_magnitude(model, **pruning_params)"
   ]
  },
  {
   "cell_type": "markdown",
   "metadata": {},
   "source": [
    "#### Split-Funktion"
   ]
  },
  {
   "cell_type": "code",
   "execution_count": 13,
   "metadata": {},
   "outputs": [],
   "source": [
    "def train_val_test_split(train_indezes, test_indezes, tensor=False):\n",
    "    X_train, X_val, y_train, y_val = train_test_split(X[train_indezes], y[train_indezes], test_size=0.2,stratify=y[train_indezes], random_state=42)\n",
    "    X_test, y_test = X[test_indezes], y[test_indezes]\n",
    "\n",
    "    \n",
    "    # Das speichern als Tensor spart RAM\n",
    "    if tensor:\n",
    "        return (tf.convert_to_tensor(X_train),\n",
    "                tf.convert_to_tensor(y_train), \n",
    "                tf.convert_to_tensor(X_val),\n",
    "                tf.convert_to_tensor(y_val),\n",
    "                tf.convert_to_tensor(X_test),\n",
    "                tf.convert_to_tensor(y_test))\n",
    "    else:\n",
    "        return (X_train,y_train,X_val,y_val,X_test,y_test)"
   ]
  },
  {
   "cell_type": "markdown",
   "metadata": {},
   "source": [
    "#### Weighted loss function\n",
    "\n",
    "Wir haben uns auch überlegt die loss_function zu gewichten, um die ungleiche Klassenverteilung ein wenig abzuschwächen. Leider hatten wir nicht mehr genug Zeit Ergebnisse davon zu präsentieren."
   ]
  },
  {
   "cell_type": "code",
   "execution_count": 14,
   "metadata": {},
   "outputs": [],
   "source": [
    "# Große Klassen stärken\n",
    "class_weights_class_dist = (num_samples / (class_dist * number_of_classes)).to_dict()\n",
    "# Kleine Klassen stärken (wahrscheinlich der bessere Ansatz, weil die großen Klassen ja sehr gut vorhergesagt werden)\n",
    "class_weights_inv = (1.0 / (class_dist / num_samples)).to_dict()"
   ]
  },
  {
   "cell_type": "markdown",
   "metadata": {},
   "source": [
    "#### Tatsächliches Training"
   ]
  },
  {
   "cell_type": "code",
   "execution_count": 15,
   "metadata": {},
   "outputs": [],
   "source": [
    "def resample_after_split(X,y, resampler=ADASYN()) -> tuple[np.array, np.array]:\n",
    "    n, h, w, _ = X.shape\n",
    "    X = X.reshape((n, h * w * 3))\n",
    "    X = (X*255.).astype(np.uint8)\n",
    "    _, dist = np.unique(y, return_counts=True)\n",
    "    print(f\"{resampler} before res:\",dist)\n",
    "\n",
    "    X_resampled, y_resampled = resampler.fit_resample(X, y)\n",
    "\n",
    "    _, dist = np.unique(y_resampled, return_counts=True)\n",
    "    print(f\"{resampler} after res:\", dist)\n",
    "\n",
    "    X_resampled = X_resampled.reshape((-1,) + image_shape)\n",
    "\n",
    "    # shuffle ist nötig, da die synthetischen Daten nach Labels geordnet sind (random_state für bessere nachvollziehbarkeit)\n",
    "    X_resampled, y_resampled = shuffle(X_resampled, y_resampled, random_state=1)\n",
    "    X_resampled = X_resampled.astype(np.float16)/255.\n",
    "    return X_resampled, y_resampled"
   ]
  },
  {
   "cell_type": "code",
   "execution_count": 16,
   "metadata": {
    "scrolled": true
   },
   "outputs": [
    {
     "name": "stdout",
     "output_type": "stream",
     "text": [
      "Model: \"cnn\"\n",
      "_________________________________________________________________\n",
      " Layer (type)                Output Shape              Param #   \n",
      "=================================================================\n",
      " prune_low_magnitude_conv2d  (None, 41, 64, 32)        1762      \n",
      "  (PruneLowMagnitude)                                            \n",
      "                                                                 \n",
      " prune_low_magnitude_batch_  (None, 41, 64, 32)        129       \n",
      " normalization (PruneLowMag                                      \n",
      " nitude)                                                         \n",
      "                                                                 \n",
      " prune_low_magnitude_dropou  (None, 41, 64, 32)        1         \n",
      " t (PruneLowMagnitude)                                           \n",
      "                                                                 \n",
      " prune_low_magnitude_max_po  (None, 20, 32, 32)        1         \n",
      " oling2d (PruneLowMagnitude                                      \n",
      " )                                                               \n",
      "                                                                 \n",
      " prune_low_magnitude_batch_  (None, 20, 32, 32)        129       \n",
      " normalization_1 (PruneLowM                                      \n",
      " agnitude)                                                       \n",
      "                                                                 \n",
      " prune_low_magnitude_dropou  (None, 20, 32, 32)        1         \n",
      " t_1 (PruneLowMagnitude)                                         \n",
      "                                                                 \n",
      " prune_low_magnitude_conv2d  (None, 20, 32, 64)        36930     \n",
      " _1 (PruneLowMagnitude)                                          \n",
      "                                                                 \n",
      " prune_low_magnitude_batch_  (None, 20, 32, 64)        257       \n",
      " normalization_2 (PruneLowM                                      \n",
      " agnitude)                                                       \n",
      "                                                                 \n",
      " prune_low_magnitude_dropou  (None, 20, 32, 64)        1         \n",
      " t_2 (PruneLowMagnitude)                                         \n",
      "                                                                 \n",
      " prune_low_magnitude_max_po  (None, 10, 16, 64)        1         \n",
      " oling2d_1 (PruneLowMagnitu                                      \n",
      " de)                                                             \n",
      "                                                                 \n",
      " prune_low_magnitude_batch_  (None, 10, 16, 64)        257       \n",
      " normalization_3 (PruneLowM                                      \n",
      " agnitude)                                                       \n",
      "                                                                 \n",
      " prune_low_magnitude_dropou  (None, 10, 16, 64)        1         \n",
      " t_3 (PruneLowMagnitude)                                         \n",
      "                                                                 \n",
      " prune_low_magnitude_conv2d  (None, 10, 16, 128)       147586    \n",
      " _2 (PruneLowMagnitude)                                          \n",
      "                                                                 \n",
      " prune_low_magnitude_batch_  (None, 10, 16, 128)       513       \n",
      " normalization_4 (PruneLowM                                      \n",
      " agnitude)                                                       \n",
      "                                                                 \n",
      " prune_low_magnitude_dropou  (None, 10, 16, 128)       1         \n",
      " t_4 (PruneLowMagnitude)                                         \n",
      "                                                                 \n",
      " prune_low_magnitude_max_po  (None, 5, 8, 128)         1         \n",
      " oling2d_2 (PruneLowMagnitu                                      \n",
      " de)                                                             \n",
      "                                                                 \n",
      " prune_low_magnitude_batch_  (None, 5, 8, 128)         513       \n",
      " normalization_5 (PruneLowM                                      \n",
      " agnitude)                                                       \n",
      "                                                                 \n",
      " prune_low_magnitude_flatte  (None, 5120)              1         \n",
      " n (PruneLowMagnitude)                                           \n",
      "                                                                 \n",
      " prune_low_magnitude_dense   (None, 1024)              10486786  \n",
      " (PruneLowMagnitude)                                             \n",
      "                                                                 \n",
      " prune_low_magnitude_batch_  (None, 1024)              4097      \n",
      " normalization_6 (PruneLowM                                      \n",
      " agnitude)                                                       \n",
      "                                                                 \n",
      " prune_low_magnitude_dropou  (None, 1024)              1         \n",
      " t_5 (PruneLowMagnitude)                                         \n",
      "                                                                 \n",
      " prune_low_magnitude_dense_  (None, 512)               1049090   \n",
      " 1 (PruneLowMagnitude)                                           \n",
      "                                                                 \n",
      " prune_low_magnitude_batch_  (None, 512)               2049      \n",
      " normalization_7 (PruneLowM                                      \n",
      " agnitude)                                                       \n",
      "                                                                 \n",
      " prune_low_magnitude_dropou  (None, 512)               1         \n",
      " t_6 (PruneLowMagnitude)                                         \n",
      "                                                                 \n",
      " prune_low_magnitude_dense_  (None, 256)               262402    \n",
      " 2 (PruneLowMagnitude)                                           \n",
      "                                                                 \n",
      " prune_low_magnitude_batch_  (None, 256)               1025      \n",
      " normalization_8 (PruneLowM                                      \n",
      " agnitude)                                                       \n",
      "                                                                 \n",
      " prune_low_magnitude_dropou  (None, 256)               1         \n",
      " t_7 (PruneLowMagnitude)                                         \n",
      "                                                                 \n",
      " prune_low_magnitude_dense_  (None, 128)               65666     \n",
      " 3 (PruneLowMagnitude)                                           \n",
      "                                                                 \n",
      " prune_low_magnitude_batch_  (None, 128)               513       \n",
      " normalization_9 (PruneLowM                                      \n",
      " agnitude)                                                       \n",
      "                                                                 \n",
      " prune_low_magnitude_dropou  (None, 128)               1         \n",
      " t_8 (PruneLowMagnitude)                                         \n",
      "                                                                 \n",
      " prune_low_magnitude_dense_  (None, 64)                16450     \n",
      " 4 (PruneLowMagnitude)                                           \n",
      "                                                                 \n",
      " prune_low_magnitude_batch_  (None, 64)                257       \n",
      " normalization_10 (PruneLow                                      \n",
      " Magnitude)                                                      \n",
      "                                                                 \n",
      " prune_low_magnitude_dropou  (None, 64)                1         \n",
      " t_9 (PruneLowMagnitude)                                         \n",
      "                                                                 \n",
      " prune_low_magnitude_dense_  (None, 4)                 518       \n",
      " 5 (PruneLowMagnitude)                                           \n",
      "                                                                 \n",
      "=================================================================\n",
      "Total params: 12076943 (46.07 MB)\n",
      "Trainable params: 6039556 (23.04 MB)\n",
      "Non-trainable params: 6037387 (23.03 MB)\n",
      "_________________________________________________________________\n",
      "None\n",
      "Epoch 1/200\n",
      "45/45 [==============================] - 6s 57ms/step - loss: 31.8160 - accuracy: 0.3839 - val_loss: 29.1496 - val_accuracy: 0.0822\n",
      "Epoch 2/200\n",
      "45/45 [==============================] - 2s 52ms/step - loss: 26.4047 - accuracy: 0.5297 - val_loss: 24.3097 - val_accuracy: 0.0822\n",
      "Epoch 3/200\n",
      "45/45 [==============================] - 3s 64ms/step - loss: 19.2634 - accuracy: 0.6381 - val_loss: 16.8070 - val_accuracy: 0.5949\n",
      "Epoch 4/200\n",
      "45/45 [==============================] - 2s 51ms/step - loss: 15.1430 - accuracy: 0.6898 - val_loss: 14.0178 - val_accuracy: 0.5949\n",
      "Epoch 5/200\n",
      "45/45 [==============================] - 3s 65ms/step - loss: 12.3516 - accuracy: 0.7259 - val_loss: 12.1954 - val_accuracy: 0.0822\n",
      "Epoch 6/200\n",
      "45/45 [==============================] - 2s 55ms/step - loss: 10.8962 - accuracy: 0.7365 - val_loss: 11.5799 - val_accuracy: 0.0822\n",
      "Epoch 7/200\n",
      "45/45 [==============================] - 3s 69ms/step - loss: 9.7095 - accuracy: 0.7500 - val_loss: 9.7402 - val_accuracy: 0.5949\n",
      "Epoch 8/200\n",
      "45/45 [==============================] - 3s 56ms/step - loss: 8.3691 - accuracy: 0.7712 - val_loss: 8.6486 - val_accuracy: 0.1898\n",
      "Epoch 9/200\n",
      "45/45 [==============================] - 3s 70ms/step - loss: 7.2358 - accuracy: 0.7748 - val_loss: 7.5006 - val_accuracy: 0.2323\n",
      "Epoch 10/200\n",
      "45/45 [==============================] - 3s 57ms/step - loss: 6.4020 - accuracy: 0.7670 - val_loss: 7.1212 - val_accuracy: 0.3173\n",
      "Epoch 11/200\n",
      "45/45 [==============================] - 3s 57ms/step - loss: 6.0382 - accuracy: 0.7769 - val_loss: 6.2930 - val_accuracy: 0.5949\n",
      "Epoch 12/200\n",
      "45/45 [==============================] - 3s 70ms/step - loss: 5.5218 - accuracy: 0.7826 - val_loss: 5.5803 - val_accuracy: 0.6091\n",
      "Epoch 13/200\n",
      "45/45 [==============================] - 3s 57ms/step - loss: 4.8562 - accuracy: 0.7975 - val_loss: 5.0214 - val_accuracy: 0.6204\n",
      "Epoch 14/200\n",
      "45/45 [==============================] - 3s 71ms/step - loss: 4.6089 - accuracy: 0.7897 - val_loss: 4.8313 - val_accuracy: 0.6374\n",
      "Epoch 15/200\n",
      "45/45 [==============================] - 3s 59ms/step - loss: 4.2390 - accuracy: 0.8038 - val_loss: 4.2725 - val_accuracy: 0.6771\n",
      "Epoch 16/200\n",
      "45/45 [==============================] - 3s 71ms/step - loss: 4.4681 - accuracy: 0.7564 - val_loss: 5.0606 - val_accuracy: 0.3768\n",
      "Epoch 17/200\n",
      "45/45 [==============================] - 3s 62ms/step - loss: 4.0395 - accuracy: 0.7967 - val_loss: 4.0729 - val_accuracy: 0.6176\n",
      "Epoch 18/200\n",
      "45/45 [==============================] - 3s 73ms/step - loss: 3.6463 - accuracy: 0.7918 - val_loss: 3.7257 - val_accuracy: 0.6544\n",
      "Epoch 19/200\n",
      "45/45 [==============================] - 3s 62ms/step - loss: 3.1676 - accuracy: 0.8350 - val_loss: 3.3039 - val_accuracy: 0.6431\n",
      "Epoch 20/200\n",
      "45/45 [==============================] - 3s 73ms/step - loss: 2.9547 - accuracy: 0.8229 - val_loss: 3.2862 - val_accuracy: 0.6147\n",
      "Epoch 21/200\n",
      "45/45 [==============================] - 3s 61ms/step - loss: 2.8070 - accuracy: 0.8180 - val_loss: 2.8897 - val_accuracy: 0.6657\n",
      "Epoch 22/200\n",
      "45/45 [==============================] - 3s 60ms/step - loss: 2.6316 - accuracy: 0.8371 - val_loss: 2.8542 - val_accuracy: 0.6799\n",
      "Epoch 23/200\n",
      "45/45 [==============================] - 3s 73ms/step - loss: 2.5467 - accuracy: 0.8470 - val_loss: 2.8342 - val_accuracy: 0.6544\n",
      "Epoch 24/200\n",
      "45/45 [==============================] - 3s 62ms/step - loss: 2.6330 - accuracy: 0.8102 - val_loss: 2.8170 - val_accuracy: 0.6856\n",
      "Epoch 25/200\n",
      "45/45 [==============================] - 3s 73ms/step - loss: 2.3743 - accuracy: 0.8378 - val_loss: 2.7307 - val_accuracy: 0.6374\n",
      "Epoch 26/200\n",
      "45/45 [==============================] - 3s 61ms/step - loss: 2.2943 - accuracy: 0.8392 - val_loss: 2.4450 - val_accuracy: 0.7309\n",
      "Epoch 27/200\n",
      "45/45 [==============================] - 3s 73ms/step - loss: 2.2138 - accuracy: 0.8407 - val_loss: 2.2859 - val_accuracy: 0.7564\n",
      "Epoch 28/200\n",
      "45/45 [==============================] - 3s 61ms/step - loss: 2.1554 - accuracy: 0.8449 - val_loss: 2.3394 - val_accuracy: 0.6856\n",
      "Epoch 29/200\n",
      "45/45 [==============================] - 3s 75ms/step - loss: 2.1423 - accuracy: 0.8357 - val_loss: 2.2717 - val_accuracy: 0.7082\n",
      "Epoch 30/200\n",
      "45/45 [==============================] - 3s 62ms/step - loss: 2.0520 - accuracy: 0.8357 - val_loss: 2.0937 - val_accuracy: 0.7564\n",
      "Epoch 31/200\n",
      "45/45 [==============================] - 3s 63ms/step - loss: 1.9764 - accuracy: 0.8343 - val_loss: 1.9970 - val_accuracy: 0.7705\n",
      "Epoch 32/200\n",
      "45/45 [==============================] - 3s 75ms/step - loss: 2.0436 - accuracy: 0.8399 - val_loss: 2.1968 - val_accuracy: 0.7592\n",
      "Epoch 33/200\n",
      "45/45 [==============================] - 3s 63ms/step - loss: 1.8884 - accuracy: 0.8442 - val_loss: 2.1044 - val_accuracy: 0.7082\n",
      "Epoch 34/200\n",
      "45/45 [==============================] - 3s 75ms/step - loss: 1.8369 - accuracy: 0.8534 - val_loss: 2.3428 - val_accuracy: 0.6827\n",
      "Epoch 35/200\n",
      "45/45 [==============================] - 3s 63ms/step - loss: 1.8022 - accuracy: 0.8562 - val_loss: 2.0037 - val_accuracy: 0.7309\n",
      "Epoch 36/200\n",
      "45/45 [==============================] - 3s 76ms/step - loss: 1.7328 - accuracy: 0.8527 - val_loss: 2.1171 - val_accuracy: 0.6742\n",
      "Epoch 37/200\n",
      "45/45 [==============================] - 3s 64ms/step - loss: 1.6562 - accuracy: 0.8477 - val_loss: 1.9311 - val_accuracy: 0.6856\n",
      "Epoch 38/200\n",
      "45/45 [==============================] - 3s 72ms/step - loss: 1.5442 - accuracy: 0.8633 - val_loss: 2.0035 - val_accuracy: 0.7167\n",
      "Epoch 39/200\n",
      "45/45 [==============================] - 3s 58ms/step - loss: 2.3641 - accuracy: 0.8045 - val_loss: 2.7160 - val_accuracy: 0.6884\n",
      "Epoch 40/200\n",
      "45/45 [==============================] - 3s 72ms/step - loss: 2.3992 - accuracy: 0.8201 - val_loss: 2.5396 - val_accuracy: 0.6941\n",
      "Epoch 41/200\n",
      "45/45 [==============================] - 3s 60ms/step - loss: 2.6544 - accuracy: 0.8229 - val_loss: 2.8925 - val_accuracy: 0.7195\n",
      "Epoch 42/200\n",
      "45/45 [==============================] - 3s 59ms/step - loss: 2.2193 - accuracy: 0.8477 - val_loss: 2.1535 - val_accuracy: 0.7762\n",
      "Epoch 43/200\n",
      "45/45 [==============================] - 3s 72ms/step - loss: 1.9715 - accuracy: 0.8442 - val_loss: 2.1068 - val_accuracy: 0.7394\n",
      "Epoch 44/200\n",
      "45/45 [==============================] - 3s 59ms/step - loss: 1.7435 - accuracy: 0.8612 - val_loss: 2.0932 - val_accuracy: 0.6884\n",
      "Epoch 45/200\n",
      "45/45 [==============================] - 3s 72ms/step - loss: 1.6249 - accuracy: 0.8520 - val_loss: 1.8846 - val_accuracy: 0.7252\n",
      "Epoch 46/200\n",
      "45/45 [==============================] - 3s 59ms/step - loss: 1.6620 - accuracy: 0.8492 - val_loss: 2.0560 - val_accuracy: 0.6544\n",
      "Epoch 47/200\n",
      "45/45 [==============================] - 3s 73ms/step - loss: 1.8767 - accuracy: 0.8463 - val_loss: 2.3064 - val_accuracy: 0.7309\n",
      "Epoch 48/200\n",
      "45/45 [==============================] - 3s 61ms/step - loss: 1.7973 - accuracy: 0.8598 - val_loss: 1.9151 - val_accuracy: 0.7479\n",
      "Epoch 49/200\n",
      "45/45 [==============================] - 3s 77ms/step - loss: 1.5985 - accuracy: 0.8399 - val_loss: 2.0825 - val_accuracy: 0.6771\n",
      "Epoch 50/200\n",
      "45/45 [==============================] - 3s 62ms/step - loss: 1.4586 - accuracy: 0.8725 - val_loss: 1.6320 - val_accuracy: 0.7450\n",
      "Epoch 51/200\n",
      "45/45 [==============================] - 3s 62ms/step - loss: 1.5920 - accuracy: 0.8392 - val_loss: 1.8102 - val_accuracy: 0.7422\n",
      "Epoch 52/200\n",
      "45/45 [==============================] - 3s 73ms/step - loss: 1.5200 - accuracy: 0.8527 - val_loss: 1.5657 - val_accuracy: 0.7819\n",
      "Epoch 53/200\n",
      "45/45 [==============================] - 3s 58ms/step - loss: 1.3807 - accuracy: 0.8775 - val_loss: 1.8432 - val_accuracy: 0.7054\n",
      "Epoch 54/200\n",
      "45/45 [==============================] - 3s 71ms/step - loss: 1.3955 - accuracy: 0.8619 - val_loss: 1.7390 - val_accuracy: 0.7195\n",
      "Epoch 55/200\n",
      "45/45 [==============================] - 3s 61ms/step - loss: 2.8278 - accuracy: 0.8159 - val_loss: 3.1900 - val_accuracy: 0.7479\n",
      "Epoch 56/200\n",
      "45/45 [==============================] - 3s 73ms/step - loss: 2.5430 - accuracy: 0.8336 - val_loss: 2.4014 - val_accuracy: 0.7450\n",
      "Epoch 57/200\n",
      "45/45 [==============================] - 3s 59ms/step - loss: 1.8964 - accuracy: 0.8499 - val_loss: 1.8793 - val_accuracy: 0.7819\n",
      "Epoch 58/200\n",
      "45/45 [==============================] - 3s 73ms/step - loss: 1.7461 - accuracy: 0.8392 - val_loss: 2.0896 - val_accuracy: 0.7167\n",
      "Epoch 59/200\n",
      "45/45 [==============================] - 3s 60ms/step - loss: 2.3555 - accuracy: 0.8152 - val_loss: 2.6610 - val_accuracy: 0.6572\n",
      "Epoch 60/200\n",
      "45/45 [==============================] - 3s 73ms/step - loss: 1.9967 - accuracy: 0.8640 - val_loss: 2.1003 - val_accuracy: 0.7252\n",
      "Epoch 61/200\n",
      "45/45 [==============================] - 3s 60ms/step - loss: 1.9184 - accuracy: 0.8477 - val_loss: 2.4638 - val_accuracy: 0.5751\n",
      "Epoch 62/200\n",
      "45/45 [==============================] - 3s 60ms/step - loss: 1.6334 - accuracy: 0.8761 - val_loss: 1.8902 - val_accuracy: 0.7309\n",
      "Epoch 63/200\n",
      "45/45 [==============================] - 3s 73ms/step - loss: 1.5194 - accuracy: 0.8605 - val_loss: 1.8640 - val_accuracy: 0.7252\n",
      "Epoch 64/200\n",
      "45/45 [==============================] - 3s 60ms/step - loss: 1.4701 - accuracy: 0.8711 - val_loss: 1.9023 - val_accuracy: 0.7025\n",
      "Epoch 65/200\n",
      "45/45 [==============================] - 3s 73ms/step - loss: 1.4548 - accuracy: 0.8661 - val_loss: 1.8392 - val_accuracy: 0.6771\n",
      "Epoch 66/200\n",
      "45/45 [==============================] - 3s 61ms/step - loss: 1.6775 - accuracy: 0.8584 - val_loss: 1.8307 - val_accuracy: 0.7790\n",
      "Epoch 67/200\n",
      "45/45 [==============================] - 3s 74ms/step - loss: 1.5443 - accuracy: 0.8718 - val_loss: 1.7963 - val_accuracy: 0.7592\n",
      "Epoch 68/200\n",
      "45/45 [==============================] - 3s 60ms/step - loss: 1.8039 - accuracy: 0.8534 - val_loss: 2.1618 - val_accuracy: 0.7479\n",
      "Epoch 69/200\n",
      "45/45 [==============================] - 3s 74ms/step - loss: 1.8339 - accuracy: 0.8661 - val_loss: 2.1392 - val_accuracy: 0.7167\n",
      "Epoch 70/200\n",
      "45/45 [==============================] - 3s 61ms/step - loss: 1.7036 - accuracy: 0.8591 - val_loss: 1.8427 - val_accuracy: 0.7819\n",
      "Epoch 71/200\n",
      "45/45 [==============================] - 3s 63ms/step - loss: 1.5346 - accuracy: 0.8697 - val_loss: 1.6711 - val_accuracy: 0.7705\n",
      "Epoch 72/200\n",
      "45/45 [==============================] - 3s 73ms/step - loss: 1.6705 - accuracy: 0.8661 - val_loss: 1.9638 - val_accuracy: 0.7847\n",
      "Epoch 73/200\n",
      "45/45 [==============================] - 3s 61ms/step - loss: 1.6046 - accuracy: 0.8725 - val_loss: 2.2372 - val_accuracy: 0.5836\n",
      "Epoch 74/200\n",
      "45/45 [==============================] - 3s 74ms/step - loss: 1.6488 - accuracy: 0.8647 - val_loss: 2.1576 - val_accuracy: 0.6742\n",
      "Epoch 75/200\n",
      "45/45 [==============================] - 3s 60ms/step - loss: 1.4936 - accuracy: 0.8803 - val_loss: 1.6611 - val_accuracy: 0.7677\n",
      "Epoch 76/200\n",
      "45/45 [==============================] - 3s 72ms/step - loss: 1.4959 - accuracy: 0.8640 - val_loss: 1.9272 - val_accuracy: 0.7535\n",
      "Epoch 77/200\n",
      "45/45 [==============================] - 3s 62ms/step - loss: 1.5158 - accuracy: 0.8605 - val_loss: 1.7342 - val_accuracy: 0.7394\n",
      "Epoch 78/200\n",
      "45/45 [==============================] - 3s 74ms/step - loss: 1.5381 - accuracy: 0.8591 - val_loss: 2.0813 - val_accuracy: 0.6544\n",
      "Epoch 79/200\n",
      "45/45 [==============================] - 3s 61ms/step - loss: 1.6053 - accuracy: 0.8647 - val_loss: 1.7496 - val_accuracy: 0.7450\n",
      "Epoch 80/200\n",
      "45/45 [==============================] - 3s 75ms/step - loss: 1.3989 - accuracy: 0.8605 - val_loss: 1.7916 - val_accuracy: 0.6969\n",
      "Epoch 81/200\n",
      "45/45 [==============================] - 3s 62ms/step - loss: 1.5081 - accuracy: 0.8555 - val_loss: 1.7424 - val_accuracy: 0.7762\n",
      "Epoch 82/200\n",
      "45/45 [==============================] - 3s 63ms/step - loss: 1.7813 - accuracy: 0.8371 - val_loss: 2.0173 - val_accuracy: 0.7649\n",
      "56/56 [==============================] - 1s 16ms/step\n",
      "56/56 [==============================] - 1s 17ms/step - loss: 1.5221 - accuracy: 0.8108\n",
      "Model: \"cnn\"\n",
      "_________________________________________________________________\n",
      " Layer (type)                Output Shape              Param #   \n",
      "=================================================================\n",
      " prune_low_magnitude_conv2d  (None, 41, 64, 32)        1762      \n",
      "  (PruneLowMagnitude)                                            \n",
      "                                                                 \n",
      " prune_low_magnitude_batch_  (None, 41, 64, 32)        129       \n",
      " normalization (PruneLowMag                                      \n",
      " nitude)                                                         \n",
      "                                                                 \n",
      " prune_low_magnitude_dropou  (None, 41, 64, 32)        1         \n",
      " t (PruneLowMagnitude)                                           \n",
      "                                                                 \n",
      " prune_low_magnitude_max_po  (None, 20, 32, 32)        1         \n",
      " oling2d (PruneLowMagnitude                                      \n",
      " )                                                               \n",
      "                                                                 \n",
      " prune_low_magnitude_batch_  (None, 20, 32, 32)        129       \n",
      " normalization_1 (PruneLowM                                      \n",
      " agnitude)                                                       \n",
      "                                                                 \n",
      " prune_low_magnitude_dropou  (None, 20, 32, 32)        1         \n",
      " t_1 (PruneLowMagnitude)                                         \n",
      "                                                                 \n",
      " prune_low_magnitude_conv2d  (None, 20, 32, 64)        36930     \n",
      " _1 (PruneLowMagnitude)                                          \n",
      "                                                                 \n",
      " prune_low_magnitude_batch_  (None, 20, 32, 64)        257       \n",
      " normalization_2 (PruneLowM                                      \n",
      " agnitude)                                                       \n",
      "                                                                 \n",
      " prune_low_magnitude_dropou  (None, 20, 32, 64)        1         \n",
      " t_2 (PruneLowMagnitude)                                         \n",
      "                                                                 \n",
      " prune_low_magnitude_max_po  (None, 10, 16, 64)        1         \n",
      " oling2d_1 (PruneLowMagnitu                                      \n",
      " de)                                                             \n",
      "                                                                 \n",
      " prune_low_magnitude_batch_  (None, 10, 16, 64)        257       \n",
      " normalization_3 (PruneLowM                                      \n",
      " agnitude)                                                       \n",
      "                                                                 \n",
      " prune_low_magnitude_dropou  (None, 10, 16, 64)        1         \n",
      " t_3 (PruneLowMagnitude)                                         \n",
      "                                                                 \n",
      " prune_low_magnitude_conv2d  (None, 10, 16, 128)       147586    \n",
      " _2 (PruneLowMagnitude)                                          \n",
      "                                                                 \n",
      " prune_low_magnitude_batch_  (None, 10, 16, 128)       513       \n",
      " normalization_4 (PruneLowM                                      \n",
      " agnitude)                                                       \n",
      "                                                                 \n",
      " prune_low_magnitude_dropou  (None, 10, 16, 128)       1         \n",
      " t_4 (PruneLowMagnitude)                                         \n",
      "                                                                 \n",
      " prune_low_magnitude_max_po  (None, 5, 8, 128)         1         \n",
      " oling2d_2 (PruneLowMagnitu                                      \n",
      " de)                                                             \n",
      "                                                                 \n",
      " prune_low_magnitude_batch_  (None, 5, 8, 128)         513       \n",
      " normalization_5 (PruneLowM                                      \n",
      " agnitude)                                                       \n",
      "                                                                 \n",
      " prune_low_magnitude_flatte  (None, 5120)              1         \n",
      " n (PruneLowMagnitude)                                           \n",
      "                                                                 \n",
      " prune_low_magnitude_dense   (None, 1024)              10486786  \n",
      " (PruneLowMagnitude)                                             \n",
      "                                                                 \n",
      " prune_low_magnitude_batch_  (None, 1024)              4097      \n",
      " normalization_6 (PruneLowM                                      \n",
      " agnitude)                                                       \n",
      "                                                                 \n",
      " prune_low_magnitude_dropou  (None, 1024)              1         \n",
      " t_5 (PruneLowMagnitude)                                         \n",
      "                                                                 \n",
      " prune_low_magnitude_dense_  (None, 512)               1049090   \n",
      " 1 (PruneLowMagnitude)                                           \n",
      "                                                                 \n",
      " prune_low_magnitude_batch_  (None, 512)               2049      \n",
      " normalization_7 (PruneLowM                                      \n",
      " agnitude)                                                       \n",
      "                                                                 \n",
      " prune_low_magnitude_dropou  (None, 512)               1         \n",
      " t_6 (PruneLowMagnitude)                                         \n",
      "                                                                 \n",
      " prune_low_magnitude_dense_  (None, 256)               262402    \n",
      " 2 (PruneLowMagnitude)                                           \n",
      "                                                                 \n",
      " prune_low_magnitude_batch_  (None, 256)               1025      \n",
      " normalization_8 (PruneLowM                                      \n",
      " agnitude)                                                       \n",
      "                                                                 \n",
      " prune_low_magnitude_dropou  (None, 256)               1         \n",
      " t_7 (PruneLowMagnitude)                                         \n",
      "                                                                 \n",
      " prune_low_magnitude_dense_  (None, 128)               65666     \n",
      " 3 (PruneLowMagnitude)                                           \n",
      "                                                                 \n",
      " prune_low_magnitude_batch_  (None, 128)               513       \n",
      " normalization_9 (PruneLowM                                      \n",
      " agnitude)                                                       \n",
      "                                                                 \n",
      " prune_low_magnitude_dropou  (None, 128)               1         \n",
      " t_8 (PruneLowMagnitude)                                         \n",
      "                                                                 \n",
      " prune_low_magnitude_dense_  (None, 64)                16450     \n",
      " 4 (PruneLowMagnitude)                                           \n",
      "                                                                 \n",
      " prune_low_magnitude_batch_  (None, 64)                257       \n",
      " normalization_10 (PruneLow                                      \n",
      " Magnitude)                                                      \n",
      "                                                                 \n",
      " prune_low_magnitude_dropou  (None, 64)                1         \n",
      " t_9 (PruneLowMagnitude)                                         \n",
      "                                                                 \n",
      " prune_low_magnitude_dense_  (None, 4)                 518       \n",
      " 5 (PruneLowMagnitude)                                           \n",
      "                                                                 \n",
      "=================================================================\n",
      "Total params: 12076943 (46.07 MB)\n",
      "Trainable params: 6039556 (23.04 MB)\n",
      "Non-trainable params: 6037387 (23.03 MB)\n",
      "_________________________________________________________________\n",
      "None\n",
      "Epoch 1/200\n",
      "45/45 [==============================] - 6s 65ms/step - loss: 1.5269 - accuracy: 0.7946 - val_loss: 1.4365 - val_accuracy: 0.7819\n",
      "Epoch 2/200\n",
      "45/45 [==============================] - 3s 72ms/step - loss: 1.3571 - accuracy: 0.8336 - val_loss: 1.8327 - val_accuracy: 0.6657\n",
      "Epoch 3/200\n",
      "45/45 [==============================] - 3s 61ms/step - loss: 1.5066 - accuracy: 0.8300 - val_loss: 1.4838 - val_accuracy: 0.8074\n",
      "Epoch 4/200\n",
      "45/45 [==============================] - 3s 74ms/step - loss: 1.4347 - accuracy: 0.8329 - val_loss: 1.5173 - val_accuracy: 0.8074\n",
      "Epoch 5/200\n",
      "45/45 [==============================] - 3s 61ms/step - loss: 1.3237 - accuracy: 0.8378 - val_loss: 1.4772 - val_accuracy: 0.7875\n",
      "Epoch 6/200\n",
      "45/45 [==============================] - 3s 74ms/step - loss: 1.2824 - accuracy: 0.8357 - val_loss: 1.4822 - val_accuracy: 0.7620\n",
      "Epoch 7/200\n",
      "45/45 [==============================] - 3s 62ms/step - loss: 1.3503 - accuracy: 0.8322 - val_loss: 1.6038 - val_accuracy: 0.7195\n",
      "Epoch 8/200\n",
      "45/45 [==============================] - 3s 73ms/step - loss: 1.3135 - accuracy: 0.8371 - val_loss: 1.4959 - val_accuracy: 0.7535\n",
      "Epoch 9/200\n",
      "45/45 [==============================] - 3s 62ms/step - loss: 1.3700 - accuracy: 0.8385 - val_loss: 1.5555 - val_accuracy: 0.7422\n",
      "Epoch 10/200\n",
      "45/45 [==============================] - 3s 62ms/step - loss: 1.4300 - accuracy: 0.8286 - val_loss: 1.6302 - val_accuracy: 0.7309\n",
      "Epoch 11/200\n",
      "45/45 [==============================] - 3s 74ms/step - loss: 1.3918 - accuracy: 0.8421 - val_loss: 1.5525 - val_accuracy: 0.7932\n",
      "Epoch 12/200\n",
      "45/45 [==============================] - 3s 63ms/step - loss: 1.3319 - accuracy: 0.8428 - val_loss: 1.4814 - val_accuracy: 0.7790\n",
      "Epoch 13/200\n",
      "45/45 [==============================] - 3s 74ms/step - loss: 1.2747 - accuracy: 0.8477 - val_loss: 1.6430 - val_accuracy: 0.6827\n",
      "Epoch 14/200\n",
      "45/45 [==============================] - 3s 63ms/step - loss: 1.3602 - accuracy: 0.8343 - val_loss: 1.6076 - val_accuracy: 0.7535\n",
      "Epoch 15/200\n",
      "45/45 [==============================] - 3s 74ms/step - loss: 1.3144 - accuracy: 0.8548 - val_loss: 1.7540 - val_accuracy: 0.7252\n",
      "Epoch 16/200\n",
      "45/45 [==============================] - 3s 64ms/step - loss: 1.4004 - accuracy: 0.8591 - val_loss: 1.6932 - val_accuracy: 0.6856\n",
      "Epoch 17/200\n",
      "45/45 [==============================] - 3s 76ms/step - loss: 1.4591 - accuracy: 0.8329 - val_loss: 1.6486 - val_accuracy: 0.7620\n",
      "Epoch 18/200\n",
      "45/45 [==============================] - 3s 62ms/step - loss: 1.3964 - accuracy: 0.8300 - val_loss: 1.5480 - val_accuracy: 0.7479\n",
      "Epoch 19/200\n",
      "45/45 [==============================] - 3s 62ms/step - loss: 1.3671 - accuracy: 0.8541 - val_loss: 1.7838 - val_accuracy: 0.6657\n",
      "Epoch 20/200\n",
      "45/45 [==============================] - 3s 76ms/step - loss: 1.4595 - accuracy: 0.8605 - val_loss: 1.6238 - val_accuracy: 0.7819\n",
      "Epoch 21/200\n",
      "45/45 [==============================] - 3s 65ms/step - loss: 1.3146 - accuracy: 0.8456 - val_loss: 1.4267 - val_accuracy: 0.8017\n",
      "Epoch 22/200\n",
      "45/45 [==============================] - 3s 75ms/step - loss: 1.3471 - accuracy: 0.8541 - val_loss: 1.5849 - val_accuracy: 0.7507\n",
      "Epoch 23/200\n",
      "45/45 [==============================] - 3s 65ms/step - loss: 1.2844 - accuracy: 0.8824 - val_loss: 1.7945 - val_accuracy: 0.6601\n",
      "Epoch 24/200\n",
      "45/45 [==============================] - 3s 76ms/step - loss: 1.2779 - accuracy: 0.8534 - val_loss: 1.5001 - val_accuracy: 0.7960\n",
      "Epoch 25/200\n",
      "45/45 [==============================] - 3s 64ms/step - loss: 1.2773 - accuracy: 0.8562 - val_loss: 1.5570 - val_accuracy: 0.7365\n",
      "Epoch 26/200\n",
      "45/45 [==============================] - 3s 76ms/step - loss: 1.4243 - accuracy: 0.8435 - val_loss: 1.6332 - val_accuracy: 0.7592\n",
      "Epoch 27/200\n",
      "45/45 [==============================] - 3s 65ms/step - loss: 1.2834 - accuracy: 0.8711 - val_loss: 1.4712 - val_accuracy: 0.7705\n",
      "Epoch 28/200\n",
      "45/45 [==============================] - 3s 77ms/step - loss: 1.4311 - accuracy: 0.8520 - val_loss: 1.7792 - val_accuracy: 0.7479\n",
      "Epoch 29/200\n",
      "45/45 [==============================] - 3s 64ms/step - loss: 1.4200 - accuracy: 0.8584 - val_loss: 1.5128 - val_accuracy: 0.7762\n",
      "Epoch 30/200\n",
      "45/45 [==============================] - 3s 63ms/step - loss: 1.5480 - accuracy: 0.8414 - val_loss: 1.8659 - val_accuracy: 0.6374\n",
      "Epoch 31/200\n",
      "45/45 [==============================] - 3s 75ms/step - loss: 1.4657 - accuracy: 0.8442 - val_loss: 1.5998 - val_accuracy: 0.7847\n",
      "Epoch 32/200\n",
      "45/45 [==============================] - 3s 66ms/step - loss: 1.4106 - accuracy: 0.8584 - val_loss: 1.5036 - val_accuracy: 0.8244\n",
      "Epoch 33/200\n",
      "45/45 [==============================] - 3s 74ms/step - loss: 1.3025 - accuracy: 0.8775 - val_loss: 1.6645 - val_accuracy: 0.7167\n",
      "Epoch 34/200\n",
      "45/45 [==============================] - 3s 63ms/step - loss: 1.3797 - accuracy: 0.8683 - val_loss: 1.6474 - val_accuracy: 0.7734\n",
      "Epoch 35/200\n",
      "45/45 [==============================] - 3s 74ms/step - loss: 1.2640 - accuracy: 0.8739 - val_loss: 1.6184 - val_accuracy: 0.7507\n",
      "Epoch 36/200\n",
      "45/45 [==============================] - 3s 64ms/step - loss: 1.3128 - accuracy: 0.8647 - val_loss: 1.6113 - val_accuracy: 0.7592\n",
      "Epoch 37/200\n",
      "45/45 [==============================] - 3s 73ms/step - loss: 1.2882 - accuracy: 0.8676 - val_loss: 1.5770 - val_accuracy: 0.7479\n",
      "Epoch 38/200\n",
      "45/45 [==============================] - 3s 61ms/step - loss: 1.3577 - accuracy: 0.8612 - val_loss: 1.6344 - val_accuracy: 0.7224\n",
      "Epoch 39/200\n",
      "45/45 [==============================] - 3s 61ms/step - loss: 1.2120 - accuracy: 0.8803 - val_loss: 1.5799 - val_accuracy: 0.7422\n",
      "Epoch 40/200\n",
      "45/45 [==============================] - 3s 73ms/step - loss: 1.5665 - accuracy: 0.8463 - val_loss: 2.1787 - val_accuracy: 0.5779\n",
      "Epoch 41/200\n",
      "45/45 [==============================] - 3s 63ms/step - loss: 1.4065 - accuracy: 0.8562 - val_loss: 1.5986 - val_accuracy: 0.7365\n",
      "Epoch 42/200\n",
      "45/45 [==============================] - 3s 74ms/step - loss: 1.3443 - accuracy: 0.8704 - val_loss: 1.6977 - val_accuracy: 0.7450\n",
      "Epoch 43/200\n",
      "45/45 [==============================] - 3s 66ms/step - loss: 1.6615 - accuracy: 0.8378 - val_loss: 1.9250 - val_accuracy: 0.7167\n",
      "Epoch 44/200\n",
      "45/45 [==============================] - 3s 77ms/step - loss: 1.5088 - accuracy: 0.8612 - val_loss: 1.7588 - val_accuracy: 0.7110\n",
      "Epoch 45/200\n",
      "45/45 [==============================] - 3s 67ms/step - loss: 1.3218 - accuracy: 0.8711 - val_loss: 1.4981 - val_accuracy: 0.7847\n",
      "Epoch 46/200\n",
      "45/45 [==============================] - 3s 73ms/step - loss: 1.2566 - accuracy: 0.8874 - val_loss: 1.4666 - val_accuracy: 0.7705\n",
      "Epoch 47/200\n",
      "45/45 [==============================] - 3s 60ms/step - loss: 1.2366 - accuracy: 0.8640 - val_loss: 1.6287 - val_accuracy: 0.7252\n",
      "Epoch 48/200\n",
      "45/45 [==============================] - 3s 70ms/step - loss: 1.2238 - accuracy: 0.8669 - val_loss: 1.3484 - val_accuracy: 0.8074\n",
      "Epoch 49/200\n",
      "45/45 [==============================] - 3s 60ms/step - loss: 1.2324 - accuracy: 0.8704 - val_loss: 1.4623 - val_accuracy: 0.7904\n",
      "Epoch 50/200\n",
      "45/45 [==============================] - 3s 62ms/step - loss: 1.3203 - accuracy: 0.8725 - val_loss: 1.6651 - val_accuracy: 0.6912\n",
      "Epoch 51/200\n",
      "45/45 [==============================] - 3s 73ms/step - loss: 1.7123 - accuracy: 0.8484 - val_loss: 1.8927 - val_accuracy: 0.7649\n",
      "Epoch 52/200\n",
      "45/45 [==============================] - 3s 61ms/step - loss: 1.5335 - accuracy: 0.8541 - val_loss: 1.7980 - val_accuracy: 0.6856\n",
      "Epoch 53/200\n",
      "45/45 [==============================] - 3s 72ms/step - loss: 1.3149 - accuracy: 0.8789 - val_loss: 1.5727 - val_accuracy: 0.7337\n",
      "Epoch 54/200\n",
      "45/45 [==============================] - 3s 63ms/step - loss: 1.1595 - accuracy: 0.8839 - val_loss: 2.2326 - val_accuracy: 0.4278\n",
      "Epoch 55/200\n",
      "45/45 [==============================] - 3s 74ms/step - loss: 1.5161 - accuracy: 0.8704 - val_loss: 2.3423 - val_accuracy: 0.4958\n",
      "Epoch 56/200\n",
      "45/45 [==============================] - 3s 63ms/step - loss: 1.4778 - accuracy: 0.8661 - val_loss: 1.5959 - val_accuracy: 0.7337\n",
      "Epoch 57/200\n",
      "45/45 [==============================] - 3s 70ms/step - loss: 1.2541 - accuracy: 0.8888 - val_loss: 1.6001 - val_accuracy: 0.7819\n",
      "Epoch 58/200\n",
      "45/45 [==============================] - 3s 61ms/step - loss: 1.2985 - accuracy: 0.8732 - val_loss: 1.4596 - val_accuracy: 0.8244\n",
      "Epoch 59/200\n",
      "45/45 [==============================] - 3s 61ms/step - loss: 1.3247 - accuracy: 0.8739 - val_loss: 1.6724 - val_accuracy: 0.7535\n",
      "Epoch 60/200\n",
      "45/45 [==============================] - 3s 71ms/step - loss: 1.4198 - accuracy: 0.8810 - val_loss: 1.7833 - val_accuracy: 0.7677\n",
      "Epoch 61/200\n",
      "45/45 [==============================] - 3s 61ms/step - loss: 1.6121 - accuracy: 0.8378 - val_loss: 2.3832 - val_accuracy: 0.4844\n",
      "Epoch 62/200\n",
      "45/45 [==============================] - 3s 70ms/step - loss: 2.1227 - accuracy: 0.8357 - val_loss: 2.3459 - val_accuracy: 0.7904\n",
      "56/56 [==============================] - 1s 15ms/step\n",
      "56/56 [==============================] - 1s 15ms/step - loss: 1.5079 - accuracy: 0.8334\n"
>>>>>>> ab8ee321cfc1424b1c628083db6514ac864ca695
     ]
    }
   ],
   "source": [
    "# Abspeichern der Erebnisse jedes Splits für die Confusion-Matrix\n",
    "true_labels = list()\n",
    "pred_labels = list()\n",
    "train_accuracies = list()\n",
    "test_accuracies = list()\n",
    "val_accuracies = list()\n",
    "train_losses = list()\n",
    "val_losses = list()\n",
    "test_losses = list()\n",
    "\n",
    "for train_indezes, test_indezes in kfold.split(X, y):\n",
    "    # wir löschen das Model der letzten Iteration aus dem Cache um RAM zu sparen\n",
    "    K.clear_session()\n",
    "\n",
    "    # Daten splitten\n",
    "    X_train, y_train, X_val, y_val, X_test, y_test = train_val_test_split(train_indezes, test_indezes)\n",
    "\n",
    "    # Resample nur Trainings- und Validationmenge\n",
    "    #X_train, y_train = resample_after_split(X_train, y_train)\n",
    "    #X_val, y_val = resample_after_split(X_val, y_val)\n",
    "\n",
    "    optimizers = create_optimizers(len(X_train))\n",
    "    \n",
    "    # Das Model wird hier compiled, damit wir nach jeder Iteration das alte Model aus dem Cache löschen können Adam(0.001)\n",
    "    model.compile(optimizer=optimizers['adam'], loss=\"sparse_categorical_crossentropy\", metrics=[\"accuracy\"])\n",
    "    print(model.summary())\n",
    "    history = fit_model(model, X_train, y_train, X_val, y_val)\n",
    "\n",
    "    # Für die Confusion Matrix\n",
    "    pred =model.predict(X_test)\n",
    "    predictions = np.argmax(pred, axis=-1)\n",
    "    true_labels.extend(y_test)\n",
    "    pred_labels.extend(predictions)\n",
    "\n",
    "    # Für die Accuracy-Curves\n",
    "    train_accuracies.extend(history.history['accuracy'])\n",
    "    val_accuracies.extend(history.history['val_accuracy'])\n",
    "\n",
    "    # Für die Loss-Curves\n",
    "    train_losses.extend(history.history['loss'])\n",
    "    val_losses.extend(history.history['val_loss'])\n",
    "\n",
    "    loss, accuracy = model.evaluate(X_test, y_test)\n",
    "    test_accuracies.append(accuracy)\n",
    "    test_losses.append(loss)\n"
   ]
  },
  {
   "cell_type": "markdown",
   "metadata": {},
   "source": [
    "#### VGG19 und ResNet50 als Vergleich\n",
    "\n",
    "**Hinweis:** Um die Lesbarkeit zu verbessern stehen die beiden Modelle in eigenen Stellen. Natürlich wäre das Ergebnis noch ein klein bisschen aussagekräftiger, weniger rechenintensiv und RAM sparrender, wenn wir die Splits unseres eigenen Models wiederverwenden würden. Außerdem trainieren wir die Conv-Layer nicht nach, da wir nur einen groben Anhaltspunkt haben wollten und durch die begrenzte Rechenkapazität uns lieber auf einen Erkenntnisgewinn in unseren Nachforschungen fokusieren wollten."
   ]
  },
  {
   "cell_type": "markdown",
   "metadata": {},
   "source": [
    "##### VGG19"
   ]
  },
  {
   "cell_type": "code",
   "execution_count": 17,
   "metadata": {
    "scrolled": true
   },
   "outputs": [],
   "source": [
    "%%script false --no-raise-error\n",
    "early_stopping = EarlyStopping(monitor='val_accuracy', patience=30, min_delta=0.001, start_from_epoch=15, restore_best_weights=True)\n",
    "epochs = 200\n",
    "batch_size = 32\n",
    "\n",
    "vgg19_test_accuracies = list()\n",
    "\n",
    "base_model = VGG19(weights='imagenet', include_top=False, input_shape=image_shape)\n",
    "\n",
    "# Convolution-Teil fixieren\n",
    "for layer in base_model.layers:\n",
    "    layer.trainable = False\n",
    "\n",
    "model = tf.keras.models.Sequential()\n",
    "model.add(base_model)\n",
    "model.add(tf.keras.layers.Flatten())\n",
    "model.add(tf.keras.layers.Dense(256, activation='relu', kernel_regularizer=regularizers.l2(weight_decay_alpha)))\n",
    "model.add(tf.keras.layers.BatchNormalization())\n",
    "model.add(tf.keras.layers.Dropout(dropout_rate))\n",
    "model.add(tf.keras.layers.Dense(128, activation='relu', kernel_regularizer=regularizers.l2(weight_decay_alpha)))\n",
    "model.add(tf.keras.layers.BatchNormalization())\n",
    "model.add(tf.keras.layers.Dropout(dropout_rate))\n",
    "model.add(tf.keras.layers.Dense(6, activation='softmax'))\n",
    "\n",
    "model.compile(optimizer='adam', loss='sparse_categorical_crossentropy', metrics=['accuracy'])\n",
    "\n",
    "for train_indezes, test_indezes in kfold.split(X, y):\n",
    "    K.clear_session()\n",
    "    X_train, y_train = tf.convert_to_tensor(X[train_indezes]), tf.convert_to_tensor(y[train_indezes])\n",
    "    X_test, y_test = tf.convert_to_tensor(X[test_indezes]), tf.convert_to_tensor(y[test_indezes])\n",
    "    history = model.fit(X_train, y_train, batch_size=batch_size, callbacks=[early_stopping], epochs=epochs, validation_split=0.2, verbose=1)\n",
    "    _, accuracy = model.evaluate(X_test, y_test)\n",
    "    vgg19_test_accuracies.append(accuracy)"
   ]
  },
  {
   "cell_type": "markdown",
   "metadata": {},
   "source": [
    "##### ResNet50"
   ]
  },
  {
   "cell_type": "code",
   "execution_count": 18,
   "metadata": {},
   "outputs": [],
   "source": [
    "%%script false --no-raise-error\n",
    "early_stopping = EarlyStopping(monitor='val_accuracy', patience=30, min_delta=0.001, start_from_epoch=15, restore_best_weights=True)\n",
    "epochs = 200\n",
    "batch_size = 32\n",
    "\n",
    "resnet50_test_accuracies = list()\n",
    "\n",
    "base_model = ResNet50(weights='imagenet', include_top=False, input_shape=image_shape)\n",
    "\n",
    "# Convolution-Teil fixieren\n",
    "for layer in base_model.layers:\n",
    "    layer.trainable = False\n",
    "\n",
    "model = tf.keras.layers.Sequential()\n",
    "model.add(base_model)\n",
    "model.add(tf.keras.layers.Flatten())\n",
    "model.add(tf.keras.layers.Dense(256, activation='relu', kernel_regularizer=regularizers.l2(weight_decay_alpha)))\n",
    "model.add(tf.keras.layers.BatchNormalization())\n",
    "model.add(tf.keras.layers.Dropout(dropout_rate))\n",
    "model.add(tf.keras.layers.Dense(128, activation='relu', kernel_regularizer=regularizers.l2(weight_decay_alpha)))\n",
    "model.add(tf.keras.layers.BatchNormalization())\n",
    "model.add(tf.keras.layers.Dropout(dropout_rate))\n",
    "model.add(tf.keras.layers.Dense(6, activation='softmax'))\n",
    "\n",
    "model.compile(optimizer='adam', loss='sparse_categorical_crossentropy', metrics=['accuracy'])\n",
    "\n",
    "for train_indezes, test_indezes in kfold.split(X, y):\n",
    "    K.clear_session()\n",
    "    X_train, y_train = tf.convert_to_tensor(X[train_indezes]), tf.convert_to_tensor(y[train_indezes])\n",
    "    X_test, y_test = tf.convert_to_tensor(X[test_indezes]), tf.convert_to_tensor(y[test_indezes])\n",
    "    history = model.fit(X_train, y_train, batch_size=batch_size, callbacks=[early_stopping], epochs=epochs, validation_split=0.2, verbose=1)\n",
    "    _, accuracy = model.evaluate(X_test, y_test)\n",
    "    resnet50_test_accuracies.append(accuracy)"
   ]
  },
  {
   "cell_type": "markdown",
   "metadata": {},
   "source": [
    "#### Confusion Matrix\n",
    "\n",
    "Man kann klar erkennen, je weniger Datenpunkte vorhanden desto schlechter ist die Klassifikation. Leider konnten wir, wie bereits erwähnt ohne Domänenwissen und den eingeschränkten Mitteln das Problem nicht lösen."
   ]
  },
  {
   "cell_type": "code",
   "execution_count": 19,
   "metadata": {},
   "outputs": [
    {
     "data": {
      "image/png": "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",
      "text/plain": [
       "<Figure size 800x600 with 2 Axes>"
      ]
     },
     "metadata": {},
     "output_type": "display_data"
    }
   ],
   "source": [
    "confusion_matrix = confusion_matrix(true_labels, pred_labels)\n",
    "fig, ax = plt.subplots(figsize=(8, 6))\n",
    "cm_display = ConfusionMatrixDisplay(confusion_matrix, display_labels=classes)\n",
    "cm_display.plot(ax=ax, cmap=plt.cm.Blues)\n",
    "plt.title('Confusion Matrix')\n",
    "plt.xlabel('Predicted Label')\n",
    "plt.ylabel('True Label')\n",
    "plt.show()"
   ]
  },
  {
   "cell_type": "markdown",
   "metadata": {},
   "source": [
    "#### Trainings- und Validationkurve plotten"
   ]
  },
  {
   "cell_type": "code",
   "execution_count": 20,
   "metadata": {},
   "outputs": [
    {
     "data": {
      "image/png": "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",
      "text/plain": [
       "<Figure size 1200x400 with 2 Axes>"
      ]
     },
     "metadata": {},
     "output_type": "display_data"
    }
   ],
   "source": [
    "epochs = len(train_losses)\n",
    "plt.figure(figsize=(12, 4))\n",
    "\n",
    "# Plotting Loss curves\n",
    "plt.subplot(1, 2, 1)\n",
    "plt.plot(range(1, epochs + 1), train_losses, label='Training Loss')\n",
    "plt.plot(range(1, epochs + 1), val_losses, label='Validation Loss')\n",
    "plt.title('Training and Validation Loss')\n",
    "plt.xlabel('Epochs')\n",
    "plt.ylabel('Loss')\n",
    "plt.legend()\n",
    "\n",
    "# Plotting Accuracy curves\n",
    "plt.subplot(1, 2, 2)\n",
    "plt.plot(range(1, epochs + 1), train_accuracies, label='Training Accuracy')\n",
    "plt.plot(range(1, epochs + 1), val_accuracies, label='Validation Accuracy')\n",
    "plt.title('Training and Validation Accuracy')\n",
    "plt.xlabel('Epochs')\n",
    "plt.ylabel('Accuracy')\n",
    "plt.legend()\n",
    "\n",
    "plt.tight_layout()\n",
    "plt.savefig(\"./cnn_files/loss_and_accuraccy.png\")\n",
    "plt.show()"
   ]
  },
  {
   "cell_type": "markdown",
   "metadata": {},
   "source": [
    "#### Ergebnisse"
   ]
  },
  {
   "cell_type": "markdown",
   "metadata": {},
   "source": [
    "|Durchführung|Avg. Test Acc|\n",
    "|:-|-:|\n",
    "|**VGG19**|\n",
    "| Kein Resample, top 6 classes (> 60), vgg19| 82% |\n",
    "| Kein Resample, top 4 classes (>200), vgg19| 83% |\n",
    "| Kein Resample, top 2 classes (>500), vgg19| 91% |\n",
    "|---------------|\n",
    "|**ResNet50**|\n",
    "| Kein Resample, top 6 classes (> 60), resNet50| 70% |\n",
    "| Kein Resample, top 4 classes (>200), resNet50| 74% |\n",
    "| Kein Resample, top 2 classes (>500), resNet50| 84% |\n",
    "|---------------|\n",
    "|**Unser Modell**|\n",
    "| Kein Resample, top 6 classes (> 60), cnn  | 83% |\n",
    "| Kein Resample, top 4 classes (>200), cnn  | 86% |\n",
    "| Kein Resample, top 2 classes (>500), cnn  | 89% |"
   ]
  },
  {
   "cell_type": "code",
   "execution_count": 21,
   "metadata": {},
   "outputs": [
    {
     "name": "stdout",
     "output_type": "stream",
     "text": [
      "Unser Modell:\n",
      "Avg. Val Accuracy: 0.6867721113893721\n",
      "Best Val Accuracy: 0.8243626356124878\n",
      "Avg. Test Accuracy: 0.8220963180065155\n",
      "Best Test Accuracy: 0.8334277868270874\n",
      "Avg. Test Loss: 1.514980673789978\n"
     ]
    }
   ],
   "source": [
    "#print(f\"VGG19 Avg. test accuracy: {sum(vgg19_test_accuracies) / len(vgg19_test_accuracies)}\")\n",
    "#print(f\"ResNet50 Avg. test accuracy: {sum(vgg19_test_accuracies) / len(vgg19_test_accuracies)}\")\n",
    "\n",
    "print(\"Unser Modell:\")\n",
    "print(f\"Avg. Val Accuracy: {sum(val_accuracies) / len(val_accuracies)}\")\n",
    "print(f\"Best Val Accuracy: {max(val_accuracies)}\")\n",
    "print(f\"Avg. Test Accuracy: {sum(test_accuracies) / len(test_accuracies)}\")\n",
    "print(f\"Best Test Accuracy: {max(test_accuracies)}\")\n",
    "print(f\"Avg. Test Loss: {sum(test_losses) / len(test_losses)}\")"
   ]
  },
  {
   "cell_type": "code",
   "execution_count": null,
   "metadata": {},
   "outputs": [],
   "source": []
  }
 ],
 "metadata": {
  "kernelspec": {
   "display_name": "Python 3 (ipykernel)",
   "language": "python",
   "name": "python3"
  },
  "language_info": {
   "codemirror_mode": {
    "name": "ipython",
    "version": 3
   },
   "file_extension": ".py",
   "mimetype": "text/x-python",
   "name": "python",
   "nbconvert_exporter": "python",
   "pygments_lexer": "ipython3",
   "version": "3.11.6"
  }
 },
 "nbformat": 4,
 "nbformat_minor": 4
}

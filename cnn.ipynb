{
 "cells": [
  {
   "cell_type": "markdown",
   "metadata": {},
   "source": [
    "# CNN Model"
   ]
  },
  {
   "cell_type": "markdown",
   "metadata": {},
   "source": [
    "#### Imports"
   ]
  },
  {
   "cell_type": "code",
   "execution_count": 1,
   "metadata": {},
   "outputs": [],
   "source": [
    "import pandas as pd\n",
    "import numpy as np\n",
    "import matplotlib.pyplot as plt\n",
    "import tensorflow as tf\n",
    "from tensorflow.keras.callbacks import EarlyStopping\n",
    "from keras import backend as K \n",
    "from sklearn.model_selection import StratifiedKFold\n",
    "from tensorflow.keras import regularizers\n",
    "import tensorflow_model_optimization as tfmot\n",
    "from sklearn.metrics import confusion_matrix, ConfusionMatrixDisplay\n",
    "import json\n",
    "from sklearn.model_selection import train_test_split\n",
    "from tensorflow.keras.applications import VGG19\n",
    "from tensorflow.keras.applications.resnet50 import ResNet50\n",
    "from tensorflow.keras.optimizers.legacy import Adam\n",
    "from tensorflow.keras.optimizers.legacy import SGD\n",
    "from tensorflow.keras.optimizers.experimental import Adagrad\n",
    "from tensorflow.keras.optimizers.schedules import ExponentialDecay"
   ]
  },
  {
   "cell_type": "markdown",
   "metadata": {},
   "source": [
    "#### GPU deaktivieren"
   ]
  },
  {
   "cell_type": "markdown",
   "metadata": {},
   "source": [
    "**Hinweis:** Bei M1/M2-Chips wird standardmäßig die GPU verwendet. Daher muss es für diese Chips einkommentiert werden, da diese Dropout-Layer mit GPU nicht gut handeln können"
   ]
  },
  {
   "cell_type": "code",
   "execution_count": 2,
   "metadata": {},
   "outputs": [],
   "source": [
    "tf.config.set_visible_devices([], 'GPU')"
   ]
  },
  {
   "cell_type": "markdown",
   "metadata": {},
   "source": [
    "#### Daten einlesen"
   ]
  },
  {
   "cell_type": "markdown",
   "metadata": {},
   "source": [
    "**Hinweis:** Die Daten wurden in einer pkl-Datei gespeichert, um nicht jedes mal die Vorverarbeitung durchführen zu müssen und unkompliziert zwischen den Modelklassen hin- und her wechseln zu können"
   ]
  },
  {
   "cell_type": "code",
   "execution_count": 3,
   "metadata": {},
   "outputs": [],
   "source": [
    "data = pd.read_pickle('./data/images_df_numerical.pkl')\n",
    "classes = data[\"Species\"].unique()\n",
    "number_of_classes = classes.size\n",
    "X, y = data['data'], data['Species']\n",
    "# Wir hatten massive Probleme mit der Begrenztheit unseres RAMs, weshalb wir versucht haben die Usage an mehreren Stellen zu reduzieren\n",
    "X, y = np.stack(X).astype(np.uint8), y.to_numpy().astype(np.uint8)\n"
   ]
  },
  {
   "cell_type": "markdown",
   "metadata": {},
   "source": [
    "#### Normalisierung der Daten"
   ]
  },
  {
   "cell_type": "markdown",
   "metadata": {},
   "source": [
    "Daten werden auf in ein Intervall von [0, 1] gebracht, dadurch wird die Konvergenzgeschwindigkeit verbessert"
   ]
  },
  {
   "cell_type": "code",
   "execution_count": 4,
   "metadata": {},
   "outputs": [],
   "source": [
    "X = X / 255."
   ]
  },
  {
   "cell_type": "markdown",
   "metadata": {},
   "source": [
    "#### Seed setzen"
   ]
  },
  {
   "cell_type": "markdown",
   "metadata": {},
   "source": [
    "Um die Nachvollziehbarkeit zu erhöhen setzen wir den Seed immer auf den selben Startwert"
   ]
  },
  {
   "cell_type": "code",
   "execution_count": 5,
   "metadata": {},
   "outputs": [],
   "source": [
    "tf.keras.utils.set_random_seed(1)"
   ]
  },
  {
   "cell_type": "markdown",
   "metadata": {},
   "source": [
    "Bei Verwendung einer GPU macht es die Operationen so deterministisch wie möglich\n",
    "\n",
    "**Hinweis:** Diese Option vermindert die Performance"
   ]
  },
  {
   "cell_type": "code",
   "execution_count": 6,
   "metadata": {},
   "outputs": [],
   "source": [
    "tf.config.experimental.enable_op_determinism()"
   ]
  },
  {
   "cell_type": "markdown",
   "metadata": {},
   "source": [
    "#### Bilder reshapen"
   ]
  },
  {
   "cell_type": "code",
   "execution_count": 7,
   "metadata": {},
   "outputs": [],
   "source": [
    "image_size = X[0].size\n",
    "samples = X.size\n",
    "with open(\"./data/meta.json\",\"r\") as file:  # Shape der Bilder nach dem resizen aus dem data_prep notebook\n",
    "    image_meta = json.load(file) \n",
    "image_shape = (image_meta['h'],image_meta['w'],image_meta['c'])"
   ]
  },
  {
   "cell_type": "code",
   "execution_count": 8,
   "metadata": {},
   "outputs": [
    {
     "name": "stdout",
     "output_type": "stream",
     "text": [
      "Image has shape: (165, 256, 3)\n"
     ]
    }
   ],
   "source": [
    "X = X.reshape((-1,) + image_shape)\n",
    "print(f\"Image has shape: {image_shape}\")"
   ]
  },
  {
   "cell_type": "markdown",
   "metadata": {},
   "source": [
    "#### k-Fold-Cross-Validation"
   ]
  },
  {
   "cell_type": "markdown",
   "metadata": {},
   "source": [
    "Wir benutzen 10-Fold-Cross-Validation, um das Ergebnis weniger vom gewählten Split abhängig zu machen und somit das Ergebnis zu stabilisieren. Statified stellt sicher, dass die Klasseneinteilung beibehalten wird. Dies ist vor allem ohne Resampling interessant, da wir extrem ungleich verteilte Klassen haben."
   ]
  },
  {
   "cell_type": "code",
   "execution_count": 9,
   "metadata": {},
   "outputs": [],
   "source": [
    "kfold = StratifiedKFold(n_splits=2, shuffle=True)"
   ]
  },
  {
   "cell_type": "markdown",
   "metadata": {},
   "source": [
    "#### Modell"
   ]
  },
  {
   "cell_type": "markdown",
   "metadata": {},
   "source": [
    "Bei den Hyperparametern haben wir Grundsätzlich Standardwerte aus Papern o. Ä. benutzt und dann je nach Ergebnis empirisch angepasst"
   ]
  },
  {
   "cell_type": "markdown",
   "metadata": {},
   "source": [
    "[Modelstruktur](https://www.kaggle.com/code/christianlillelund/classify-mnist-audio-using-spectrograms-keras-cnn)  \n",
    "[Epochs](https://doi.org/10.1016/j.icte.2020.04.010)  \n",
    "[Batch-Size und Learning Rate](https://elar.khmnu.edu.ua/items/a5d0d900-449d-4f3d-b800-c7200084384f)\n",
    "[Dropout-Rate](https://www.jmlr.org/papers/volume15/srivastava14a/srivastava14a.pdf)  \n",
    "[Pooling-Size](https://cs231n.github.io/convolutional-networks/#pool)  \n",
    "Weigh_decay_alpha: aus der Vorlesung\n",
    "Padding: Wir wollen nicht, dass für jede Schicht das Bild kleiner wird, da sonst das Innere des Bildes viel stärker gewichtet werden würde\n",
    "Batch Normalization: Normalisiert die Daten nach jedem Layer\n",
    "Relu: Da es sich um Bilder handelt und sie somit nur im positiven Wertebereich sind"
   ]
  },
  {
   "cell_type": "code",
   "execution_count": 10,
   "metadata": {},
   "outputs": [],
   "source": [
    "# Stoppt wenn bei 30 Epochen die Validation-Accuracy nicht um mehr als 0.001 besser wird\n",
    "early_stopping = EarlyStopping(monitor='val_accuracy', patience=30, min_delta=0.01, start_from_epoch=15, restore_best_weights=True)\n",
    "epochs = 200\n",
    "batch_size = 32\n",
    "dropout_rate = 0.2\n",
    "weight_decay_alpha = 0.01\n",
    "\n",
    "def create_model():\n",
    "    model = tf.keras.models.Sequential()\n",
    "    model.add(tf.keras.layers.Input(shape=image_shape,name=\"aaa\"))\n",
    "    model.add(tf.keras.layers.Conv2D(32, 3, strides=2, padding='same', activation='relu', kernel_regularizer=regularizers.l2(weight_decay_alpha)))\n",
    "    model.add(tf.keras.layers.BatchNormalization())\n",
    "    model.add(tf.keras.layers.Dropout(dropout_rate))\n",
    "    model.add(tf.keras.layers.MaxPooling2D(pool_size=(2, 2)))\n",
    "    model.add(tf.keras.layers.BatchNormalization())\n",
    "    model.add(tf.keras.layers.Dropout(dropout_rate))\n",
    "    model.add(tf.keras.layers.Conv2D(64, 3, padding='same', activation='relu', kernel_regularizer=regularizers.l2(weight_decay_alpha)))\n",
    "    model.add(tf.keras.layers.BatchNormalization())\n",
    "    model.add(tf.keras.layers.Dropout(dropout_rate))\n",
    "    model.add(tf.keras.layers.MaxPooling2D(pool_size=(2, 2)))\n",
    "    model.add(tf.keras.layers.BatchNormalization())\n",
    "    model.add(tf.keras.layers.Dropout(dropout_rate))\n",
    "    model.add(tf.keras.layers.Conv2D(128, 3, padding='same', activation='relu', kernel_regularizer=regularizers.l2(weight_decay_alpha)))\n",
    "    model.add(tf.keras.layers.BatchNormalization())\n",
    "    model.add(tf.keras.layers.Dropout(dropout_rate))\n",
    "    model.add(tf.keras.layers.MaxPooling2D(pool_size=(2, 2)))\n",
    "    model.add(tf.keras.layers.BatchNormalization())\n",
    "    model.add(tf.keras.layers.Flatten())\n",
    "    model.add(tf.keras.layers.Dense(256, activation='relu', kernel_regularizer=regularizers.l2(weight_decay_alpha)))\n",
    "    model.add(tf.keras.layers.BatchNormalization())\n",
    "    model.add(tf.keras.layers.Dropout(dropout_rate))\n",
    "    model.add(tf.keras.layers.Dense(128, activation='relu', kernel_regularizer=regularizers.l2(weight_decay_alpha)))\n",
    "    model.add(tf.keras.layers.BatchNormalization())\n",
    "    model.add(tf.keras.layers.Dropout(dropout_rate))\n",
    "    model.add(tf.keras.layers.Dense(number_of_classes, activation='softmax'))\n",
    "\n",
    "    return model"
   ]
  },
  {
   "cell_type": "markdown",
   "metadata": {},
   "source": [
    "#### Optimizierwahl"
   ]
  },
  {
   "cell_type": "markdown",
   "metadata": {},
   "source": [
    "Wir haben verschiedene Optimizier mit und ohne ExpoentialLRDecay ausprobiert:\n",
    "\n",
    "|Durchführung|Avg. Test Acc|\n",
    "|:-|-:|\n",
    "|**SGD**| 77% |\n",
    "|**SGD_exp**| 72% |\n",
    "|**ADAM**|79%|\n",
    "|**ADAM_exp**| 74% |"
   ]
  },
  {
   "cell_type": "code",
   "execution_count": 11,
   "metadata": {},
   "outputs": [],
   "source": [
    "def create_optimizers(num_samples) -> dict:\n",
    "    s = 130 * num_samples // 32 # number of steps in 130 epochs (batch size = 32)\n",
    "    exp_decay_sgd = ExponentialDecay(0.01, s, 0.1)\n",
    "    exp_adam = ExponentialDecay(0.01, s, 0.95, staircase=True)\n",
    "\n",
    "    momentum = 0.99\n",
    "    sgd_exp = SGD(exp_decay_sgd, momentum=momentum)\n",
    "    adam_exp = Adam(exp_adam)\n",
    "\n",
    "    sgd = SGD(0.001, momentum=momentum)\n",
    "    adam = Adam(0.001)\n",
    "\n",
    "    return {\"sgd_exp\": sgd_exp, \"adam_exp\": adam_exp, \"sgd\": sgd, \"adam\": adam}"
   ]
  },
  {
   "cell_type": "markdown",
   "metadata": {},
   "source": [
    "#### Model Fit Funktion"
   ]
  },
  {
   "cell_type": "code",
   "execution_count": 12,
   "metadata": {},
   "outputs": [],
   "source": [
    "def fit_model(model, X_train, y_train, X_val=None, y_val=None):\n",
    "    # Das Model macht selbst den Validation Split\n",
    "    if X_val is None or y_val is None:\n",
    "        history = model.fit(\n",
    "            X_train,\n",
    "            y_train,\n",
    "            epochs=epochs,\n",
    "            batch_size=batch_size,\n",
    "            callbacks=[early_stopping, tfmot.sparsity.keras.UpdatePruningStep()],\n",
    "            validation_split=0.2,\n",
    "            verbose=1)\n",
    "    # Wir übergeben dem Model Validation Daten\n",
    "    elif X_val is not None and y_val is not None:\n",
    "        history = model.fit(\n",
    "            X_train,\n",
    "            y_train,\n",
    "            epochs=epochs,\n",
    "            batch_size=batch_size,\n",
    "            callbacks=[early_stopping, tfmot.sparsity.keras.UpdatePruningStep()],\n",
    "            validation_data=(X_val,y_val),\n",
    "            verbose=1)\n",
    "    return history"
   ]
  },
  {
   "cell_type": "markdown",
   "metadata": {},
   "source": [
    "#### Model Pruning"
   ]
  },
  {
   "cell_type": "markdown",
   "metadata": {},
   "source": [
    "Größtenteils von hier übernommen und hat gut funktioniert: https://towardsdatascience.com/model-pruning-in-deep-neural-networks-using-the-tensorflow-api-7cf52bdd32"
   ]
  },
  {
   "cell_type": "code",
   "execution_count": 13,
   "metadata": {},
   "outputs": [],
   "source": [
    "end_step = np.ceil(X.shape[0] / batch_size).astype(np.int32) * epochs\n",
    "\n",
    "pruning_params = {\n",
    "      # Inital: 50% sparsity (50% zeros in weights) und Final: 80% Sparsity\n",
    "      'pruning_schedule': tfmot.sparsity.keras.PolynomialDecay(initial_sparsity=0.50,\n",
    "                                                                final_sparsity=0.80,\n",
    "                                                                begin_step=0,\n",
    "                                                                end_step=end_step)}\n",
    "\n",
    "model = create_model()\n",
    "model = tfmot.sparsity.keras.prune_low_magnitude(model, **pruning_params)"
   ]
  },
  {
   "cell_type": "markdown",
   "metadata": {},
   "source": [
    "#### Split-Funktion"
   ]
  },
  {
   "cell_type": "code",
   "execution_count": 14,
   "metadata": {},
   "outputs": [],
   "source": [
    "def train_val_test_split(train_indezes, test_indezes):\n",
    "    X_train, X_val, y_train, y_val = train_test_split(X[train_indezes], y[train_indezes], test_size=0.2,stratify=y[train_indezes], random_state=42)\n",
    "    X_test, y_test = X[test_indezes], y[test_indezes]\n",
    "    \n",
    "    # Das speichern als Tensor spart RAM\n",
    "    return (tf.convert_to_tensor(X_train),\n",
    "            tf.convert_to_tensor(y_train), \n",
    "            tf.convert_to_tensor(X_val),\n",
    "            tf.convert_to_tensor(y_val),\n",
    "            tf.convert_to_tensor(X_test),\n",
    "            tf.convert_to_tensor(y_test))"
   ]
  },
  {
   "cell_type": "markdown",
   "metadata": {},
   "source": [
    "#### Tatsächliches Training"
   ]
  },
  {
   "cell_type": "code",
   "execution_count": 15,
   "metadata": {
    "scrolled": true
   },
   "outputs": [
    {
     "name": "stdout",
     "output_type": "stream",
     "text": [
      "Epoch 1/200\n",
      "47/47 [==============================] - 12s 181ms/step - loss: 9.7844 - accuracy: 0.4328 - val_loss: 9.0234 - val_accuracy: 0.5657\n",
      "Epoch 2/200\n",
      "47/47 [==============================] - 8s 166ms/step - loss: 6.9064 - accuracy: 0.6862 - val_loss: 6.7717 - val_accuracy: 0.5657\n",
      "Epoch 3/200\n",
      "47/47 [==============================] - 9s 184ms/step - loss: 4.7593 - accuracy: 0.7513 - val_loss: 5.0974 - val_accuracy: 0.0777\n",
      "Epoch 4/200\n",
      "47/47 [==============================] - 8s 173ms/step - loss: 3.6521 - accuracy: 0.7970 - val_loss: 4.3661 - val_accuracy: 0.5657\n",
      "Epoch 5/200\n",
      "47/47 [==============================] - 9s 192ms/step - loss: 3.2997 - accuracy: 0.8011 - val_loss: 5.3254 - val_accuracy: 0.0322\n",
      "Epoch 6/200\n",
      "47/47 [==============================] - 8s 178ms/step - loss: 3.0662 - accuracy: 0.8125 - val_loss: 3.6830 - val_accuracy: 0.5657\n",
      "Epoch 7/200\n",
      "47/47 [==============================] - 9s 186ms/step - loss: 2.9897 - accuracy: 0.8233 - val_loss: 3.7687 - val_accuracy: 0.5657\n",
      "Epoch 8/200\n",
      "47/47 [==============================] - 8s 164ms/step - loss: 2.9070 - accuracy: 0.8306 - val_loss: 3.5531 - val_accuracy: 0.5657\n",
      "Epoch 9/200\n",
      "47/47 [==============================] - 8s 177ms/step - loss: 2.6492 - accuracy: 0.8441 - val_loss: 4.0291 - val_accuracy: 0.4397\n",
      "Epoch 10/200\n",
      "47/47 [==============================] - 8s 163ms/step - loss: 2.5854 - accuracy: 0.8394 - val_loss: 6.3892 - val_accuracy: 0.0483\n",
      "Epoch 11/200\n",
      "47/47 [==============================] - 8s 180ms/step - loss: 2.6720 - accuracy: 0.8394 - val_loss: 3.8716 - val_accuracy: 0.3539\n",
      "Epoch 12/200\n",
      "47/47 [==============================] - 8s 175ms/step - loss: 2.7461 - accuracy: 0.7937 - val_loss: 6.7075 - val_accuracy: 0.2895\n",
      "Epoch 13/200\n",
      "47/47 [==============================] - 9s 189ms/step - loss: 2.7097 - accuracy: 0.8253 - val_loss: 3.3540 - val_accuracy: 0.4826\n",
      "Epoch 14/200\n",
      "47/47 [==============================] - 8s 170ms/step - loss: 2.4336 - accuracy: 0.8401 - val_loss: 2.9864 - val_accuracy: 0.5469\n",
      "Epoch 15/200\n",
      "47/47 [==============================] - 8s 178ms/step - loss: 2.3612 - accuracy: 0.8427 - val_loss: 2.9895 - val_accuracy: 0.6917\n",
      "Epoch 16/200\n",
      "47/47 [==============================] - 8s 164ms/step - loss: 2.3116 - accuracy: 0.8562 - val_loss: 2.5855 - val_accuracy: 0.6997\n",
      "Epoch 17/200\n",
      "47/47 [==============================] - 8s 165ms/step - loss: 2.1144 - accuracy: 0.8716 - val_loss: 2.6188 - val_accuracy: 0.7292\n",
      "Epoch 18/200\n",
      "47/47 [==============================] - 8s 161ms/step - loss: 2.0957 - accuracy: 0.8817 - val_loss: 3.0555 - val_accuracy: 0.6354\n",
      "Epoch 19/200\n",
      "47/47 [==============================] - 8s 170ms/step - loss: 2.2551 - accuracy: 0.8595 - val_loss: 3.2737 - val_accuracy: 0.5013\n",
      "Epoch 20/200\n",
      "47/47 [==============================] - 9s 189ms/step - loss: 2.3639 - accuracy: 0.8723 - val_loss: 3.6236 - val_accuracy: 0.5335\n",
      "Epoch 21/200\n",
      "47/47 [==============================] - 8s 176ms/step - loss: 2.1982 - accuracy: 0.8723 - val_loss: 2.5350 - val_accuracy: 0.7239\n",
      "Epoch 22/200\n",
      "47/47 [==============================] - 9s 189ms/step - loss: 2.0650 - accuracy: 0.8985 - val_loss: 2.8483 - val_accuracy: 0.6059\n",
      "Epoch 23/200\n",
      "47/47 [==============================] - 8s 170ms/step - loss: 1.9757 - accuracy: 0.8965 - val_loss: 2.3582 - val_accuracy: 0.7641\n",
      "Epoch 24/200\n",
      "47/47 [==============================] - 8s 178ms/step - loss: 2.0932 - accuracy: 0.8871 - val_loss: 2.8615 - val_accuracy: 0.7587\n",
      "Epoch 25/200\n",
      "47/47 [==============================] - 8s 164ms/step - loss: 2.1004 - accuracy: 0.8905 - val_loss: 2.9364 - val_accuracy: 0.5657\n",
      "Epoch 26/200\n",
      "47/47 [==============================] - 8s 175ms/step - loss: 2.2463 - accuracy: 0.8931 - val_loss: 2.6722 - val_accuracy: 0.7453\n",
      "Epoch 27/200\n",
      "47/47 [==============================] - 8s 171ms/step - loss: 2.1486 - accuracy: 0.8938 - val_loss: 2.8846 - val_accuracy: 0.6434\n",
      "Epoch 28/200\n",
      "47/47 [==============================] - 9s 186ms/step - loss: 2.0214 - accuracy: 0.9066 - val_loss: 2.5503 - val_accuracy: 0.7373\n",
      "Epoch 29/200\n",
      "47/47 [==============================] - 8s 170ms/step - loss: 1.8768 - accuracy: 0.9173 - val_loss: 2.7387 - val_accuracy: 0.6354\n",
      "Epoch 30/200\n",
      "47/47 [==============================] - 9s 186ms/step - loss: 1.8194 - accuracy: 0.9012 - val_loss: 2.9387 - val_accuracy: 0.6676\n",
      "Epoch 31/200\n",
      "47/47 [==============================] - 8s 165ms/step - loss: 2.1303 - accuracy: 0.8851 - val_loss: 2.8407 - val_accuracy: 0.7078\n",
      "Epoch 32/200\n",
      "47/47 [==============================] - 8s 178ms/step - loss: 2.0099 - accuracy: 0.9099 - val_loss: 3.4110 - val_accuracy: 0.5442\n",
      "Epoch 33/200\n",
      "47/47 [==============================] - 8s 160ms/step - loss: 1.9953 - accuracy: 0.8999 - val_loss: 2.7479 - val_accuracy: 0.7024\n",
      "Epoch 34/200\n",
      "47/47 [==============================] - 8s 169ms/step - loss: 1.8497 - accuracy: 0.9187 - val_loss: 2.6776 - val_accuracy: 0.6005\n",
      "Epoch 35/200\n",
      "47/47 [==============================] - 9s 185ms/step - loss: 1.7808 - accuracy: 0.9147 - val_loss: 2.2739 - val_accuracy: 0.8043\n",
      "Epoch 36/200\n",
      "47/47 [==============================] - 8s 177ms/step - loss: 1.8185 - accuracy: 0.9140 - val_loss: 2.5082 - val_accuracy: 0.7453\n",
      "Epoch 37/200\n",
      "47/47 [==============================] - 9s 185ms/step - loss: 1.9746 - accuracy: 0.9133 - val_loss: 2.8213 - val_accuracy: 0.7265\n",
      "Epoch 38/200\n",
      "47/47 [==============================] - 8s 169ms/step - loss: 1.8979 - accuracy: 0.9267 - val_loss: 2.6117 - val_accuracy: 0.6756\n",
      "Epoch 39/200\n",
      "47/47 [==============================] - 9s 197ms/step - loss: 1.7761 - accuracy: 0.9227 - val_loss: 2.4330 - val_accuracy: 0.7614\n",
      "Epoch 40/200\n",
      "47/47 [==============================] - 8s 180ms/step - loss: 1.7868 - accuracy: 0.9099 - val_loss: 5.6909 - val_accuracy: 0.4879\n",
      "Epoch 41/200\n",
      "47/47 [==============================] - 8s 177ms/step - loss: 1.8658 - accuracy: 0.9039 - val_loss: 2.5349 - val_accuracy: 0.7373\n",
      "Epoch 42/200\n",
      "47/47 [==============================] - 8s 177ms/step - loss: 1.7846 - accuracy: 0.9227 - val_loss: 3.2370 - val_accuracy: 0.5657\n",
      "Epoch 43/200\n",
      "47/47 [==============================] - 9s 187ms/step - loss: 1.7015 - accuracy: 0.9214 - val_loss: 2.7871 - val_accuracy: 0.6783\n",
      "Epoch 44/200\n",
      "47/47 [==============================] - 8s 170ms/step - loss: 1.8349 - accuracy: 0.9220 - val_loss: 3.2351 - val_accuracy: 0.6300\n",
      "Epoch 45/200\n",
      "47/47 [==============================] - 9s 182ms/step - loss: 1.8689 - accuracy: 0.9328 - val_loss: 3.1169 - val_accuracy: 0.6568\n",
      "Epoch 46/200\n",
      "47/47 [==============================] - 8s 165ms/step - loss: 1.9802 - accuracy: 0.9106 - val_loss: 2.7704 - val_accuracy: 0.6622\n",
      "Epoch 47/200\n",
      "47/47 [==============================] - 8s 178ms/step - loss: 1.8855 - accuracy: 0.9120 - val_loss: 3.0533 - val_accuracy: 0.6542\n",
      "Epoch 48/200\n",
      "47/47 [==============================] - 8s 164ms/step - loss: 1.8252 - accuracy: 0.9167 - val_loss: 2.7376 - val_accuracy: 0.6810\n",
      "Epoch 49/200\n",
      "47/47 [==============================] - 8s 177ms/step - loss: 1.6074 - accuracy: 0.9328 - val_loss: 2.4883 - val_accuracy: 0.6997\n",
      "Epoch 50/200\n",
      "47/47 [==============================] - 8s 174ms/step - loss: 1.7168 - accuracy: 0.9308 - val_loss: 2.6171 - val_accuracy: 0.7105\n",
      "Epoch 51/200\n",
      "47/47 [==============================] - 8s 174ms/step - loss: 1.6883 - accuracy: 0.9173 - val_loss: 2.4719 - val_accuracy: 0.7212\n",
      "Epoch 52/200\n",
      "47/47 [==============================] - 9s 187ms/step - loss: 1.5864 - accuracy: 0.9388 - val_loss: 2.6446 - val_accuracy: 0.5871\n",
      "Epoch 53/200\n",
      "47/47 [==============================] - 8s 178ms/step - loss: 1.4228 - accuracy: 0.9523 - val_loss: 2.2307 - val_accuracy: 0.7292\n",
      "Epoch 54/200\n",
      "47/47 [==============================] - 9s 193ms/step - loss: 1.5744 - accuracy: 0.9261 - val_loss: 2.5384 - val_accuracy: 0.7265\n",
      "Epoch 55/200\n",
      "47/47 [==============================] - 8s 169ms/step - loss: 1.6738 - accuracy: 0.9274 - val_loss: 2.5653 - val_accuracy: 0.7078\n",
      "Epoch 56/200\n",
      "47/47 [==============================] - 9s 183ms/step - loss: 1.7086 - accuracy: 0.9274 - val_loss: 3.3885 - val_accuracy: 0.7024\n",
      "Epoch 57/200\n",
      "47/47 [==============================] - 8s 170ms/step - loss: 1.6756 - accuracy: 0.9261 - val_loss: 2.6902 - val_accuracy: 0.6863\n",
      "Epoch 58/200\n",
      "47/47 [==============================] - 9s 184ms/step - loss: 1.6147 - accuracy: 0.9402 - val_loss: 2.7129 - val_accuracy: 0.7292\n",
      "Epoch 59/200\n",
      "47/47 [==============================] - 8s 172ms/step - loss: 1.5481 - accuracy: 0.9328 - val_loss: 2.3106 - val_accuracy: 0.7480\n",
      "Epoch 60/200\n",
      "47/47 [==============================] - 9s 191ms/step - loss: 1.4162 - accuracy: 0.9556 - val_loss: 2.3255 - val_accuracy: 0.7453\n",
      "Epoch 61/200\n",
      "47/47 [==============================] - 8s 166ms/step - loss: 1.4921 - accuracy: 0.9402 - val_loss: 2.6804 - val_accuracy: 0.7051\n",
      "Epoch 62/200\n",
      "47/47 [==============================] - 8s 178ms/step - loss: 1.6064 - accuracy: 0.9301 - val_loss: 3.0808 - val_accuracy: 0.5791\n",
      "Epoch 63/200\n",
      "47/47 [==============================] - 8s 166ms/step - loss: 1.9335 - accuracy: 0.8884 - val_loss: 2.8754 - val_accuracy: 0.7373\n",
      "Epoch 64/200\n",
      "47/47 [==============================] - 8s 179ms/step - loss: 1.8811 - accuracy: 0.9328 - val_loss: 2.5289 - val_accuracy: 0.7560\n",
      "Epoch 65/200\n",
      "47/47 [==============================] - 8s 166ms/step - loss: 1.5948 - accuracy: 0.9395 - val_loss: 2.2964 - val_accuracy: 0.7587\n",
      "59/59 [==============================] - 3s 46ms/step\n",
      "59/59 [==============================] - 3s 39ms/step - loss: 2.2139 - accuracy: 0.7931\n",
      "Epoch 1/200\n",
      "47/47 [==============================] - 12s 198ms/step - loss: 2.2184 - accuracy: 0.7964 - val_loss: 2.2229 - val_accuracy: 0.7480\n",
      "Epoch 2/200\n",
      "47/47 [==============================] - 9s 198ms/step - loss: 1.6455 - accuracy: 0.8743 - val_loss: 1.8613 - val_accuracy: 0.7694\n",
      "Epoch 3/200\n",
      "47/47 [==============================] - 8s 180ms/step - loss: 1.5295 - accuracy: 0.8864 - val_loss: 1.9185 - val_accuracy: 0.7909\n",
      "Epoch 4/200\n",
      "47/47 [==============================] - 9s 189ms/step - loss: 1.6337 - accuracy: 0.8891 - val_loss: 2.2810 - val_accuracy: 0.7319\n",
      "Epoch 5/200\n",
      "47/47 [==============================] - 8s 179ms/step - loss: 1.6056 - accuracy: 0.8958 - val_loss: 2.0420 - val_accuracy: 0.7668\n",
      "Epoch 6/200\n",
      "47/47 [==============================] - 9s 184ms/step - loss: 1.5866 - accuracy: 0.9187 - val_loss: 2.3445 - val_accuracy: 0.6944\n",
      "Epoch 7/200\n",
      "47/47 [==============================] - 8s 172ms/step - loss: 1.6031 - accuracy: 0.9046 - val_loss: 2.2008 - val_accuracy: 0.7641\n",
      "Epoch 8/200\n",
      "47/47 [==============================] - 9s 190ms/step - loss: 1.7738 - accuracy: 0.8965 - val_loss: 2.4371 - val_accuracy: 0.7614\n",
      "Epoch 9/200\n",
      "47/47 [==============================] - 8s 175ms/step - loss: 1.6074 - accuracy: 0.9227 - val_loss: 2.1860 - val_accuracy: 0.7051\n",
      "Epoch 10/200\n",
      "47/47 [==============================] - 9s 186ms/step - loss: 1.5376 - accuracy: 0.9187 - val_loss: 2.0050 - val_accuracy: 0.8043\n",
      "Epoch 11/200\n",
      "47/47 [==============================] - 8s 169ms/step - loss: 1.5850 - accuracy: 0.9207 - val_loss: 2.3322 - val_accuracy: 0.7748\n",
      "Epoch 12/200\n",
      "47/47 [==============================] - 9s 183ms/step - loss: 1.4924 - accuracy: 0.9288 - val_loss: 2.1049 - val_accuracy: 0.7078\n",
      "Epoch 13/200\n",
      "47/47 [==============================] - 8s 169ms/step - loss: 1.5600 - accuracy: 0.9194 - val_loss: 2.2923 - val_accuracy: 0.7534\n",
      "Epoch 14/200\n",
      "47/47 [==============================] - 9s 185ms/step - loss: 1.6912 - accuracy: 0.8992 - val_loss: 2.7928 - val_accuracy: 0.5550\n",
      "Epoch 15/200\n",
      "47/47 [==============================] - 8s 176ms/step - loss: 1.8461 - accuracy: 0.9120 - val_loss: 2.4476 - val_accuracy: 0.7265\n",
      "Epoch 16/200\n",
      "47/47 [==============================] - 8s 173ms/step - loss: 1.6405 - accuracy: 0.9234 - val_loss: 2.4358 - val_accuracy: 0.7319\n",
      "Epoch 17/200\n",
      "47/47 [==============================] - 9s 182ms/step - loss: 1.5752 - accuracy: 0.9227 - val_loss: 2.1909 - val_accuracy: 0.7373\n",
      "Epoch 18/200\n",
      "47/47 [==============================] - 8s 172ms/step - loss: 1.4887 - accuracy: 0.9294 - val_loss: 2.3302 - val_accuracy: 0.6595\n",
      "Epoch 19/200\n",
      "47/47 [==============================] - 9s 183ms/step - loss: 1.7578 - accuracy: 0.9005 - val_loss: 3.0555 - val_accuracy: 0.5925\n",
      "Epoch 20/200\n",
      "47/47 [==============================] - 8s 164ms/step - loss: 1.7280 - accuracy: 0.9328 - val_loss: 2.4406 - val_accuracy: 0.7614\n",
      "Epoch 21/200\n",
      "47/47 [==============================] - 9s 183ms/step - loss: 1.5251 - accuracy: 0.9355 - val_loss: 2.3051 - val_accuracy: 0.6997\n",
      "Epoch 22/200\n",
      "47/47 [==============================] - 8s 177ms/step - loss: 1.4461 - accuracy: 0.9429 - val_loss: 2.6072 - val_accuracy: 0.7105\n",
      "Epoch 23/200\n",
      "47/47 [==============================] - 9s 183ms/step - loss: 1.4622 - accuracy: 0.9348 - val_loss: 2.0737 - val_accuracy: 0.7641\n",
      "Epoch 24/200\n",
      "47/47 [==============================] - 8s 172ms/step - loss: 1.5386 - accuracy: 0.9288 - val_loss: 5.0372 - val_accuracy: 0.3324\n",
      "Epoch 25/200\n",
      "47/47 [==============================] - 9s 184ms/step - loss: 1.8467 - accuracy: 0.8925 - val_loss: 6.7754 - val_accuracy: 0.3056\n",
      "Epoch 26/200\n",
      "47/47 [==============================] - 8s 168ms/step - loss: 1.9472 - accuracy: 0.9019 - val_loss: 2.5889 - val_accuracy: 0.7158\n",
      "Epoch 27/200\n",
      "47/47 [==============================] - 8s 179ms/step - loss: 1.5743 - accuracy: 0.9355 - val_loss: 2.7300 - val_accuracy: 0.6863\n",
      "Epoch 28/200\n",
      "47/47 [==============================] - 8s 170ms/step - loss: 1.5374 - accuracy: 0.9308 - val_loss: 3.2374 - val_accuracy: 0.5871\n",
      "Epoch 29/200\n",
      "47/47 [==============================] - 9s 190ms/step - loss: 1.4564 - accuracy: 0.9415 - val_loss: 2.4150 - val_accuracy: 0.6622\n",
      "Epoch 30/200\n",
      "47/47 [==============================] - 8s 175ms/step - loss: 1.4816 - accuracy: 0.9341 - val_loss: 2.2400 - val_accuracy: 0.7748\n",
      "Epoch 31/200\n",
      "47/47 [==============================] - 9s 183ms/step - loss: 1.5361 - accuracy: 0.9241 - val_loss: 2.2180 - val_accuracy: 0.7346\n",
      "Epoch 32/200\n",
      "47/47 [==============================] - 8s 171ms/step - loss: 1.5076 - accuracy: 0.9355 - val_loss: 2.3400 - val_accuracy: 0.6783\n",
      "Epoch 33/200\n",
      "47/47 [==============================] - 8s 167ms/step - loss: 1.5454 - accuracy: 0.9321 - val_loss: 2.4501 - val_accuracy: 0.6729\n",
      "Epoch 34/200\n",
      "47/47 [==============================] - 8s 181ms/step - loss: 1.6550 - accuracy: 0.9187 - val_loss: 3.0792 - val_accuracy: 0.4879\n",
      "Epoch 35/200\n",
      "47/47 [==============================] - 8s 171ms/step - loss: 1.4480 - accuracy: 0.9489 - val_loss: 2.6339 - val_accuracy: 0.6086\n",
      "Epoch 36/200\n",
      "47/47 [==============================] - 9s 186ms/step - loss: 1.4203 - accuracy: 0.9315 - val_loss: 2.1405 - val_accuracy: 0.7319\n",
      "Epoch 37/200\n",
      "47/47 [==============================] - 8s 168ms/step - loss: 1.5220 - accuracy: 0.9315 - val_loss: 2.3178 - val_accuracy: 0.7158\n",
      "Epoch 38/200\n",
      "47/47 [==============================] - 8s 179ms/step - loss: 1.4511 - accuracy: 0.9321 - val_loss: 2.1353 - val_accuracy: 0.7989\n",
      "Epoch 39/200\n",
      "47/47 [==============================] - 8s 163ms/step - loss: 1.3667 - accuracy: 0.9375 - val_loss: 2.1068 - val_accuracy: 0.8016\n",
      "Epoch 40/200\n",
      "47/47 [==============================] - 8s 176ms/step - loss: 1.3789 - accuracy: 0.9388 - val_loss: 2.1667 - val_accuracy: 0.7962\n",
      "Epoch 41/200\n",
      "47/47 [==============================] - 8s 162ms/step - loss: 1.3363 - accuracy: 0.9409 - val_loss: 2.1413 - val_accuracy: 0.7105\n",
      "Epoch 42/200\n",
      "47/47 [==============================] - 9s 182ms/step - loss: 1.3891 - accuracy: 0.9328 - val_loss: 2.5253 - val_accuracy: 0.6890\n",
      "Epoch 43/200\n",
      "47/47 [==============================] - 8s 168ms/step - loss: 1.5214 - accuracy: 0.9294 - val_loss: 2.0484 - val_accuracy: 0.8097\n",
      "Epoch 44/200\n",
      "47/47 [==============================] - 8s 179ms/step - loss: 1.3581 - accuracy: 0.9469 - val_loss: 2.2948 - val_accuracy: 0.7265\n",
      "Epoch 45/200\n",
      "47/47 [==============================] - 8s 165ms/step - loss: 1.2872 - accuracy: 0.9476 - val_loss: 2.0637 - val_accuracy: 0.7560\n",
      "Epoch 46/200\n",
      "47/47 [==============================] - 8s 178ms/step - loss: 1.3554 - accuracy: 0.9368 - val_loss: 2.1593 - val_accuracy: 0.7694\n",
      "Epoch 47/200\n",
      "47/47 [==============================] - 8s 166ms/step - loss: 1.3958 - accuracy: 0.9409 - val_loss: 2.5447 - val_accuracy: 0.6381\n",
      "Epoch 48/200\n",
      "47/47 [==============================] - 8s 176ms/step - loss: 1.3691 - accuracy: 0.9388 - val_loss: 2.0922 - val_accuracy: 0.7721\n",
      "Epoch 49/200\n",
      "47/47 [==============================] - 8s 167ms/step - loss: 1.3799 - accuracy: 0.9456 - val_loss: 2.0634 - val_accuracy: 0.7292\n",
      "Epoch 50/200\n",
      "47/47 [==============================] - 8s 171ms/step - loss: 1.2385 - accuracy: 0.9563 - val_loss: 2.0448 - val_accuracy: 0.7614\n",
      "Epoch 51/200\n",
      "47/47 [==============================] - 8s 180ms/step - loss: 1.3316 - accuracy: 0.9328 - val_loss: 2.0094 - val_accuracy: 0.7346\n",
      "Epoch 52/200\n",
      "47/47 [==============================] - 8s 170ms/step - loss: 1.4829 - accuracy: 0.9301 - val_loss: 3.9502 - val_accuracy: 0.5871\n",
      "Epoch 53/200\n",
      "47/47 [==============================] - 9s 194ms/step - loss: 1.4499 - accuracy: 0.9402 - val_loss: 2.3640 - val_accuracy: 0.7239\n",
      "Epoch 54/200\n",
      "47/47 [==============================] - 8s 174ms/step - loss: 1.3049 - accuracy: 0.9523 - val_loss: 2.1798 - val_accuracy: 0.7748\n",
      "Epoch 55/200\n",
      "47/47 [==============================] - 8s 175ms/step - loss: 1.2523 - accuracy: 0.9583 - val_loss: 2.0119 - val_accuracy: 0.7694\n",
      "Epoch 56/200\n",
      "47/47 [==============================] - 8s 160ms/step - loss: 1.2098 - accuracy: 0.9509 - val_loss: 1.8870 - val_accuracy: 0.7936\n",
      "Epoch 57/200\n",
      "47/47 [==============================] - 8s 181ms/step - loss: 1.3224 - accuracy: 0.9422 - val_loss: 2.1504 - val_accuracy: 0.7668\n",
      "Epoch 58/200\n",
      "47/47 [==============================] - 8s 176ms/step - loss: 1.4299 - accuracy: 0.9247 - val_loss: 2.4825 - val_accuracy: 0.6542\n",
      "Epoch 59/200\n",
      "47/47 [==============================] - 8s 174ms/step - loss: 1.4124 - accuracy: 0.9395 - val_loss: 2.1799 - val_accuracy: 0.7426\n",
      "Epoch 60/200\n",
      "47/47 [==============================] - 8s 166ms/step - loss: 1.4246 - accuracy: 0.9234 - val_loss: 2.1976 - val_accuracy: 0.7212\n",
      "Epoch 61/200\n",
      "47/47 [==============================] - 8s 177ms/step - loss: 1.4133 - accuracy: 0.9355 - val_loss: 1.9423 - val_accuracy: 0.8150\n",
      "Epoch 62/200\n",
      "47/47 [==============================] - 8s 161ms/step - loss: 1.3423 - accuracy: 0.9375 - val_loss: 2.0825 - val_accuracy: 0.7641\n",
      "Epoch 63/200\n",
      "47/47 [==============================] - 8s 181ms/step - loss: 1.2273 - accuracy: 0.9536 - val_loss: 2.4564 - val_accuracy: 0.7292\n",
      "Epoch 64/200\n",
      "47/47 [==============================] - 8s 162ms/step - loss: 1.1857 - accuracy: 0.9489 - val_loss: 2.4487 - val_accuracy: 0.7185\n",
      "Epoch 65/200\n",
      "47/47 [==============================] - 8s 174ms/step - loss: 1.2700 - accuracy: 0.9382 - val_loss: 2.0791 - val_accuracy: 0.7748\n",
      "Epoch 66/200\n",
      "47/47 [==============================] - 8s 169ms/step - loss: 1.3780 - accuracy: 0.9409 - val_loss: 2.1943 - val_accuracy: 0.7641\n",
      "Epoch 67/200\n",
      "47/47 [==============================] - 8s 162ms/step - loss: 1.2742 - accuracy: 0.9435 - val_loss: 3.4928 - val_accuracy: 0.4906\n",
      "Epoch 68/200\n",
      "47/47 [==============================] - 8s 173ms/step - loss: 1.1868 - accuracy: 0.9429 - val_loss: 2.3934 - val_accuracy: 0.7265\n",
      "Epoch 69/200\n",
      "47/47 [==============================] - 8s 162ms/step - loss: 1.2263 - accuracy: 0.9435 - val_loss: 2.0288 - val_accuracy: 0.7802\n",
      "Epoch 70/200\n",
      "47/47 [==============================] - 8s 174ms/step - loss: 1.1377 - accuracy: 0.9496 - val_loss: 1.8789 - val_accuracy: 0.7989\n",
      "Epoch 71/200\n",
      "47/47 [==============================] - 8s 168ms/step - loss: 1.1100 - accuracy: 0.9415 - val_loss: 2.0429 - val_accuracy: 0.7721\n",
      "Epoch 72/200\n",
      "47/47 [==============================] - 9s 189ms/step - loss: 1.2598 - accuracy: 0.9341 - val_loss: 1.9154 - val_accuracy: 0.7775\n",
      "Epoch 73/200\n",
      "47/47 [==============================] - 8s 176ms/step - loss: 1.3004 - accuracy: 0.9335 - val_loss: 1.9604 - val_accuracy: 0.7748\n",
      "59/59 [==============================] - 3s 49ms/step\n",
      "59/59 [==============================] - 3s 40ms/step - loss: 2.0494 - accuracy: 0.8028\n"
     ]
    }
   ],
   "source": [
    "# Abspeichern der Erebnisse jedes Splits für die Confusion-Matrix\n",
    "true_labels = list()\n",
    "pred_labels = list()\n",
    "train_accuracies = list()\n",
    "test_accuracies = list()\n",
    "val_accuracies = list()\n",
    "train_losses = list()\n",
    "val_losses = list()\n",
    "test_losses = list()\n",
    "\n",
    "for train_indezes, test_indezes in kfold.split(X, y):\n",
    "    # wir löschen das Model der letzten Iteration aus dem Cache um RAM zu sparen\n",
    "    K.clear_session()\n",
    "\n",
    "    # Daten splitten\n",
    "    X_train, y_train, X_val, y_val, X_test, y_test = train_val_test_split(train_indezes, test_indezes)\n",
    "\n",
    "    # Resample nur Trainings- und Validationmenge\n",
    "    #X_train, y_train = resample_after_split(X_train, y_train)\n",
    "    #X_val, y_val = resample_after_split(X_val, y_val)\n",
    "\n",
    "    optimizers = create_optimizers(len(X_train))\n",
    "    \n",
    "    # Das Model wird hier compiled, damit wir nach jeder Iteration das alte Model aus dem Cache löschen können  Adam(0.001)\n",
    "    model.compile(optimizer=optimizers['adam'], loss=\"sparse_categorical_crossentropy\", metrics=[\"accuracy\"])\n",
    "    history = fit_model(model, X_train, y_train, X_val, y_val)\n",
    "\n",
    "    # Für die Confusion Matrix\n",
    "    predictions = np.argmax(model.predict(X_test), axis=-1)\n",
    "    true_labels.extend(y_test)\n",
    "    pred_labels.extend(predictions)\n",
    "\n",
    "    # Für die Accuracy-Curves\n",
    "    train_accuracies.extend(history.history['accuracy'])\n",
    "    val_accuracies.extend(history.history['val_accuracy'])\n",
    "\n",
    "    # Für die Loss-Curves\n",
    "    train_losses.extend(history.history['loss'])\n",
    "    val_losses.extend(history.history['val_loss'])\n",
    "\n",
    "    loss, accuracy = model.evaluate(X_test, y_test)\n",
    "    test_accuracies.append(accuracy)\n",
    "    test_losses.append(loss)"
   ]
  },
  {
   "cell_type": "markdown",
   "metadata": {},
   "source": [
    "#### VGG19 und ResNet50 als Vergleich\n",
    "\n",
    "**Hinweis:** Um die Lesbarkeit zu verbessern stehen die beiden Modelle in eigenen Stellen. Natürlich wäre das Ergebnis noch ein klein bisschen aussagekräftiger, weniger rechenintensiv und RAM sparrender, wenn wir die Splits unseres eigenen Models wiederverwenden würden"
   ]
  },
  {
   "cell_type": "markdown",
   "metadata": {},
   "source": [
    "##### VGG19"
   ]
  },
  {
   "cell_type": "code",
   "execution_count": 16,
   "metadata": {
    "scrolled": true
   },
   "outputs": [
    {
     "name": "stdout",
     "output_type": "stream",
     "text": [
      "Epoch 1/200\n",
      "47/47 [==============================] - 153s 3s/step - loss: 4.6000 - accuracy: 0.6539 - val_loss: 5.9126 - val_accuracy: 0.6005\n",
      "Epoch 2/200\n",
      "47/47 [==============================] - 156s 3s/step - loss: 2.9735 - accuracy: 0.7883 - val_loss: 4.6974 - val_accuracy: 0.4718\n",
      "Epoch 3/200\n",
      " 1/47 [..............................] - ETA: 2:02 - loss: 2.2683 - accuracy: 0.8750"
     ]
    },
    {
     "name": "stderr",
     "output_type": "stream",
     "text": [
      "\n",
      "KeyboardInterrupt\n",
      "\n"
     ]
    }
   ],
   "source": [
    "early_stopping = EarlyStopping(monitor='val_accuracy', patience=30, min_delta=0.001, start_from_epoch=15, restore_best_weights=True)\n",
    "epochs = 200\n",
    "batch_size = 32\n",
    "\n",
    "vgg19_test_accuracies = list()\n",
    "\n",
    "base_model = VGG19(weights='imagenet', include_top=False, input_shape=image_shape)\n",
    "\n",
    "# Convolution-Teil fixieren\n",
    "for layer in base_model.layers:\n",
    "    layer.trainable = False\n",
    "\n",
    "model = tf.keras.models.Sequential()\n",
    "model.add(base_model)\n",
    "model.add(tf.keras.layers.Flatten())\n",
    "model.add(tf.keras.layers.Dense(256, activation='relu', kernel_regularizer=regularizers.l2(weight_decay_alpha)))\n",
    "model.add(tf.keras.layers.BatchNormalization())\n",
    "model.add(tf.keras.layers.Dropout(dropout_rate))\n",
    "model.add(tf.keras.layers.Dense(128, activation='relu', kernel_regularizer=regularizers.l2(weight_decay_alpha)))\n",
    "model.add(tf.keras.layers.BatchNormalization())\n",
    "model.add(tf.keras.layers.Dropout(dropout_rate))\n",
    "model.add(tf.keras.layers.Dense(6, activation='softmax'))\n",
    "\n",
    "model.compile(optimizer='adam', loss='sparse_categorical_crossentropy', metrics=['accuracy'])\n",
    "\n",
    "for train_indezes, test_indezes in kfold.split(X, y):\n",
    "    K.clear_session()\n",
    "    X_train, y_train = tf.convert_to_tensor(X[train_indezes]), tf.convert_to_tensor(y[train_indezes])\n",
    "    X_test, y_test = tf.convert_to_tensor(X[test_indezes]), tf.convert_to_tensor(y[test_indezes])\n",
    "    history = model.fit(X_train, y_train, batch_size=batch_size, callbacks=[early_stopping], epochs=epochs, validation_split=0.2, verbose=1)\n",
    "    _, accuracy = model.evaluate(X_test, y_test)\n",
    "    vgg19_test_accuracies.append(accuracy)"
   ]
  },
  {
   "cell_type": "markdown",
   "metadata": {},
   "source": [
    "##### ResNet50"
   ]
  },
  {
   "cell_type": "code",
   "execution_count": null,
   "metadata": {},
   "outputs": [],
   "source": [
    "early_stopping = EarlyStopping(monitor='val_accuracy', patience=30, min_delta=0.001, start_from_epoch=15, restore_best_weights=True)\n",
    "epochs = 200\n",
    "batch_size = 32\n",
    "\n",
    "resnet50_test_accuracies = list()\n",
    "\n",
    "base_model = ResNet50(weights='imagenet', include_top=False, input_shape=image_shape)\n",
    "\n",
    "# Convolution-Teil fixieren\n",
    "for layer in base_model.layers:\n",
    "    layer.trainable = False\n",
    "\n",
    "model = tf.keras.layers.Sequential()\n",
    "model.add(base_model)\n",
    "model.add(tf.keras.layers.Flatten())\n",
    "model.add(tf.keras.layers.Dense(256, activation='relu', kernel_regularizer=regularizers.l2(weight_decay_alpha)))\n",
    "model.add(tf.keras.layers.BatchNormalization())\n",
    "model.add(tf.keras.layers.Dropout(dropout_rate))\n",
    "model.add(tf.keras.layers.Dense(128, activation='relu', kernel_regularizer=regularizers.l2(weight_decay_alpha)))\n",
    "model.add(tf.keras.layers.BatchNormalization())\n",
    "model.add(tf.keras.layers.Dropout(dropout_rate))\n",
    "model.add(tf.keras.layers.Dense(6, activation='softmax'))\n",
    "\n",
    "model.compile(optimizer='adam', loss='sparse_categorical_crossentropy', metrics=['accuracy'])\n",
    "\n",
    "for train_indezes, test_indezes in kfold.split(X, y):\n",
    "    K.clear_session()\n",
    "    X_train, y_train = tf.convert_to_tensor(X[train_indezes]), tf.convert_to_tensor(y[train_indezes])\n",
    "    X_test, y_test = tf.convert_to_tensor(X[test_indezes]), tf.convert_to_tensor(y[test_indezes])\n",
    "    history = model.fit(X_train, y_train, batch_size=batch_size, callbacks=[early_stopping], epochs=epochs, validation_split=0.2, verbose=1)\n",
    "    _, accuracy = model.evaluate(X_test, y_test)\n",
    "    resnet50_test_accuracies.append(accuracy)"
   ]
  },
  {
   "cell_type": "markdown",
   "metadata": {},
   "source": [
    "#### Confusion Matrix"
   ]
  },
  {
   "cell_type": "markdown",
   "metadata": {},
   "source": [
    "Man kann klar erkennen, je weniger Datenpunkte vorhanden desto schlechter ist die Klassifikation. Leider konnten wir, wie bereits erwähnt ohne Domänenwissen und den eingeschränkten Mitteln das Problem nicht lösen."
   ]
  },
  {
   "cell_type": "code",
   "execution_count": 17,
   "metadata": {},
   "outputs": [
    {
     "data": {
      "image/png": "[encoded data removed]",
      "text/plain": [
       "<Figure size 800x600 with 2 Axes>"
      ]
     },
     "metadata": {},
     "output_type": "display_data"
    }
   ],
   "source": [
    "confusion_matrix = confusion_matrix(true_labels, pred_labels)\n",
    "fig, ax = plt.subplots(figsize=(8, 6))\n",
    "cm_display = ConfusionMatrixDisplay(confusion_matrix, display_labels=classes)\n",
    "cm_display.plot(ax=ax, cmap=plt.cm.Blues)\n",
    "plt.title('Confusion Matrix')\n",
    "plt.xlabel('Predicted Label')\n",
    "plt.ylabel('True Label')\n",
    "plt.show()"
   ]
  },
  {
   "cell_type": "markdown",
   "metadata": {},
   "source": [
    "#### Trainings- und Validationkurve plotten"
   ]
  },
  {
   "cell_type": "code",
   "execution_count": 18,
   "metadata": {},
   "outputs": [
    {
     "data": {
      "image/png": "[encoded data removed]",
      "text/plain": [
       "<Figure size 1200x400 with 2 Axes>"
      ]
     },
     "metadata": {},
     "output_type": "display_data"
    }
   ],
   "source": [
    "epochs = len(train_losses)\n",
    "plt.figure(figsize=(12, 4))\n",
    "\n",
    "# Plotting Loss curves\n",
    "plt.subplot(1, 2, 1)\n",
    "plt.plot(range(1, epochs + 1), train_losses, label='Training Loss')\n",
    "plt.plot(range(1, epochs + 1), val_losses, label='Validation Loss')\n",
    "plt.title('Training and Validation Loss')\n",
    "plt.xlabel('Epochs')\n",
    "plt.ylabel('Loss')\n",
    "plt.legend()\n",
    "\n",
    "# Plotting Accuracy curves\n",
    "plt.subplot(1, 2, 2)\n",
    "plt.plot(range(1, epochs + 1), train_accuracies, label='Training Accuracy')\n",
    "plt.plot(range(1, epochs + 1), val_accuracies, label='Validation Accuracy')\n",
    "plt.title('Training and Validation Accuracy')\n",
    "plt.xlabel('Epochs')\n",
    "plt.ylabel('Accuracy')\n",
    "plt.legend()\n",
    "\n",
    "plt.tight_layout()\n",
    "plt.savefig(\"./cnn_files/loss_and_accuraccy.png\")\n",
    "plt.show()"
   ]
  },
  {
   "cell_type": "markdown",
   "metadata": {},
   "source": [
    "#### Ergebnisse"
   ]
  },
  {
   "cell_type": "markdown",
   "metadata": {},
   "source": [
    "|Durchführung|Avg. Test Acc|\n",
    "|:-|-:|\n",
    "|**VGG19**|\n",
    "| Kein Resample, top 6 classes (> 60), vgg19| 82% |\n",
    "| Kein Resample, top 4 classes (>200), vgg19| 83% |\n",
    "| Kein Resample, top 2 classes (>500), vgg19| 91% |\n",
    "|---------------|\n",
    "|**ResNet50**|\n",
    "| Kein Resample, top 6 classes (> 60), resNet50| 70% |\n",
    "| Kein Resample, top 4 classes (>200), resNet50| 74% |\n",
    "| Kein Resample, top 2 classes (>500), resNet50| 84% |\n",
    "|---------------|\n",
    "|**Unser Modell**|\n",
    "| Kein Resample, top 6 classes (> 60), cnn  | 79% |\n",
    "| Kein Resample, top 4 classes (>200), cnn  | 83% |\n",
    "| Kein Resample, top 2 classes (>500), cnn  | 87% |"
   ]
  },
  {
   "cell_type": "code",
   "execution_count": 19,
   "metadata": {},
   "outputs": [
    {
     "name": "stdout",
     "output_type": "stream",
     "text": [
      "Unser Modell:\n",
      "Avg. Val Accuracy: 0.6700858701344418\n",
      "Best Val Accuracy: 0.8150134086608887\n",
      "Avg. Test Accuracy: 0.797958105802536\n",
      "Best Test Accuracy: 0.8027942180633545\n",
      "Avg. Test Loss: 2.1316741704940796\n"
     ]
    }
   ],
   "source": [
    "#print(f\"VGG19 Avg. test accuracy: {sum(vgg19_test_accuracies) / len(vgg19_test_accuracies)}\")\n",
    "#print(f\"ResNet50 Avg. test accuracy: {sum(vgg19_test_accuracies) / len(vgg19_test_accuracies)}\")\n",
    "\n",
    "print(\"Unser Modell:\")\n",
    "print(f\"Avg. Val Accuracy: {sum(val_accuracies) / len(val_accuracies)}\")\n",
    "print(f\"Best Val Accuracy: {max(val_accuracies)}\")\n",
    "print(f\"Avg. Test Accuracy: {sum(test_accuracies) / len(test_accuracies)}\")\n",
    "print(f\"Best Test Accuracy: {max(test_accuracies)}\")\n",
    "print(f\"Avg. Test Loss: {sum(test_losses) / len(test_losses)}\")"
   ]
  },
  {
   "cell_type": "code",
   "execution_count": null,
   "metadata": {},
   "outputs": [],
   "source": []
  }
 ],
 "metadata": {
  "kernelspec": {
   "display_name": "Python 3 (ipykernel)",
   "language": "python",
   "name": "python3"
  },
  "language_info": {
   "codemirror_mode": {
    "name": "ipython",
    "version": 3
   },
   "file_extension": ".py",
   "mimetype": "text/x-python",
   "name": "python",
   "nbconvert_exporter": "python",
   "pygments_lexer": "ipython3",
   "version": "3.11.6"
  }
 },
 "nbformat": 4,
 "nbformat_minor": 4
}
